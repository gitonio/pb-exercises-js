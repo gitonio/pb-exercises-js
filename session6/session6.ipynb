{
 "cells": [
  {
   "cell_type": "code",
   "execution_count": 4,
   "metadata": {},
   "outputs": [],
   "source": [
    "// import everything and define a test runner function\n",
    "var helper = require('./helper')\n",
    "var ecc = require('./ecc')\n",
    "var BN = require('bn.js')\n",
    "var tx = require('./tx.js')\n",
    "var Readable = require('stream').Readable\n",
    "var script = require('./script.js')\n",
    "var block = require('./block.js')\n",
    "var clearModule = require('clear-module')"
   ]
  },
  {
   "cell_type": "markdown",
   "metadata": {},
   "source": [
    "### Exercise 1\n",
    "\n",
    "#### 1.1. Make [this test](/edit/session6/tx.py) pass\n",
    "```\n",
    "tx.py:TxTest:test_is_coinbase\n",
    "```"
   ]
  },
  {
   "cell_type": "code",
   "execution_count": 5,
   "metadata": {},
   "outputs": [
    {
     "name": "stdout",
     "output_type": "stream",
     "text": [
      "\n",
      "\n",
      "  TxTest\n",
      "    √ test_is_coinbase\n",
      "\n",
      "\n",
      "  1 passing (17ms)\n",
      "\n"
     ]
    }
   ],
   "source": [
    "//# Exercise 1.1\n",
    "\n",
    "clearModule.all()\n",
    "helper.runTest('test_is_coinbase')"
   ]
  },
  {
   "cell_type": "markdown",
   "metadata": {},
   "source": [
    "### Exercise 2\n",
    "\n",
    "#### 2.1. Make [this test](/edit/session6/tx.py) pass\n",
    "```\n",
    "tx.py:TxTest:test_coinbase_height\n",
    "```"
   ]
  },
  {
   "cell_type": "code",
   "execution_count": 6,
   "metadata": {},
   "outputs": [
    {
     "name": "stdout",
     "output_type": "stream",
     "text": [
      "\n",
      "\n",
      "  TxTest\n",
      "    √ test_coinbase_height\n",
      "\n",
      "\n",
      "  1 passing (7ms)\n",
      "\n"
     ]
    }
   ],
   "source": [
    "//# Exercise 2.1\n",
    "\n",
    "clearModule.all()\n",
    "helper.runTest('test_coinbase_height')\n"
   ]
  },
  {
   "cell_type": "markdown",
   "metadata": {},
   "source": [
    "### Exercise 3\n",
    "\n",
    "#### 3.1. Find the output address corresponding to this ScriptPubKey\n",
    "```\n",
    "76a914338c84849423992471bffb1a54a8d9b1d69dc28a88ac\n",
    "```\n",
    "\n",
    "Remember the structure of pay-to-pubkey-hash (p2pkh) which has `OP_DUP OP_HASH160 <hash> OP_EQUALVERIFY OP_CHECKSIG`.\n",
    "\n",
    "You need to grab the hash160 and turn that into an address.\n",
    "\n",
    "#### 3.2. Make [this test](/edit/session6/script.py) pass\n",
    "```\n",
    "script.py:ScriptTest:test_address\n",
    "```"
   ]
  },
  {
   "cell_type": "code",
   "execution_count": 7,
   "metadata": {},
   "outputs": [
    {
     "name": "stdout",
     "output_type": "stream",
     "text": [
      "Exercise 3.1\n",
      "15hZo812Lx266Dot6T52krxpnhrNiaqHya\n"
     ]
    }
   ],
   "source": [
    "// Exercise 3.1\n",
    "console.log('Exercise 3.1')\n",
    "hexScriptPubkey = '76a914338c84849423992471bffb1a54a8d9b1d69dc28a88ac';\n",
    "scriptPubkey = Buffer.from(hexScriptPubkey,'hex')\n",
    "s = script.Script.parse(scriptPubkey)\n",
    "h160 = s.elements[2]\n",
    "console.log(helper.h160ToP2pkhAddress(h160))\n",
    "//15hZo812Lx266Dot6T52krxpnhrNiaqHya"
   ]
  },
  {
   "cell_type": "code",
   "execution_count": 8,
   "metadata": {},
   "outputs": [
    {
     "name": "stdout",
     "output_type": "stream",
     "text": [
      "\n",
      "\n",
      "  0 passing (1ms)\n",
      "\n"
     ]
    }
   ],
   "source": [
    "//# Exercise 3.2\n",
    "\n",
    "clearModule.all()\n",
    "helper.runTest('test_address')\n"
   ]
  },
  {
   "cell_type": "markdown",
   "metadata": {},
   "source": [
    "### Exercise 4\n",
    "\n",
    "#### 4.1. What is the double_sha256 of this block? Notice anything?\n",
    "```\n",
    "020000208ec39428b17323fa0ddec8e887b4a7c53b8c0a0a220cfd0000000000000000005b0750fce0a889502d40508d39576821155e9c9e3f5c3157f961db38fd8b25be1e77a759e93c0118a4ffd71d\n",
    "```\n",
    "\n",
    "#### 4.2. Make [these tests](/edit/session6/block.py) pass.\n",
    "```\n",
    "block.py:BlockTest:test_parse\n",
    "block.py:BlockTest:test_serialize\n",
    "block.py:BlockTest:test_hash\n",
    "```"
   ]
  },
  {
   "cell_type": "code",
   "execution_count": 9,
   "metadata": {},
   "outputs": [
    {
     "name": "stdout",
     "output_type": "stream",
     "text": [
      "\n",
      "Exercise 4.1\n",
      "2375044d646ad73594dd0b37b113becdb03964584c9e7e000000000000000000\n"
     ]
    }
   ],
   "source": [
    "// Exercise 4.1\n",
    "console.log('\\nExercise 4.1')\n",
    "hexBlock = '020000208ec39428b17323fa0ddec8e887b4a7c53b8c0a0a220cfd0000000000000000005b0750fce0a889502d40508d39576821155e9c9e3f5c3157f961db38fd8b25be1e77a759e93c0118a4ffd71d'\n",
    "binBlock = Buffer.from(hexBlock,'hex')\n",
    "result = helper.doubleSha256(binBlock)\n",
    "console.log(result)\n",
    "\n",
    "//2375044d646ad73594dd0b37b113becdb03964584c9e7e000000000000000000\n"
   ]
  },
  {
   "cell_type": "code",
   "execution_count": 11,
   "metadata": {
    "scrolled": true
   },
   "outputs": [
    {
     "name": "stdout",
     "output_type": "stream",
     "text": [
      "\n",
      "\n",
      "\n",
      "\n",
      "\n",
      "\n",
      "  BlockTest\n",
      "  BlockTest\n",
      "  BlockTest\n",
      "    √ test_parse_block\n",
      "    √ test_serialize_block\n",
      "    √ test_hash_block\n",
      "\n",
      "\n",
      "\n",
      "\n",
      "  1 passing (4s)\n",
      "\n",
      "\n",
      "  1 passing (2s)\n",
      "\n",
      "\n",
      "  1 passing (57ms)\n",
      "\n"
     ]
    }
   ],
   "source": [
    "//# Exercise 4.2\n",
    "\n",
    "clearModule.all()\n",
    "helper.runTest('test_parse_block')\n",
    "clearModule.all()\n",
    "helper.runTest('test_serialize_block')\n",
    "clearModule.all()\n",
    "helper.runTest('test_hash_block')"
   ]
  },
  {
   "cell_type": "code",
   "execution_count": 12,
   "metadata": {},
   "outputs": [
    {
     "name": "stdout",
     "output_type": "stream",
     "text": [
      "\n",
      "Version Signaling Example\n",
      "BIP9:  true\n",
      "BIP91:  false\n",
      "BIP141:  true\n"
     ]
    }
   ],
   "source": [
    "// Version Signaling Example\n",
    "console.log('\\nVersion Signaling Example')\n",
    "readable = new Readable()\n",
    "readable.push(binBlock)\n",
    "readable.push(null)\n",
    "   \n",
    "b = block.Block.parse(readable)\n",
    "version = b.version\n",
    "console.log('BIP9: ', (version >> 29) == 1)\n",
    "console.log('BIP91: ', (version >> 4 & 1) == 1)\n",
    "console.log('BIP141: ', (version >> 1 & 1) == 1)\n",
    "\n",
    "//BIP9: True\n",
    "//BIP91: False\n",
    "//BIP141: True\n"
   ]
  },
  {
   "cell_type": "markdown",
   "metadata": {},
   "source": [
    "### Exercise 5\n",
    "\n",
    "#### 5.1. Make [these tests](/edit/session6/block.py) pass.\n",
    "```\n",
    "block.py:BlockTest:test_bip9\n",
    "block.py:BlockTest:test_bip91\n",
    "block.py:BlockTest:test_bip141\n",
    "```"
   ]
  },
  {
   "cell_type": "code",
   "execution_count": 13,
   "metadata": {},
   "outputs": [
    {
     "name": "stdout",
     "output_type": "stream",
     "text": [
      "\n",
      "\n",
      "\n",
      "\n",
      "\n",
      "\n"
     ]
    },
    {
     "name": "stderr",
     "output_type": "stream",
     "text": [
      "(node:18344) MaxListenersExceededWarning: Possible EventEmitter memory leak detected. 11 exit listeners added. Use emitter.setMaxListeners() to increase limit\n"
     ]
    },
    {
     "name": "stdout",
     "output_type": "stream",
     "text": [
      "  BlockTest\n",
      "  BlockTest\n",
      "  BlockTest\n",
      "    √ test_bip9\n",
      "    √ test_bip91\n",
      "    √ test_bip141\n",
      "    √ test_bip91\n",
      "\n",
      "\n",
      "\n",
      "\n",
      "  1 passing (2s)\n",
      "\n",
      "\n",
      "  1 passing (17ms)\n",
      "\n",
      "\n",
      "  2 passing (5s)\n",
      "\n"
     ]
    }
   ],
   "source": [
    "//# Exercise 5.1\n",
    "\n",
    "clearModule.all()\n",
    "helper.runTest('test_bip9')\n",
    "clearModule.all()\n",
    "helper.runTest('test_bip91')\n",
    "clearModule.all()\n",
    "helper.runTest('test_bip141')"
   ]
  },
  {
   "cell_type": "code",
   "execution_count": 14,
   "metadata": {},
   "outputs": [
    {
     "name": "stdout",
     "output_type": "stream",
     "text": [
      "\n",
      "Calculating Target from Bits Example\n",
      "13ce9000000000000000000000000000000000000000000\n"
     ]
    }
   ],
   "source": [
    "console.log('\\nCalculating Target from Bits Example')\n",
    "bits = Buffer.from('e93c0118','hex')\n",
    "let exponent = new BN(bits[bits.length-1])\n",
    "let coefficient = new BN(helper.littleEndianToInt(bits.slice(0,3)))\n",
    "target = (new BN(2)).pow(exponent.subn(3).muln(8)).mul(coefficient) \n",
    "console.log(target.toString(16))\n",
    "\n",
    "//0000000000000000013ce9000000000000000000000000000000000000000000\n"
   ]
  },
  {
   "cell_type": "code",
   "execution_count": 15,
   "metadata": {},
   "outputs": [
    {
     "name": "stdout",
     "output_type": "stream",
     "text": [
      "\n",
      "Calculating Difficulty from Target Example\n",
      "ffff0000000000000000000000000000000000000000000000000000\n",
      "888171856257\n"
     ]
    }
   ],
   "source": [
    "console.log('\\nCalculating Difficulty from Target Example')\n",
    "bitsMin = Buffer.from('ffff001d','hex')\n",
    "exponentMin = new BN(bitsMin[bitsMin.length-1])\n",
    "coefficientMin = new BN(helper.littleEndianToInt(bitsMin.slice(0,3)))\n",
    "min = (new BN(2)).pow(exponentMin.subn(3).muln(8)).mul(coefficientMin)\n",
    "//console.log(min.toString(16))\n",
    "\n",
    "difficulty = min.div(target)\n",
    "console.log(difficulty.toString(10))\n",
    "\n",
    "//888171856257"
   ]
  },
  {
   "cell_type": "markdown",
   "metadata": {},
   "source": [
    "### Exercise 6\n",
    "\n",
    "#### 6.1. Calculate the target and difficulty for these bits:\n",
    "```\n",
    "f2881718\n",
    "```\n",
    "\n",
    "Bits to target formula is \n",
    "\n",
    "\\\\(coefficient\\cdot256^{(exponent-3)}\\\\) \n",
    "\n",
    "where coefficient is the first three bytes in little endian and exponent is the last byte.\n",
    "\n",
    "Target to Difficulty formula is \n",
    "\n",
    "\\\\(difficulty = min / target\\\\)\n",
    "\n",
    "where \\\\(min = 0xffff\\cdot256^{(0x1d-3)}\\\\)\n",
    "\n",
    "#### 6.2. Make [this test](/edit/session6/block.py) pass.\n",
    "```\n",
    "block.py:BlockTest:test_target\n",
    "```"
   ]
  },
  {
   "cell_type": "code",
   "execution_count": 19,
   "metadata": {},
   "outputs": [
    {
     "name": "stdout",
     "output_type": "stream",
     "text": [
      "\n",
      "Exercise 6.1\n",
      "1788f2000000000000000000000000000000000000000000\n",
      "46717549644\n"
     ]
    }
   ],
   "source": [
    "// Exercise 6.1\n",
    "console.log('\\nExercise 6.1')\n",
    "\n",
    "//# bytes.fromhex to get the bits\n",
    "bits = Buffer.from('f2881718','hex')\n",
    "//# last byte is exponent\n",
    "exponent = new BN(bits[bits.length-1])\n",
    "//# first three bytes are the coefficient in little endian\n",
    "coefficient = new BN(helper.littleEndianToInt(bits.slice(0,3)))\n",
    "//# plug into formula coefficient * 2^(8*(exponent-3)) to get the target\n",
    "target = (new BN(2)).pow(exponent.subn(3).muln(8)).mul(coefficient) \n",
    "//# print target using print('{:x}'.format(target).zfill(64))\n",
    "//print('{:x}'.format(target).zfill(64))\n",
    "console.log(target.toString(16))\n",
    "\n",
    "//# do the same for the min_bits for min target\n",
    "bitsMin = Buffer.from('ffff001d','hex')\n",
    "exponentMin = new BN(bitsMin[bitsMin.length-1])\n",
    "coefficientMin = new BN(helper.littleEndianToInt(bitsMin.slice(0,3)))\n",
    "//min_target = min_coefficient * 256**(min_exponent-3)\n",
    "min = (new BN(256)).pow(exponentMin.subn(3)).mul(coefficientMin)\n",
    "\n",
    "\n",
    "//# difficulty is min target / target\n",
    "difficulty = min.div(target)\n",
    "console.log(difficulty.toString(10))\n",
    "//00000000000000001788f2000000000000000000000000000000000000000000\n",
    "//46717549644.70642"
   ]
  },
  {
   "cell_type": "code",
   "execution_count": 20,
   "metadata": {},
   "outputs": [
    {
     "name": "stdout",
     "output_type": "stream",
     "text": [
      "\n",
      "\n",
      "  BlockTest\n",
      "    √ test_target\n",
      "\n",
      "\n",
      "  1 passing (7ms)\n",
      "\n"
     ]
    }
   ],
   "source": [
    "//# Exercise 6.2\n",
    "\n",
    "clearModule.all()\n",
    "helper.runTest('test_target')"
   ]
  },
  {
   "cell_type": "markdown",
   "metadata": {},
   "source": [
    "### Exercise 7\n",
    "\n",
    "#### 7.1.Validate the proof-of-work for this block\n",
    "```\n",
    "04000000fbedbbf0cfdaf278c094f187f2eb987c86a199da22bbb20400000000000000007b7697b29129648fa08b4bcd13c9d5e60abb973a1efac9c8d573c71c807c56c3d6213557faa80518c3737ec1\n",
    "```\n",
    "\n",
    "Check that the proof-of-work (double-sha256 interpreted as a little-endian number) is lower than the target.\n",
    "\n",
    "#### 7.2. Make [this test](/edit/session6/block.py) pass.\n",
    "```\n",
    "block.py:BlockTest:test_check_pow\n",
    "```"
   ]
  },
  {
   "cell_type": "code",
   "execution_count": 21,
   "metadata": {},
   "outputs": [
    {
     "name": "stdout",
     "output_type": "stream",
     "text": [
      "\n",
      "Exercise 7.1\n"
     ]
    },
    {
     "ename": "Error",
     "evalue": "Number can only safely store up to 53 bits",
     "output_type": "error",
     "traceback": [
      "C:\\Users\\as0218\\Documents\\pb-exercises-jsnb\\node_modules\\bn.js\\lib\\bn.js:6",
      "    if (!val) throw new Error(msg || 'Assertion failed');",
      "              ^",
      "",
      "Error: Number can only safely store up to 53 bits",
      "    at assert (C:\\Users\\as0218\\Documents\\pb-exercises-jsnb\\node_modules\\bn.js\\lib\\bn.js:6:21)",
      "    at BN.toNumber (C:\\Users\\as0218\\Documents\\pb-exercises-jsnb\\node_modules\\bn.js\\lib\\bn.js:506:7)",
      "    at Object.littleEndianToInt (C:\\Users\\as0218\\Documents\\pb-exercises-jsnb\\session6\\helper.js:153:57)",
      "    at evalmachine.<anonymous>:24:16",
      "    at ContextifyScript.Script.runInThisContext (vm.js:50:33)",
      "    at Object.runInThisContext (vm.js:139:38)",
      "    at run ([eval]:1002:15)",
      "    at onRunRequest ([eval]:829:18)",
      "    at onMessage ([eval]:789:13)",
      "    at emitTwo (events.js:126:13)"
     ]
    }
   ],
   "source": [
    "\n",
    "//# bytes.fromhex to get the binary block\n",
    "//bin_block = bytes.fromhex(hex_block)\n",
    "//# make a stream using BytesIO\n",
    "//stream = BytesIO(bin_block)\n",
    "//# parse the Block\n",
    "//b = Block.parse(stream)\n",
    "\n",
    "//# double_sha256 the serialization\n",
    "//sha = double_sha256(b.serialize())\n",
    "//# interpret the result as a number in little endian\n",
    "//proof = little_endian_to_int(sha)\n",
    "//# get the target\n",
    "//target = b.target()\n",
    "//# check proof of work < target\n",
    "//print(proof < target)\n",
    "\n",
    "// Exercise 7.1\n",
    "console.log('\\nExercise 7.1')\n",
    "\n",
    "hexBlock = '04000000fbedbbf0cfdaf278c094f187f2eb987c86a199da22bbb20400000000000000007b7697b29129648fa08b4bcd13c9d5e60abb973a1efac9c8d573c71c807c56c3d6213557faa80518c3737ec1'\n",
    "binBlock = Buffer.from(hexBlock,'hex')\n",
    "sha = Buffer.from( helper.doubleSha256(binBlock),'hex' )\n",
    "proof = helper.littleEndianToInt(sha)\n",
    "console.log(proof)\n",
    "\n",
    "// Version Signaling Example\n",
    "readable = new Readable()\n",
    "readable.push(binBlock)\n",
    "readable.push(null)\n",
    "   \n",
    "b = block.Block.parse(readable)\n",
    "target = b.target()\n",
    "console.log(proof < target)"
   ]
  },
  {
   "cell_type": "code",
   "execution_count": 23,
   "metadata": {},
   "outputs": [
    {
     "name": "stdout",
     "output_type": "stream",
     "text": [
      "\n",
      "\n",
      "  BlockTest\n",
      "    1) test_check_pow\n",
      "\n",
      "\n",
      "  0 passing (8ms)\n",
      "  1 failing\n",
      "\n",
      "  1) BlockTest\n",
      "       test_check_pow:\n",
      "     Error: Number can only safely store up to 53 bits\n",
      "      at assert (C:\\Users\\as0218\\Documents\\pb-exercises-jsnb\\node_modules\\bn.js\\lib\\bn.js:6:21)\n",
      "      at BN.toNumber (C:\\Users\\as0218\\Documents\\pb-exercises-jsnb\\node_modules\\bn.js\\lib\\bn.js:506:7)\n",
      "      at Object.littleEndianToInt (C:\\Users\\as0218\\Documents\\pb-exercises-jsnb\\helper.js:153:57)\n",
      "      at Block.checkPOW (C:\\Users\\as0218\\Documents\\pb-exercises-jsnb\\block.js:109:30)\n",
      "      at Context.<anonymous> (C:\\Users\\as0218\\Documents\\pb-exercises-jsnb\\test\\block.test.js:95:25)\n",
      "\n",
      "\n",
      "\n"
     ]
    }
   ],
   "source": [
    "//# Exercise 7.2\n",
    "\n",
    "clearModule.all()\n",
    "helper.runTest('test_check_pow')"
   ]
  },
  {
   "cell_type": "code",
   "execution_count": null,
   "metadata": {},
   "outputs": [],
   "source": []
  }
 ],
 "metadata": {
  "kernelspec": {
   "display_name": "Javascript (Node.js)",
   "language": "javascript",
   "name": "javascript"
  },
  "language_info": {
   "file_extension": ".js",
   "mimetype": "application/javascript",
   "name": "javascript",
   "version": "8.11.1"
  }
 },
 "nbformat": 4,
 "nbformat_minor": 2
}
