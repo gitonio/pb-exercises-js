{
 "cells": [
  {
   "cell_type": "markdown",
   "metadata": {},
   "source": [
    "### This is a Jupyter Notebook\n",
    "You can write javascript and it will execute. You can write the typical 'hello world' program like this:<br>\n",
    "```javascript\n",
    "    console.log('hello world')\n",
    "```\n",
    "You can execute by presssing shift-enter. Try it! You can also click the run button in the toolbar.\n"
   ]
  },
  {
   "cell_type": "code",
   "execution_count": 1,
   "metadata": {},
   "outputs": [
    {
     "name": "stdout",
     "output_type": "stream",
     "text": [
      "hello world\n"
     ]
    }
   ],
   "source": [
    "console.log('hello world')"
   ]
  },
  {
   "cell_type": "markdown",
   "metadata": {},
   "source": [
    "### Exercise 1\n",
    "You can do a lot more than just print \"hello world\"<br>\n",
    "This is a fully functioning nodejs interpreter so you can write functions and objects like in the next box.<br>\n",
    "Try print the 21st Fibonacci number below instead of the 11th. You can add caching if you want to practice coding in Javascript."
   ]
  },
  {
   "cell_type": "code",
   "execution_count": 2,
   "metadata": {},
   "outputs": [
    {
     "name": "stdout",
     "output_type": "stream",
     "text": [
      "10946\n"
     ]
    }
   ],
   "source": [
    "//# Exercise 1\n",
    "function fib(n) {\n",
    "    if (n <= 1) {\n",
    "        return 1\n",
    "    } else {\n",
    "        return fib(n-1) + fib(n-2)\n",
    "    }\n",
    "}\n",
    "console.log(fib(20))"
   ]
  },
  {
   "cell_type": "markdown",
   "metadata": {},
   "source": [
    "### A few things you should remember in Javascript<br>\n",
    "Buffer provides a close resemblance to Python bytes literal.<br>\n",
    "```javascript\n",
    "s = 'hello world'\n",
    "b = Buffer.from(s)\n",
    "```\n",
    "\n"
   ]
  },
  {
   "cell_type": "code",
   "execution_count": 3,
   "metadata": {},
   "outputs": [
    {
     "name": "stdout",
     "output_type": "stream",
     "text": [
      "false\n",
      "true\n",
      "true\n"
     ]
    }
   ],
   "source": [
    "s = 'hello world'\n",
    "b = Buffer.from(s)\n",
    "console.log(s === b) // false\n",
    "\n",
    "// You convert from string to bytes this way:\n",
    "\n",
    "helloWorldBytes = Buffer.from(s, 'ascii')\n",
    "console.log( helloWorldBytes.equals(b)) // true\n",
    "\n",
    "// You convert from bytes to string this way:\n",
    "\n",
    "helloWorldString = b.toString('ascii')\n",
    "console.log(helloWorldString == s) // true"
   ]
  },
  {
   "cell_type": "markdown",
   "metadata": {},
   "source": [
    "### Imports\n",
    "You already have unit tests that are written for you. Your task is to make them pass. We can import various modules to make our experience using Jupyter more pleasant. This way, making everything work will be a lot easier."
   ]
  },
  {
   "cell_type": "code",
   "execution_count": 4,
   "metadata": {},
   "outputs": [],
   "source": [
    "var some_long_variable_name = 'something'\n",
    "// import everything and define a test runner function\n",
    "var helper = require('./helper')\n",
    "const clearModule = require('clear-module')\n"
   ]
  },
  {
   "cell_type": "markdown",
   "metadata": {},
   "source": [
    "### Exercise 2<br>\n",
    "#### Jupyter Tips<br>\n",
    "The two most useful commands are the tab and shift-tab\n",
    "Tab lets you tab-complete. Try pressing tab after the some below. This will complete to the variable name that's there from the last cell.\n",
    "Shift-Tab give you a function/method signature. Try pressing shift-tab after the little_endian_to_int below. That's also there from the last cell."
   ]
  },
  {
   "cell_type": "code",
   "execution_count": 27,
   "metadata": {},
   "outputs": [
    {
     "data": {
      "text/plain": [
       "0"
      ]
     },
     "execution_count": 27,
     "metadata": {},
     "output_type": "execute_result"
    }
   ],
   "source": [
    "//# Exercise 2\n",
    "\n",
    "some_long_variable_name\n",
    "helper.littleEndianToInt(Buffer.from('00','hex'))"
   ]
  },
  {
   "cell_type": "markdown",
   "metadata": {},
   "source": [
    "### Exercise 3<br>\n",
    "Make [this test](/edit/session0/helper.js) pass: `helper.js`<br>\n",
    "In order to do this, you'll have to open helper.js and implement the bytesToString and strToBytes functions. Once you're done editing `helper.js`, run this again. Try it now!"
   ]
  },
  {
   "cell_type": "code",
   "execution_count": 5,
   "metadata": {},
   "outputs": [
    {
     "name": "stdout",
     "output_type": "stream",
     "text": [
      "\n",
      "\n",
      "  bytes\n",
      "    √ strToBytes\n",
      "\n",
      "\n",
      "  1 passing (57ms)\n",
      "\n"
     ]
    }
   ],
   "source": [
    "clearModule.all()\n",
    "helper.runTest('bytes')"
   ]
  },
  {
   "cell_type": "markdown",
   "metadata": {},
   "source": [
    "### Getting Help<br>\n",
    "If you can't get this, there's a `complete` directory that has the `helper.js` file and the `session0.ipynb` file which you can use to get the answers.\n",
    "\n",
    "### Useful Javacript Idioms<br>\n",
    "\n",
    "You can reverse an array by using reverse:<br>\n",
    "```javascript\n",
    "a = [1, 2, 3, 4, 5]\n",
    "console.log(a.reverse())\n",
    "```\n",
    "To reverse strings:\n",
    "```javascript\n",
    "s = 'hello world'\n",
    "console.log(Array.from(s).reverse().join(''))\n",
    "```\n",
    "\n",
    "To reverse bytes:\n",
    "```javascript\n",
    "b = Buffer.from(s)\n",
    "console.log(Array.prototype.reverse.call(b).toString('ascii'))\n",
    "```\n",
    "\n",
    "Indexing bytes will get you the numerical value:\n",
    "```javascript\n",
    "console.log(Buffer.from('&')[0]) // 38 since & character #38\n",
    "```\n",
    "\n",
    "You can do the reverse:\n",
    "```javascript\n",
    "console.log(Buffer.from([38]).toString('ascii'))\n",
    "```\n",
    "\n"
   ]
  },
  {
   "cell_type": "code",
   "execution_count": 6,
   "metadata": {},
   "outputs": [
    {
     "name": "stdout",
     "output_type": "stream",
     "text": [
      "[ 5, 4, 3, 2, 1 ]\n",
      "dlrow olleh\n",
      "dlrow olleh\n",
      "38\n",
      "&\n"
     ]
    }
   ],
   "source": [
    "a = [1, 2, 3, 4, 5]\n",
    "console.log(a.reverse())\n",
    "\n",
    "s = 'hello world'\n",
    "console.log(Array.from(s).reverse().join(''))\n",
    "b = Buffer.from(s)\n",
    "console.log(Array.prototype.reverse.call(b).toString('ascii'))\n",
    "\n",
    "console.log(Buffer.from('&')[0]) // 38 since & character #38\n",
    "console.log(Buffer.from([38]).toString('ascii'))"
   ]
  },
  {
   "cell_type": "markdown",
   "metadata": {},
   "source": [
    "### Javascript Tricks<br>\n",
    "\n",
    "Here is how we convert binary to/from hex:"
   ]
  },
  {
   "cell_type": "code",
   "execution_count": 7,
   "metadata": {},
   "outputs": [
    {
     "name": "stdout",
     "output_type": "stream",
     "text": [
      "68656c6c6f20776f726c64\n",
      "hello world\n"
     ]
    }
   ],
   "source": [
    "console.log(Buffer.from('hello world').toString('hex'))\n",
    "console.log(Buffer.from('68656c6c6f20776f726c64', 'hex').toString('ascii'))\n"
   ]
  },
  {
   "cell_type": "markdown",
   "metadata": {},
   "source": [
    "### Exercise 4<br>\n",
    "Reverse this hex dump: b010a49c82b4bc84cc1dfd6e09b2b8114d016041efaf591eca88959e327dd29a\n",
    "\n",
    "Hint: you'll want to turn this into a buffer, reverse and turn it into hex again\n"
   ]
  },
  {
   "cell_type": "code",
   "execution_count": 8,
   "metadata": {},
   "outputs": [
    {
     "name": "stdout",
     "output_type": "stream",
     "text": [
      "9ad27d329e9588ca1e59afef4160014d11b8b2096efd1dcc84bcb4829ca410b0\n"
     ]
    }
   ],
   "source": [
    "h = 'b010a49c82b4bc84cc1dfd6e09b2b8114d016041efaf591eca88959e327dd29a'\n",
    "b = Buffer.from(h, 'hex')\n",
    "console.log(Array.prototype.reverse.call(b).toString('hex'))"
   ]
  },
  {
   "cell_type": "markdown",
   "metadata": {},
   "source": [
    "### Modular Arithmetic<br>\n",
    "If you don't remember Modular Arithmetic, it's this function on Javascript\n",
    "```javascript\n",
    "39 % 12\n",
    "```\n",
    "The result is 3 because that is the remainder after division (39 / 12 == 3 + 3/12).\n",
    "\n",
    "Some people like to call it \"wrap-around\" math. If it helps, think of modular arithmetic like a clock:\n",
    "\n",
    "clock\n",
    "\n",
    "Think of taking the modulo as asking the question \"what hour will it be 39 hours from now?\"\n",
    "\n",
    "If you're still confused, please take a look at [this](/www.khanacademy.org/computing/computer-science/cryptography/modarithmetic/a/what-is-modular-arithmetic) article."
   ]
  },
  {
   "cell_type": "code",
   "execution_count": 9,
   "metadata": {},
   "outputs": [
    {
     "name": "stdout",
     "output_type": "stream",
     "text": [
      "3\n"
     ]
    }
   ],
   "source": [
    "console.log(39 % 12)"
   ]
  },
  {
   "cell_type": "markdown",
   "metadata": {},
   "source": [
    "### Exercise 5\n",
    "find the modulo 19 of these numbers:<br>\n",
    "* 99\n",
    "* 456*444\n",
    "* 9^77"
   ]
  },
  {
   "cell_type": "code",
   "execution_count": 10,
   "metadata": {},
   "outputs": [
    {
     "name": "stdout",
     "output_type": "stream",
     "text": [
      "4\n",
      "0\n",
      "2.996906728784528e+73\n",
      "14\n",
      "16n\n"
     ]
    }
   ],
   "source": [
    "prime = 19\n",
    "console.log( 99  % prime )\n",
    "console.log( 456*444 % prime )\n",
    "//Following doesn't work\n",
    "console.log(Math.pow(9,77))\n",
    "console.log(Math.pow(9,77) % prime)\n",
    "//Need to use BigInt\n",
    "console.log( ((9n) ** (77n)) % BigInt(prime) )"
   ]
  },
  {
   "cell_type": "markdown",
   "metadata": {},
   "source": [
    "### Converting from bytes to int and back<br>\n",
    "Converting from bytes to integer requires learning about Big and Little Endian encoding. Essentially any number greater than 255 can be encoded in two ways, with the \"Big End\" going first or the \"Little End\" going first.<br>\n",
    "\n",
    "Normal human reading is from the \"Big End\". For example 123 is read as 100 + 20 + 3. Some computer systems encode integers with the \"Little End\" first.<br>\n",
    "\n",
    "A number like 500 is encoded this way in Big Endian:<br>\n",
    "\n",
    "0x01f4 (256 + 244)<br>\n",
    "\n",
    "But this way in Little Endian:<br>\n",
    "\n",
    "0xf401 (244 + 256)<br>\n",
    "\n",
    "In Javascript we can convert an integer to big or little endian via a BN method:\n",
    "```javascript\n",
    "n = 1234567890\n",
    "nb = new BN(n, 16)\n",
    "bigEndian = nb.toBuffer('be')\n",
    "littleEndian = nb.toBuffer('le')\n",
    "```\n",
    "\n",
    "We can also convert from bytes to an integer this way:\n",
    "```javascript\n",
    "bigEndian.readIntBE(0,4)\n",
    "littleEndian.readIntLE(0,4)\n",
    "```\n"
   ]
  },
  {
   "cell_type": "code",
   "execution_count": 11,
   "metadata": {},
   "outputs": [
    {
     "name": "stdout",
     "output_type": "stream",
     "text": [
      "499602d2\n",
      "d2029649\n",
      "1234567890\n",
      "1234567890\n"
     ]
    }
   ],
   "source": [
    "n = 1234567890\n",
    "nb = BigInt(n)\n",
    "length = 4\n",
    "bigEndian = Buffer.alloc(length)\n",
    "bigEndian.writeUInt32BE(n)\n",
    "littleEndian = Buffer.alloc(length)\n",
    "littleEndian.writeUInt32LE(n)\n",
    "\n",
    "console.log(bigEndian.toString('hex'))\n",
    "console.log(littleEndian.toString('hex'))\n",
    "console.log( bigEndian.readIntBE(0,4).toString(10))\n",
    "console.log( littleEndian.readIntLE(0,4).toString(10))"
   ]
  },
  {
   "cell_type": "markdown",
   "metadata": {},
   "source": [
    "### Exercise 6\n",
    "1. Convert the following:\n",
    "  * 8675309 to 8 bytes in big endian\n",
    "  * interpret 0x11 0x22 0x33 0x44 0x55 as a little endian integer"
   ]
  },
  {
   "cell_type": "code",
   "execution_count": 34,
   "metadata": {},
   "outputs": [
    {
     "name": "stdout",
     "output_type": "stream",
     "text": [
      "<Buffer 00 00 00 00 00 84 5f ed>\n",
      "366216421905\n"
     ]
    }
   ],
   "source": [
    "// Exercise 6\n",
    "\n",
    "n = 8675309\n",
    "buf = Buffer.alloc(8)\n",
    "buf.writeIntBE(n,2,6)\n",
    "console.log(buf)\n",
    "littleEndian = [0x11, 0x22, 0x33, 0x44, 0x55]\n",
    "littleEndian = Buffer.from(littleEndian)\n",
    "console.log( littleEndian.readIntLE(0,5))"
   ]
  },
  {
   "cell_type": "markdown",
   "metadata": {},
   "source": [
    "### Exercise 7<br>\n",
    "We'll want to convert from little-endian bytes to an integer often, so write a function that will do this.\n",
    "\n",
    "Make [this test](/edit/session0/helper.test.js)pass: helper.test.js: `little endian to int.`"
   ]
  },
  {
   "cell_type": "code",
   "execution_count": 13,
   "metadata": {},
   "outputs": [
    {
     "name": "stdout",
     "output_type": "stream",
     "text": [
      "\n",
      "\n",
      "  little endian to int\n",
      "    √ le1\n",
      "    √ le2\n",
      "\n",
      "\n",
      "  2 passing (38ms)\n",
      "\n"
     ]
    }
   ],
   "source": [
    "// Exercise 7\n",
    "clearModule.all()\n",
    "\n",
    "helper.runTest('little endian to int')\n"
   ]
  },
  {
   "cell_type": "markdown",
   "metadata": {},
   "source": [
    "### Exercise 8<br>\n",
    "Similarly, we'll want to do the inverse operation, so write a function that will convert an integer to little-endian bytes given the number of bytes it should take up.\n",
    "\n",
    "Make this test pass: \n"
   ]
  },
  {
   "cell_type": "code",
   "execution_count": 14,
   "metadata": {},
   "outputs": [
    {
     "name": "stdout",
     "output_type": "stream",
     "text": [
      "\n",
      "\n",
      "  int to little endian\n",
      "    √ le\n",
      "    √ le2\n",
      "\n",
      "\n",
      "  2 passing (17ms)\n",
      "\n"
     ]
    }
   ],
   "source": [
    "// Exercise \n",
    "clearModule.all()\n",
    "helper.runTest('int to little endian')"
   ]
  },
  {
   "cell_type": "code",
   "execution_count": null,
   "metadata": {},
   "outputs": [],
   "source": []
  },
  {
   "cell_type": "code",
   "execution_count": null,
   "metadata": {},
   "outputs": [],
   "source": []
  }
 ],
 "metadata": {
  "kernelspec": {
   "display_name": "Javascript (Node.js)",
   "language": "javascript",
   "name": "javascript"
  },
  "language_info": {
   "file_extension": ".js",
   "mimetype": "application/javascript",
   "name": "javascript",
   "version": "11.2.0"
  }
 },
 "nbformat": 4,
 "nbformat_minor": 2
}
