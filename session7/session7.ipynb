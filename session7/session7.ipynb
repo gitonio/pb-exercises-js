{
 "cells": [
  {
   "cell_type": "code",
   "execution_count": 43,
   "metadata": {},
   "outputs": [],
   "source": [
    "// import everything and define a test runner function\n",
    "var helper = require('./helper')\n",
    "var ecc = require('./ecc')\n",
    "var BN = require('bn.js')\n",
    "var tx = require('./tx.js')\n",
    "var Readable = require('stream').Readable\n",
    "var script = require('./script.js')\n",
    "var block = require('./block.js')\n",
    "var network = require('./network.js')\n",
    "var clearModule = require('clear-module')"
   ]
  },
  {
   "cell_type": "code",
   "execution_count": 3,
   "metadata": {},
   "outputs": [
    {
     "name": "stdout",
     "output_type": "stream",
     "text": [
      "Merkle Parent Example\n",
      "8b30c5ba100f6f2e5ad1e2a742e5020491240f8eb514fe97c713c31718ad7ecd\n"
     ]
    }
   ],
   "source": [
    "//# Merkle Parent Example\n",
    "\n",
    "console.log('Merkle Parent Example')\n",
    "txHash0 = Buffer.from('c117ea8ec828342f4dfb0ad6bd140e03a50720ece40169ee38bdc15d9eb64cf5','hex')\n",
    "txHash1 = Buffer.from('c131474164b412e3406696da1ee20ab0fc9bf41c8f05fa8ceea7a08d672d7cc5','hex')\n",
    "mp = helper.doubleSha256(Buffer.concat([txHash0, txHash1]))\n",
    "console.log(mp.toString('hex'))\n",
    "\n",
    "//8b30c5ba100f6f2e5ad1e2a742e5020491240f8eb514fe97c713c31718ad7ecd"
   ]
  },
  {
   "cell_type": "markdown",
   "metadata": {},
   "source": [
    "### Exercise 1\n",
    "\n",
    "#### 1.1. Calculate the Merkle parent of these hashes:\n",
    "```\n",
    "f391da6ecfeed1814efae39e7fcb3838ae0b02c02ae7d0a5848a66947c0727b0\n",
    "3d238a92a94532b946c90e19c49351c763696cff3db400485b813aecb8a13181\n",
    "```\n",
    "\n",
    "#### 1.2. Make [this test](/edit/session7/helper.py) pass\n",
    "```\n",
    "helper.py:HelperTest:test_merkle_parent\n",
    "```"
   ]
  },
  {
   "cell_type": "code",
   "execution_count": 4,
   "metadata": {},
   "outputs": [
    {
     "name": "stdout",
     "output_type": "stream",
     "text": [
      "\n",
      "Exercise 1.1\n",
      "7f4e6f9e224e20fda0ae4c44114237f97cd35aca38d83081c9bfd41feb907800\n"
     ]
    }
   ],
   "source": [
    "// Exercise 1.1\n",
    "console.log('\\nExercise 1.1')\n",
    "txHash0 = Buffer.from('f391da6ecfeed1814efae39e7fcb3838ae0b02c02ae7d0a5848a66947c0727b0','hex')\n",
    "txHash1 = Buffer.from('3d238a92a94532b946c90e19c49351c763696cff3db400485b813aecb8a13181','hex')\n",
    "mp = helper.doubleSha256(Buffer.concat([txHash0, txHash1]))\n",
    "console.log(mp.toString('hex'))\n",
    "\n",
    "//7f4e6f9e224e20fda0ae4c44114237f97cd35aca38d83081c9bfd41feb907800"
   ]
  },
  {
   "cell_type": "code",
   "execution_count": 5,
   "metadata": {},
   "outputs": [
    {
     "name": "stdout",
     "output_type": "stream",
     "text": [
      "\n",
      "\n",
      "  test_merkle\n",
      "    √ test_merkle_parent\n",
      "    √ test_merkle_parent_level0\n",
      "    √ test_merkle_parent_level1\n",
      "\n",
      "\n",
      "  3 passing (48ms)\n",
      "\n"
     ]
    }
   ],
   "source": [
    "//# Exercise 1.2\n",
    "\n",
    "clearModule.all()\n",
    "helper.runTest('test_merkle_parent')"
   ]
  },
  {
   "cell_type": "code",
   "execution_count": 7,
   "metadata": {},
   "outputs": [
    {
     "name": "stdout",
     "output_type": "stream",
     "text": [
      "\n",
      "Merkle Parent Level Example\n",
      "8b30c5ba100f6f2e5ad1e2a742e5020491240f8eb514fe97c713c31718ad7ecd\n",
      "7f4e6f9e224e20fda0ae4c44114237f97cd35aca38d83081c9bfd41feb907800\n",
      "11d16762bb5cfd315de66615182c9560aa2b00baca0b4a14aedd3b0c16779b1e\n"
     ]
    },
    {
     "data": {
      "text/plain": [
       "[ undefined, undefined, undefined ]"
      ]
     },
     "execution_count": 7,
     "metadata": {},
     "output_type": "execute_result"
    }
   ],
   "source": [
    "console.log('\\nMerkle Parent Level Example')\n",
    "hexHashes = [\n",
    "    'c117ea8ec828342f4dfb0ad6bd140e03a50720ece40169ee38bdc15d9eb64cf5',\n",
    "    'c131474164b412e3406696da1ee20ab0fc9bf41c8f05fa8ceea7a08d672d7cc5',\n",
    "    'f391da6ecfeed1814efae39e7fcb3838ae0b02c02ae7d0a5848a66947c0727b0',\n",
    "    '3d238a92a94532b946c90e19c49351c763696cff3db400485b813aecb8a13181',\n",
    "    '10092f2633be5f3ce349bf9ddbde36caa3dd10dfa0ec8106bce23acbff637dae',\n",
    "    'b13a750047bc0bdceb2473e5fe488c2596d7a7124b4e716fdd29b046ef99bbf0',\n",
    "]\n",
    "\n",
    "hexHashes = hexHashes.reduce(function(result, value, index, array) {\n",
    "    if (index % 2 === 0)\n",
    "      result.push(array.slice(index, index + 2));\n",
    "    return result;\n",
    "  }, []);\n",
    "\n",
    "hexHashes.map(obj => {\n",
    "    hashBin1 = Buffer.from(obj[0],'hex')  \n",
    "    hashBin2 = Buffer.from(obj[1],'hex')\n",
    "    parent = helper.merkleParent(hashBin1, hashBin2)\n",
    "    console.log(parent.toString('hex'))\n",
    "})\n",
    "\n",
    "/*\n",
    "8b30c5ba100f6f2e5ad1e2a742e5020491240f8eb514fe97c713c31718ad7ecd\n",
    "7f4e6f9e224e20fda0ae4c44114237f97cd35aca38d83081c9bfd41feb907800\n",
    "11d16762bb5cfd315de66615182c9560aa2b00baca0b4a14aedd3b0c16779b1e\n",
    "*/"
   ]
  },
  {
   "cell_type": "markdown",
   "metadata": {},
   "source": [
    "### Exercise 2\n",
    "\n",
    "#### 2.1. Calculate the next Merkle Parent Level given these hashes\n",
    "```\n",
    "8b30c5ba100f6f2e5ad1e2a742e5020491240f8eb514fe97c713c31718ad7ecd\n",
    "7f4e6f9e224e20fda0ae4c44114237f97cd35aca38d83081c9bfd41feb907800\n",
    "ade48f2bbb57318cc79f3a8678febaa827599c509dce5940602e54c7733332e7\n",
    "68b3e2ab8182dfd646f13fdf01c335cf32476482d963f5cd94e934e6b3401069\n",
    "43e7274e77fbe8e5a42a8fb58f7decdb04d521f319f332d88e6b06f8e6c09e27\n",
    "4f492e893bf854111c36cb5eff4dccbdd51b576e1cfdc1b84b456cd1c0403ccb\n",
    "```\n",
    "\n",
    "#### 2.2. Make [this test](/edit/session7/helper.py) pass.\n",
    "```\n",
    "helper.py:HelperTest:test_merkle_parent_level0\n",
    "```"
   ]
  },
  {
   "cell_type": "code",
   "execution_count": 8,
   "metadata": {},
   "outputs": [
    {
     "name": "stdout",
     "output_type": "stream",
     "text": [
      "\n",
      "Exercise 2.1\n",
      "26906cb2caeb03626102f7606ea332784281d5d20e2b4839fbb3dbb37262dbc1\n",
      "717a0d17538ff5ad2c020bab38bdcde66e63f3daef88f89095f344918d5d4f96\n",
      "d20629030c7e48e778c1c837d91ebadc2f2ee319a0a0a461f4a9538b5cae2a69\n"
     ]
    },
    {
     "data": {
      "text/plain": [
       "[ undefined, undefined, undefined ]"
      ]
     },
     "execution_count": 8,
     "metadata": {},
     "output_type": "execute_result"
    }
   ],
   "source": [
    "/*\n",
    "# Exercise 2.1\n",
    "\n",
    "from helper import merkle_parent\n",
    "\n",
    "hex_hashes = [\n",
    "    '8b30c5ba100f6f2e5ad1e2a742e5020491240f8eb514fe97c713c31718ad7ecd',\n",
    "    '7f4e6f9e224e20fda0ae4c44114237f97cd35aca38d83081c9bfd41feb907800',\n",
    "    'ade48f2bbb57318cc79f3a8678febaa827599c509dce5940602e54c7733332e7',\n",
    "    '68b3e2ab8182dfd646f13fdf01c335cf32476482d963f5cd94e934e6b3401069',\n",
    "    '43e7274e77fbe8e5a42a8fb58f7decdb04d521f319f332d88e6b06f8e6c09e27',\n",
    "    '4f492e893bf854111c36cb5eff4dccbdd51b576e1cfdc1b84b456cd1c0403ccb',\n",
    "]\n",
    "\n",
    "# bytes.fromhex to get all the hashes in binary\n",
    "hashes = [bytes.fromhex(h) for h in hex_hashes]\n",
    "# initialize parent level\n",
    "parent_level = []\n",
    "# skip by two: use range(0, len(hashes), 2)\n",
    "for i in range(0, len(hashes), 2):\n",
    "    # calculate merkle_parent of i and i+1 hashes\n",
    "    parent = merkle_parent(hashes[i], hashes[i+1])\n",
    "    # print the hash's hex\n",
    "    print(parent.hex())\n",
    "    # add parent to parent level\n",
    "    parent_level.append(parent)\n",
    "*/\n",
    "// Exercise 2.1\n",
    "console.log('\\nExercise 2.1')\n",
    "hexHashes = [\n",
    "    '8b30c5ba100f6f2e5ad1e2a742e5020491240f8eb514fe97c713c31718ad7ecd',\n",
    "    '7f4e6f9e224e20fda0ae4c44114237f97cd35aca38d83081c9bfd41feb907800',\n",
    "    'ade48f2bbb57318cc79f3a8678febaa827599c509dce5940602e54c7733332e7',\n",
    "     '68b3e2ab8182dfd646f13fdf01c335cf32476482d963f5cd94e934e6b3401069',\n",
    "    '43e7274e77fbe8e5a42a8fb58f7decdb04d521f319f332d88e6b06f8e6c09e27',\n",
    "    '4f492e893bf854111c36cb5eff4dccbdd51b576e1cfdc1b84b456cd1c0403ccb',\n",
    "]\n",
    "\n",
    "hexHashes = hexHashes.reduce(function(result, value, index, array) {\n",
    "    if (index % 2 === 0)\n",
    "      result.push(array.slice(index, index + 2));\n",
    "    return result;\n",
    "  }, []);\n",
    "\n",
    "\n",
    "hexHashes.map(obj => {\n",
    "    hashBin1 = Buffer.from(obj[0],'hex')  \n",
    "    hashBin2 = Buffer.from(obj[1],'hex')\n",
    "    parent = helper.merkleParent(hashBin1, hashBin2)\n",
    "    console.log(parent.toString('hex'))\n",
    "})\n",
    "\n",
    "/*\n",
    "26906cb2caeb03626102f7606ea332784281d5d20e2b4839fbb3dbb37262dbc1\n",
    "717a0d17538ff5ad2c020bab38bdcde66e63f3daef88f89095f344918d5d4f96\n",
    "d20629030c7e48e778c1c837d91ebadc2f2ee319a0a0a461f4a9538b5cae2a69\n",
    "*/"
   ]
  },
  {
   "cell_type": "code",
   "execution_count": 9,
   "metadata": {},
   "outputs": [
    {
     "name": "stdout",
     "output_type": "stream",
     "text": [
      "\n",
      "\n",
      "  test_merkle\n",
      "    √ test_merkle_parent_level0\n",
      "\n",
      "\n",
      "  1 passing (29ms)\n",
      "\n"
     ]
    }
   ],
   "source": [
    "//# Exercise 2.2\n",
    "\n",
    "clearModule.all()\n",
    "helper.runTest('test_merkle_parent_level0')"
   ]
  },
  {
   "cell_type": "code",
   "execution_count": 11,
   "metadata": {},
   "outputs": [
    {
     "name": "stdout",
     "output_type": "stream",
     "text": [
      "\n",
      "Odd Merkle Parent Level Example\n",
      "8b30c5ba100f6f2e5ad1e2a742e5020491240f8eb514fe97c713c31718ad7ecd\n",
      "7f4e6f9e224e20fda0ae4c44114237f97cd35aca38d83081c9bfd41feb907800\n",
      "3ecf6115380c77e8aae56660f5634982ee897351ba906a6837d15ebc3a225df0\n"
     ]
    },
    {
     "data": {
      "text/plain": [
       "[ undefined, undefined, undefined ]"
      ]
     },
     "execution_count": 11,
     "metadata": {},
     "output_type": "execute_result"
    }
   ],
   "source": [
    "// Exercise 2.2\n",
    "// Odd Merkle Parent Level Example\n",
    "console.log('\\nOdd Merkle Parent Level Example')\n",
    "hexHashes = [\n",
    "    'c117ea8ec828342f4dfb0ad6bd140e03a50720ece40169ee38bdc15d9eb64cf5',\n",
    "    'c131474164b412e3406696da1ee20ab0fc9bf41c8f05fa8ceea7a08d672d7cc5',\n",
    "    'f391da6ecfeed1814efae39e7fcb3838ae0b02c02ae7d0a5848a66947c0727b0',\n",
    "    '3d238a92a94532b946c90e19c49351c763696cff3db400485b813aecb8a13181',\n",
    "    '10092f2633be5f3ce349bf9ddbde36caa3dd10dfa0ec8106bce23acbff637dae',\n",
    "]\n",
    "\n",
    "hexHashes = hexHashes.reduce(function(result, value, index, array) {\n",
    "    if (index % 2 === 0)\n",
    "      result.push(array.slice(index, index + 2));\n",
    "    return result;\n",
    "  }, []);\n",
    "if (hexHashes[hexHashes.length-1].length == 1) {\n",
    "    hexHashes[hexHashes.length-1].push(hexHashes[hexHashes.length-1][0])\n",
    "}\n",
    "hexHashes.map(obj => {\n",
    "    hashBin1 = Buffer.from(obj[0],'hex')  \n",
    "    hashBin2 = Buffer.from(obj[1],'hex')\n",
    "    parent = helper.merkleParent(hashBin1, hashBin2)\n",
    "    console.log(parent.toString('hex'))\n",
    "})\n",
    "\n",
    "/*\n",
    "8b30c5ba100f6f2e5ad1e2a742e5020491240f8eb514fe97c713c31718ad7ecd\n",
    "7f4e6f9e224e20fda0ae4c44114237f97cd35aca38d83081c9bfd41feb907800\n",
    "3ecf6115380c77e8aae56660f5634982ee897351ba906a6837d15ebc3a225df0\n",
    "*/\n",
    "\n"
   ]
  },
  {
   "cell_type": "markdown",
   "metadata": {},
   "source": [
    "### Exercise 3\n",
    "\n",
    "#### 3.1. Calculate the next Merkle Parent Level given these hashes\n",
    "```\n",
    "8b30c5ba100f6f2e5ad1e2a742e5020491240f8eb514fe97c713c31718ad7ecd\n",
    "7f4e6f9e224e20fda0ae4c44114237f97cd35aca38d83081c9bfd41feb907800\n",
    "ade48f2bbb57318cc79f3a8678febaa827599c509dce5940602e54c7733332e7\n",
    "68b3e2ab8182dfd646f13fdf01c335cf32476482d963f5cd94e934e6b3401069\n",
    "43e7274e77fbe8e5a42a8fb58f7decdb04d521f319f332d88e6b06f8e6c09e27\n",
    "```\n",
    "\n",
    "#### 3.2. Make [this test](/edit/session7/helper.py) pass.\n",
    "```\n",
    "helper.py:HelperTest:test_merkle_parent_level1\n",
    "```"
   ]
  },
  {
   "cell_type": "code",
   "execution_count": 12,
   "metadata": {},
   "outputs": [
    {
     "name": "stdout",
     "output_type": "stream",
     "text": [
      "\n",
      "Exercise 3.1\n",
      "26906cb2caeb03626102f7606ea332784281d5d20e2b4839fbb3dbb37262dbc1\n",
      "717a0d17538ff5ad2c020bab38bdcde66e63f3daef88f89095f344918d5d4f96\n",
      "d6c56a5281021a587f5a1e0dd4674bff012c69d960136d96e6d72261d5b696ae\n"
     ]
    },
    {
     "data": {
      "text/plain": [
       "[ undefined, undefined, undefined ]"
      ]
     },
     "execution_count": 12,
     "metadata": {},
     "output_type": "execute_result"
    }
   ],
   "source": [
    "/*\n",
    "# Exercise 3.1\n",
    "\n",
    "from helper import merkle_parent\n",
    "\n",
    "hex_hashes = [\n",
    "    '8b30c5ba100f6f2e5ad1e2a742e5020491240f8eb514fe97c713c31718ad7ecd',\n",
    "    '7f4e6f9e224e20fda0ae4c44114237f97cd35aca38d83081c9bfd41feb907800',\n",
    "    'ade48f2bbb57318cc79f3a8678febaa827599c509dce5940602e54c7733332e7',\n",
    "    '68b3e2ab8182dfd646f13fdf01c335cf32476482d963f5cd94e934e6b3401069',\n",
    "    '43e7274e77fbe8e5a42a8fb58f7decdb04d521f319f332d88e6b06f8e6c09e27',\n",
    "]\n",
    "\n",
    "# bytes.fromhex to get all the hashes in binary\n",
    "hashes = [bytes.fromhex(h) for h in hex_hashes]\n",
    "# if the number of hashes is odd, duplicate the last one\n",
    "if len(hashes) % 2 == 1:\n",
    "    hashes.append(hashes[-1])\n",
    "# initialize parent level\n",
    "parent_level = []\n",
    "# skip by two: use range(0, len(hashes), 2)\n",
    "for i in range(0, len(hashes), 2):\n",
    "    # calculate merkle_parent of i and i+1 hashes\n",
    "    parent = merkle_parent(hashes[i], hashes[i+1])\n",
    "    # print the hash's hex\n",
    "    print(parent.hex())\n",
    "    # add parent to parent level\n",
    "    parent_level.append(parent)\n",
    "*/\n",
    "\n",
    "// Exercise 3.1\n",
    "console.log('\\nExercise 3.1')\n",
    "hexHashes = [\n",
    "    '8b30c5ba100f6f2e5ad1e2a742e5020491240f8eb514fe97c713c31718ad7ecd',\n",
    "    '7f4e6f9e224e20fda0ae4c44114237f97cd35aca38d83081c9bfd41feb907800',\n",
    "    'ade48f2bbb57318cc79f3a8678febaa827599c509dce5940602e54c7733332e7',\n",
    "    '68b3e2ab8182dfd646f13fdf01c335cf32476482d963f5cd94e934e6b3401069',\n",
    "    '43e7274e77fbe8e5a42a8fb58f7decdb04d521f319f332d88e6b06f8e6c09e27',\n",
    "]\n",
    "hexHashes = hexHashes.reduce(function(result, value, index, array) {\n",
    "    if (index % 2 === 0)\n",
    "      result.push(array.slice(index, index + 2));\n",
    "    return result;\n",
    "  }, []);\n",
    "\n",
    "  if (hexHashes[hexHashes.length-1].length == 1) {\n",
    "    hexHashes[hexHashes.length-1].push(hexHashes[hexHashes.length-1][0])\n",
    "}\n",
    "hexHashes.map(obj => {\n",
    "    hashBin1 = Buffer.from(obj[0],'hex')  \n",
    "    hashBin2 = Buffer.from(obj[1],'hex')\n",
    "    parent = helper.merkleParent(hashBin1, hashBin2)\n",
    "    console.log(parent.toString('hex'))\n",
    "})\n",
    "\n",
    "/*\n",
    "26906cb2caeb03626102f7606ea332784281d5d20e2b4839fbb3dbb37262dbc1\n",
    "717a0d17538ff5ad2c020bab38bdcde66e63f3daef88f89095f344918d5d4f96\n",
    "d6c56a5281021a587f5a1e0dd4674bff012c69d960136d96e6d72261d5b696ae\n",
    "*/\n"
   ]
  },
  {
   "cell_type": "code",
   "execution_count": 13,
   "metadata": {},
   "outputs": [
    {
     "name": "stdout",
     "output_type": "stream",
     "text": [
      "\n",
      "\n",
      "  test_merkle\n",
      "    √ test_merkle_parent_level1\n",
      "\n",
      "\n",
      "  1 passing (10ms)\n",
      "\n"
     ]
    }
   ],
   "source": [
    "//# Exercise 3.2\n",
    "\n",
    "clearModule.all()\n",
    "helper.runTest('test_merkle_parent_level1')"
   ]
  },
  {
   "cell_type": "code",
   "execution_count": 16,
   "metadata": {},
   "outputs": [
    {
     "name": "stdout",
     "output_type": "stream",
     "text": [
      "\n",
      "Merkle root Example\n",
      "acbcab8bcc1af95d8d563b77d24c3d19b18f1486383d75a5085c4e86c86beed6\n"
     ]
    }
   ],
   "source": [
    "//Exercise 3.2\n",
    "console.log('\\nMerkle root Example')\n",
    "hexHashes = [\n",
    "    'c117ea8ec828342f4dfb0ad6bd140e03a50720ece40169ee38bdc15d9eb64cf5',\n",
    "    'c131474164b412e3406696da1ee20ab0fc9bf41c8f05fa8ceea7a08d672d7cc5',\n",
    "    'f391da6ecfeed1814efae39e7fcb3838ae0b02c02ae7d0a5848a66947c0727b0',\n",
    "    '3d238a92a94532b946c90e19c49351c763696cff3db400485b813aecb8a13181',\n",
    "    '10092f2633be5f3ce349bf9ddbde36caa3dd10dfa0ec8106bce23acbff637dae',\n",
    "    '7d37b3d54fa6a64869084bfd2e831309118b9e833610e6228adacdbd1b4ba161',\n",
    "    '8118a77e542892fe15ae3fc771a4abfd2f5d5d5997544c3487ac36b5c85170fc',\n",
    "    'dff6879848c2c9b62fe652720b8df5272093acfaa45a43cdb3696fe2466a3877',\n",
    "    'b825c0745f46ac58f7d3759e6dc535a1fec7820377f24d4c2c6ad2cc55c0cb59',\n",
    "    '95513952a04bd8992721e9b7e2937f1c04ba31e0469fbe615a78197f68f52b7c',\n",
    "    '2e6d722e5e4dbdf2447ddecc9f7dabb8e299bae921c99ad5b0184cd9eb8e5908',\n",
    "    'b13a750047bc0bdceb2473e5fe488c2596d7a7124b4e716fdd29b046ef99bbf0',\n",
    "]\n",
    "hexHashes = hexHashes.map(obj => Buffer.from(obj,'hex'))\n",
    "\n",
    "currentLevel = hexHashes\n",
    "\n",
    "while (currentLevel.length > 1) {\n",
    "    currentLevel = helper.merkleParentLevel(currentLevel);\n",
    "}\n",
    "console.log(currentLevel[0].toString('hex'));\n",
    "\n",
    "//acbcab8bcc1af95d8d563b77d24c3d19b18f1486383d75a5085c4e86c86beed6\n"
   ]
  },
  {
   "cell_type": "markdown",
   "metadata": {},
   "source": [
    "### Exercise 4\n",
    "\n",
    "#### 4.1. Calculate the Merkle Root given these hashes\n",
    "```\n",
    "42f6f52f17620653dcc909e58bb352e0bd4bd1381e2955d19c00959a22122b2e\n",
    "94c3af34b9667bf787e1c6a0a009201589755d01d02fe2877cc69b929d2418d4\n",
    "959428d7c48113cb9149d0566bde3d46e98cf028053c522b8fa8f735241aa953\n",
    "a9f27b99d5d108dede755710d4a1ffa2c74af70b4ca71726fa57d68454e609a2\n",
    "62af110031e29de1efcad103b3ad4bec7bdcf6cb9c9f4afdd586981795516577\n",
    "766900590ece194667e9da2984018057512887110bf54fe0aa800157aec796ba\n",
    "e8270fb475763bc8d855cfe45ed98060988c1bdcad2ffc8364f783c98999a208\n",
    "921b8cfd3e14bf41f028f0a3aa88c813d5039a2b1bceb12208535b0b43a5d09e\n",
    "15535864799652347cec66cba473f6d8291541238e58b2e03b046bc53cfe1321\n",
    "1c8af7c502971e67096456eac9cd5407aacf62190fc54188995666a30faf99f0\n",
    "3311f8acc57e8a3e9b68e2945fb4f53c07b0fa4668a7e5cda6255c21558c774d\n",
    "```\n",
    "\n",
    "#### 4.2. Make [this test](/edit/session7/helper.py) pass.\n",
    "```\n",
    "helper.py:HelperTest:test_merkle_root\n",
    "```"
   ]
  },
  {
   "cell_type": "code",
   "execution_count": 17,
   "metadata": {},
   "outputs": [
    {
     "name": "stdout",
     "output_type": "stream",
     "text": [
      "\n",
      "Exercise 4.1\n",
      "a67772634e542799333c6c98bc903e36b652918a8d8a9e069391c55b4276c8a1\n"
     ]
    }
   ],
   "source": [
    "// Exercise 4.1\n",
    "console.log('\\nExercise 4.1')\n",
    "hexHashes = [\n",
    "    '42f6f52f17620653dcc909e58bb352e0bd4bd1381e2955d19c00959a22122b2e',\n",
    "    '94c3af34b9667bf787e1c6a0a009201589755d01d02fe2877cc69b929d2418d4',\n",
    "    '959428d7c48113cb9149d0566bde3d46e98cf028053c522b8fa8f735241aa953',\n",
    "    'a9f27b99d5d108dede755710d4a1ffa2c74af70b4ca71726fa57d68454e609a2',\n",
    "    '62af110031e29de1efcad103b3ad4bec7bdcf6cb9c9f4afdd586981795516577',\n",
    "    '766900590ece194667e9da2984018057512887110bf54fe0aa800157aec796ba',\n",
    "    'e8270fb475763bc8d855cfe45ed98060988c1bdcad2ffc8364f783c98999a208',\n",
    "    '921b8cfd3e14bf41f028f0a3aa88c813d5039a2b1bceb12208535b0b43a5d09e',\n",
    "    '15535864799652347cec66cba473f6d8291541238e58b2e03b046bc53cfe1321',\n",
    "    '1c8af7c502971e67096456eac9cd5407aacf62190fc54188995666a30faf99f0',\n",
    "    '3311f8acc57e8a3e9b68e2945fb4f53c07b0fa4668a7e5cda6255c21558c774d',\n",
    "]\n",
    "hexHashes = hexHashes.map(obj => Buffer.from(obj,'hex'))\n",
    "\n",
    "currentLevel = hexHashes\n",
    "\n",
    "while (currentLevel.length > 1) {\n",
    "    currentLevel = helper.merkleParentLevel(currentLevel);\n",
    "}\n",
    "console.log(currentLevel[0].toString('hex'));\n",
    "\n",
    "//a67772634e542799333c6c98bc903e36b652918a8d8a9e069391c55b4276c8a1"
   ]
  },
  {
   "cell_type": "code",
   "execution_count": 18,
   "metadata": {},
   "outputs": [
    {
     "name": "stdout",
     "output_type": "stream",
     "text": [
      "\n",
      "\n",
      "  test_merkle\n",
      "    √ test_merkle_root\n",
      "\n",
      "\n",
      "  1 passing (23ms)\n",
      "\n"
     ]
    }
   ],
   "source": [
    "//# Exercise 4.2\n",
    "\n",
    "clearModule.all()\n",
    "helper.runTest('test_merkle_root')"
   ]
  },
  {
   "cell_type": "code",
   "execution_count": 21,
   "metadata": {},
   "outputs": [
    {
     "name": "stdout",
     "output_type": "stream",
     "text": [
      "\n",
      "Block Merkle Root Example\n",
      "654d6181e18e4ac4368383fdc5eead11bf138f9b7ac1e15334e4411b3c4797d9\n"
     ]
    }
   ],
   "source": [
    "/*\n",
    "# Block Merkle Root Example\n",
    "\n",
    "from helper import double_sha256, merkle_parent_level, merkle_root\n",
    "tx_hex_hashes = [\n",
    "    '42f6f52f17620653dcc909e58bb352e0bd4bd1381e2955d19c00959a22122b2e',\n",
    "    '94c3af34b9667bf787e1c6a0a009201589755d01d02fe2877cc69b929d2418d4',\n",
    "    '959428d7c48113cb9149d0566bde3d46e98cf028053c522b8fa8f735241aa953',\n",
    "    'a9f27b99d5d108dede755710d4a1ffa2c74af70b4ca71726fa57d68454e609a2',\n",
    "    '62af110031e29de1efcad103b3ad4bec7bdcf6cb9c9f4afdd586981795516577',\n",
    "    '766900590ece194667e9da2984018057512887110bf54fe0aa800157aec796ba',\n",
    "    'e8270fb475763bc8d855cfe45ed98060988c1bdcad2ffc8364f783c98999a208',\n",
    "]\n",
    "current_level = [bytes.fromhex(x)[::-1] for x in tx_hex_hashes]\n",
    "print(merkle_root(current_level)[::-1].hex())\n",
    "*/\n",
    "// Exercise 4.2\n",
    "console.log('\\nBlock Merkle Root Example')\n",
    "\n",
    "\n",
    "//Buffer.from(Array.prototype.reverse.call(new Uint16Array(s.read(32))));\n",
    "txHexHashes = [\n",
    "    '42f6f52f17620653dcc909e58bb352e0bd4bd1381e2955d19c00959a22122b2e',\n",
    "    '94c3af34b9667bf787e1c6a0a009201589755d01d02fe2877cc69b929d2418d4',\n",
    "    '959428d7c48113cb9149d0566bde3d46e98cf028053c522b8fa8f735241aa953',\n",
    "    'a9f27b99d5d108dede755710d4a1ffa2c74af70b4ca71726fa57d68454e609a2',\n",
    "    '62af110031e29de1efcad103b3ad4bec7bdcf6cb9c9f4afdd586981795516577',\n",
    "    '766900590ece194667e9da2984018057512887110bf54fe0aa800157aec796ba',\n",
    "    'e8270fb475763bc8d855cfe45ed98060988c1bdcad2ffc8364f783c98999a208',\n",
    "]\n",
    "txHexHashes = txHexHashes.map(obj => Array.prototype.reverse.call(Buffer.from(obj,'hex')) )\n",
    "helper.merkleRoot(txHexHashes)\n",
    "console.log(Array.prototype.reverse.call(Buffer.from(helper.merkleRoot(txHexHashes),'hex')).toString('hex'));\n",
    "//654d6181e18e4ac4368383fdc5eead11bf138f9b7ac1e15334e4411b3c4797d9"
   ]
  },
  {
   "cell_type": "markdown",
   "metadata": {},
   "source": [
    "### Exercise 5\n",
    "\n",
    "#### 5.1. Validate the merkle root for this block on Testnet:\n",
    "Block Hash:\n",
    "```\n",
    "0000000000000451fa80fcdb243b84c35eaae215a85a8faa880559e8239e6f20\n",
    "```\n",
    "\n",
    "https://api.blockcypher.com/v1/btc/test3/blocks/0000000000000451fa80fcdb243b84c35eaae215a85a8faa880559e8239e6f20\n",
    "\n",
    "Transaction Hashes:\n",
    "```\n",
    "42f6f52f17620653dcc909e58bb352e0bd4bd1381e2955d19c00959a22122b2e\n",
    "94c3af34b9667bf787e1c6a0a009201589755d01d02fe2877cc69b929d2418d4\n",
    "959428d7c48113cb9149d0566bde3d46e98cf028053c522b8fa8f735241aa953\n",
    "a9f27b99d5d108dede755710d4a1ffa2c74af70b4ca71726fa57d68454e609a2\n",
    "62af110031e29de1efcad103b3ad4bec7bdcf6cb9c9f4afdd586981795516577\n",
    "766900590ece194667e9da2984018057512887110bf54fe0aa800157aec796ba\n",
    "e8270fb475763bc8d855cfe45ed98060988c1bdcad2ffc8364f783c98999a208\n",
    "921b8cfd3e14bf41f028f0a3aa88c813d5039a2b1bceb12208535b0b43a5d09e\n",
    "15535864799652347cec66cba473f6d8291541238e58b2e03b046bc53cfe1321\n",
    "1c8af7c502971e67096456eac9cd5407aacf62190fc54188995666a30faf99f0\n",
    "3311f8acc57e8a3e9b68e2945fb4f53c07b0fa4668a7e5cda6255c21558c774d\n",
    "```\n",
    "\n",
    "#### 5.2. Make [these tests](/edit/session7/block.py) pass.\n",
    "```\n",
    "block.py:BlockTest:test_validate_merkle_root\n",
    "block.py:BlockTest:test_calculate_merkle_tree\n",
    "```"
   ]
  },
  {
   "cell_type": "code",
   "execution_count": 23,
   "metadata": {},
   "outputs": [
    {
     "name": "stdout",
     "output_type": "stream",
     "text": [
      "\n",
      "Exercise 5.1\n",
      "4297fb95a0168b959d1469410c7527da5d6243d99699e7d041b7f3916ba93301\n"
     ]
    }
   ],
   "source": [
    "/*\n",
    "# Exercise 5.1\n",
    "\n",
    "from helper import double_sha256, merkle_root\n",
    "\n",
    "tx_hex_hashes = [\n",
    "    '42f6f52f17620653dcc909e58bb352e0bd4bd1381e2955d19c00959a22122b2e',\n",
    "    '94c3af34b9667bf787e1c6a0a009201589755d01d02fe2877cc69b929d2418d4',\n",
    "    '959428d7c48113cb9149d0566bde3d46e98cf028053c522b8fa8f735241aa953',\n",
    "    'a9f27b99d5d108dede755710d4a1ffa2c74af70b4ca71726fa57d68454e609a2',\n",
    "    '62af110031e29de1efcad103b3ad4bec7bdcf6cb9c9f4afdd586981795516577',\n",
    "    '766900590ece194667e9da2984018057512887110bf54fe0aa800157aec796ba',\n",
    "    'e8270fb475763bc8d855cfe45ed98060988c1bdcad2ffc8364f783c98999a208',\n",
    "    '921b8cfd3e14bf41f028f0a3aa88c813d5039a2b1bceb12208535b0b43a5d09e',\n",
    "    '15535864799652347cec66cba473f6d8291541238e58b2e03b046bc53cfe1321',\n",
    "    '1c8af7c502971e67096456eac9cd5407aacf62190fc54188995666a30faf99f0',\n",
    "    '3311f8acc57e8a3e9b68e2945fb4f53c07b0fa4668a7e5cda6255c21558c774d',\n",
    "]\n",
    "\n",
    "# bytes.fromhex and reverse ([::-1]) to get all the hashes in binary\n",
    "hashes = [bytes.fromhex(h)[::-1] for h in tx_hex_hashes]\n",
    "# get the merkle root\n",
    "root = merkle_root(hashes)\n",
    "# hex() the reversed root\n",
    "print(root[::-1].hex())\n",
    "*/\n",
    "// Exercise 5.1\n",
    "console.log('\\nExercise 5.1')\n",
    "\n",
    "txHexHashes = [\n",
    "    '42f6f52f17620653dcc909e58bb352e0bd4bd1381e2955d19c00959a22122b2e',\n",
    "    '94c3af34b9667bf787e1c6a0a009201589755d01d02fe2877cc69b929d2418d4',\n",
    "    '959428d7c48113cb9149d0566bde3d46e98cf028053c522b8fa8f735241aa953',\n",
    "    'a9f27b99d5d108dede755710d4a1ffa2c74af70b4ca71726fa57d68454e609a2',\n",
    "    '62af110031e29de1efcad103b3ad4bec7bdcf6cb9c9f4afdd586981795516577',\n",
    "    '766900590ece194667e9da2984018057512887110bf54fe0aa800157aec796ba',\n",
    "    'e8270fb475763bc8d855cfe45ed98060988c1bdcad2ffc8364f783c98999a208',\n",
    "    '921b8cfd3e14bf41f028f0a3aa88c813d5039a2b1bceb12208535b0b43a5d09e',\n",
    "    '15535864799652347cec66cba473f6d8291541238e58b2e03b046bc53cfe1321',\n",
    "    '1c8af7c502971e67096456eac9cd5407aacf62190fc54188995666a30faf99f0',\n",
    "    '3311f8acc57e8a3e9b68e2945fb4f53c07b0fa4668a7e5cda6255c21558c774d',\n",
    "]\n",
    "txHexHashes = txHexHashes.map(obj => Array.prototype.reverse.call(Buffer.from(obj,'hex')) )\n",
    "helper.merkleRoot(txHexHashes)\n",
    "console.log(Array.prototype.reverse.call(Buffer.from(helper.merkleRoot(txHexHashes),'hex')).toString('hex'));\n",
    "\n",
    "//4297fb95a0168b959d1469410c7527da5d6243d99699e7d041b7f3916ba93301"
   ]
  },
  {
   "cell_type": "code",
   "execution_count": 24,
   "metadata": {},
   "outputs": [
    {
     "name": "stdout",
     "output_type": "stream",
     "text": [
      "\n",
      "\n",
      "\n",
      "\n",
      "  BlockTest\n",
      "  BlockTest\n",
      "    √ test_validate_merkle_root\n",
      "    √ test_calculate_merkle_tree (69ms)\n",
      "\n",
      "\n",
      "\n",
      "  1 passing (3s)\n",
      "\n",
      "\n",
      "  1 passing (148ms)\n",
      "\n"
     ]
    }
   ],
   "source": [
    "//# Exercise 5.2\n",
    "\n",
    "clearModule.all()\n",
    "helper.runTest('test_validate_merkle_root')\n",
    "clearModule.all()\n",
    "helper.runTest('test_calculate_merkle_tree')"
   ]
  },
  {
   "cell_type": "code",
   "execution_count": 26,
   "metadata": {},
   "outputs": [
    {
     "name": "stdout",
     "output_type": "stream",
     "text": [
      "\n",
      "Merkle Path Example\n",
      "[ 10, 5, 2, 1 ]\n"
     ]
    }
   ],
   "source": [
    "// Merkle Path Example\n",
    "console.log('\\nMerkle Path Example')\n",
    "merklePath = [];\n",
    " totalLevels = Math.ceil(Math.log2(16))\n",
    "index = 10\n",
    "for (let i = 0; i < totalLevels; i++) {\n",
    "    merklePath.push(index)\n",
    "    index = Math.floor(index / 2)\n",
    "}\n",
    "console.log(merklePath);\n"
   ]
  },
  {
   "cell_type": "markdown",
   "metadata": {},
   "source": [
    "### Exercise 6\n",
    "\n",
    "#### 6.1. Get the Merkle Path for an item at index 13 (0-base) in 27 items.\n",
    "\n",
    "#### 6.2. Make [this test](/edit/session7/helper.py) pass.\n",
    "```\n",
    "helper.py:HelperTest:test_merkle_path\n",
    "```"
   ]
  },
  {
   "cell_type": "code",
   "execution_count": 27,
   "metadata": {},
   "outputs": [
    {
     "name": "stdout",
     "output_type": "stream",
     "text": [
      "\n",
      "Exercise 6.1\n",
      "[ 13, 6, 3, 1, 0 ]\n"
     ]
    }
   ],
   "source": [
    "console.log('\\nExercise 6.1')\n",
    "merklePath = [];\n",
    " totalLevels = Math.ceil(Math.log2(27))\n",
    "index = 13\n",
    "for (let i = 0; i < totalLevels; i++) {\n",
    "    merklePath.push(index)\n",
    "    index = Math.floor(index / 2)\n",
    "}\n",
    "console.log(merklePath);\n",
    "\n",
    "//[13, 6, 3, 1, 0]\n"
   ]
  },
  {
   "cell_type": "code",
   "execution_count": 28,
   "metadata": {},
   "outputs": [
    {
     "name": "stdout",
     "output_type": "stream",
     "text": [
      "\n",
      "\n",
      "  test_merkle\n",
      "    √ test_merkle_path\n",
      "\n",
      "\n",
      "  1 passing (4ms)\n",
      "\n"
     ]
    }
   ],
   "source": [
    "//# Exercise 6.2\n",
    "\n",
    "clearModule.all()\n",
    "helper.runTest('test_merkle_path')"
   ]
  },
  {
   "cell_type": "code",
   "execution_count": 33,
   "metadata": {},
   "outputs": [
    {
     "name": "stdout",
     "output_type": "stream",
     "text": [
      "\n",
      "Merkle Proof Example\n",
      "f2710c8f3652ec6bfe79769458ae4be8117cad46964ce9dab9ce570bcb2ff9b0 : 9b74f89fa3f93e71ff2c241f32945d877281a6a50a6bf94adac002980aafe5ab : 10\t\n",
      "384680185bcb079d66ceb8e603abc2fee92d3c63754875afbd1950255b2ba9b3\t\n",
      "57405b0d17fe67aaf39f6e04179dbd023778e1884baa5d1409d0a7aea5c4a89b\t\n",
      "1af73ddc6fdd22ca9200d519e16a2cd4ad2348b3e12e2d518d76373dbe84f7ab\t\n",
      "18e541361e4b458c749b90efcfc5f57069c5dfbc6907d2843ae0b91bbbb64936\t\n",
      "4be091a6abc8ff3ba75d5c4c92625bbe8b01e9defeda862b0fca409d58315ea9\n"
     ]
    }
   ],
   "source": [
    "// Merkle Proof Example\n",
    "console.log('\\nMerkle Proof Example')\n",
    "txHexHashes = [\n",
    "    \"9745f7173ef14ee4155722d1cbf13304339fd00d900b759c6f9d58579b5765fb\",\n",
    "    \"5573c8ede34936c29cdfdfe743f7f5fdfbd4f54ba0705259e62f39917065cb9b\",\n",
    "    \"82a02ecbb6623b4274dfcab82b336dc017a27136e08521091e443e62582e8f05\",\n",
    "    \"507ccae5ed9b340363a0e6d765af148be9cb1c8766ccc922f83e4ae681658308\",\n",
    "    \"a7a4aec28e7162e1e9ef33dfa30f0bc0526e6cf4b11a576f6c5de58593898330\",\n",
    "    \"bb6267664bd833fd9fc82582853ab144fece26b7a8a5bf328f8a059445b59add\",\n",
    "    \"ea6d7ac1ee77fbacee58fc717b990c4fcccf1b19af43103c090f601677fd8836\",\n",
    "    \"457743861de496c429912558a106b810b0507975a49773228aa788df40730d41\",\n",
    "    \"7688029288efc9e9a0011c960a6ed9e5466581abf3e3a6c26ee317461add619a\",\n",
    "    \"b1ae7f15836cb2286cdd4e2c37bf9bb7da0a2846d06867a429f654b2e7f383c9\",\n",
    "    \"9b74f89fa3f93e71ff2c241f32945d877281a6a50a6bf94adac002980aafe5ab\",\n",
    "    \"b3a92b5b255019bdaf754875633c2de9fec2ab03e6b8ce669d07cb5b18804638\",\n",
    "    \"b5c0b915312b9bdaedd2b86aa2d0f8feffc73a2d37668fd9010179261e25e263\",\n",
    "    \"c9d52c5cb1e557b92c84c52e7c4bfbce859408bedffc8a5560fd6e35e10b8800\",\n",
    "    \"c555bc5fc3bc096df0a0c9532f07640bfb76bfe4fc1ace214b8b228a1297a4c2\",\n",
    "    \"f9dbfafc3af3400954975da24eb325e326960a25b87fffe23eef3e7ed2fb610e\",\n",
    "    \"8e694f5092f6a644ab587ca445f9e949e4f5991d3c3c72bd4574a7c9896a2402\",\n",
    "    \"9cc887977168f430f4f896dfc6fc7379834733ce938abe7cd8a1a668d1ea1841\",   \n",
    "]\n",
    "txHexHashes = txHexHashes.map(obj => Buffer.from(obj,'hex'))\n",
    "txHash = Buffer.from('9b74f89fa3f93e71ff2c241f32945d877281a6a50a6bf94adac002980aafe5ab','hex')\n",
    "b = new block.Block(version=536870914,\n",
    "    prevBlock = Buffer.from('00000000000002dda81fd83ac5b944ad88592a213bfaf54bffad68725c782639','hex'),\n",
    "    merkleRoot = Buffer.from('f2710c8f3652ec6bfe79769458ae4be8117cad46964ce9dab9ce570bcb2ff9b0','hex'),\n",
    "    bits = helper.intToLittleEndian(437256176,4),\n",
    "    nonce=Buffer.from([0x00, 0x00, 0x00, 0x00]),\n",
    "    timeStamp=1512503014,\n",
    "    txHashes=txHexHashes\n",
    ")\n",
    "b.calculateMerkleTree()\n",
    "\n",
    "function findBuffer(element) {\n",
    "    return\n",
    "}\n",
    "index = b.txHashes.findIndex(tx => tx.toString('hex') == txHash.toString('hex'))\n",
    "proofHashes = []\n",
    "currentIndex = index\n",
    "b.merkleTree.map(obj => {\n",
    "    if (currentIndex % 2 == 1) {\n",
    "        partner = currentIndex - 1\n",
    "    } else {\n",
    "        partner = currentIndex + 1\n",
    "    }\n",
    "    proofHashes.push(obj[partner])\n",
    "    currentIndex = Math.floor(currentIndex/2)\n",
    "})\n",
    "\n",
    "p = new block.Proof(b.merkleRoot, txHash, index, proofHashes)\n",
    "console.log(p.toString())\n",
    "\n",
    "/*\n",
    "f2710c8f3652ec6bfe79769458ae4be8117cad46964ce9dab9ce570bcb2ff9b0:9b74f89fa3f93e71ff2c241f32945d877281a6a50a6bf94adac002980aafe5ab:10:[\n",
    "\t384680185bcb079d66ceb8e603abc2fee92d3c63754875afbd1950255b2ba9b3\n",
    "\t57405b0d17fe67aaf39f6e04179dbd023778e1884baa5d1409d0a7aea5c4a89b\n",
    "\t1af73ddc6fdd22ca9200d519e16a2cd4ad2348b3e12e2d518d76373dbe84f7ab\n",
    "\t18e541361e4b458c749b90efcfc5f57069c5dfbc6907d2843ae0b91bbbb64936\n",
    "\t4be091a6abc8ff3ba75d5c4c92625bbe8b01e9defeda862b0fca409d58315ea9\n",
    "]\n",
    "*/"
   ]
  },
  {
   "cell_type": "markdown",
   "metadata": {},
   "source": [
    "### Exercise 7\n",
    "\n",
    "#### 7.1. Create a Merkle Proof for this transaction\n",
    "Transaction Hash:\n",
    "```\n",
    "e8270fb475763bc8d855cfe45ed98060988c1bdcad2ffc8364f783c98999a208\n",
    "```\n",
    "\n",
    "Block Hex:\n",
    "```\n",
    "00000020fcb19f7895db08cadc9573e7915e3919fb76d59868a51d995201000000000000acbcab8bcc1af95d8d563b77d24c3d19b18f1486383d75a5085c4e86c86beed691cfa85916ca061a00000000\n",
    "```\n",
    "\n",
    "Transaction Hashes:\n",
    "```\n",
    "42f6f52f17620653dcc909e58bb352e0bd4bd1381e2955d19c00959a22122b2e\n",
    "94c3af34b9667bf787e1c6a0a009201589755d01d02fe2877cc69b929d2418d4\n",
    "959428d7c48113cb9149d0566bde3d46e98cf028053c522b8fa8f735241aa953\n",
    "a9f27b99d5d108dede755710d4a1ffa2c74af70b4ca71726fa57d68454e609a2\n",
    "62af110031e29de1efcad103b3ad4bec7bdcf6cb9c9f4afdd586981795516577\n",
    "766900590ece194667e9da2984018057512887110bf54fe0aa800157aec796ba\n",
    "e8270fb475763bc8d855cfe45ed98060988c1bdcad2ffc8364f783c98999a208\n",
    "921b8cfd3e14bf41f028f0a3aa88c813d5039a2b1bceb12208535b0b43a5d09e\n",
    "15535864799652347cec66cba473f6d8291541238e58b2e03b046bc53cfe1321\n",
    "1c8af7c502971e67096456eac9cd5407aacf62190fc54188995666a30faf99f0\n",
    "3311f8acc57e8a3e9b68e2945fb4f53c07b0fa4668a7e5cda6255c21558c774d\n",
    "```\n",
    "\n",
    "#### 7.2. Make [this test](/edit/session7/block.py) pass.\n",
    "```\n",
    "block.py:BlockTest:test_create_merkle_proof\n",
    "```"
   ]
  },
  {
   "cell_type": "code",
   "execution_count": 34,
   "metadata": {},
   "outputs": [
    {
     "name": "stdout",
     "output_type": "stream",
     "text": [
      "\n",
      "Exercise 7.1\n",
      "d6ee6bc8864e5c08a5753d3886148fb1193d4cd2773b568d5df91acc8babbcac : e8270fb475763bc8d855cfe45ed98060988c1bdcad2ffc8364f783c98999a208 : 6\t\n",
      "9ed0a5430b5b530822b1ce1b2b9a03d513c888aaa3f028f041bf143efd8c1b92\t\n",
      "1dc4b438b3a842bcdd46b6ea5a4aac8d66be858b0ba412578027a1f1fe838c51\t\n",
      "156f3662b07aaa4a0d9762faaa8c18afe4c211ff92eb1eae1952aa66627bbf2e\t\n",
      "524c93c6dd0874c5fd9e4e57cfe83176e3c2841c973afb4043d225c22cc52983\n"
     ]
    }
   ],
   "source": [
    "console.log('\\nExercise 7.1')\n",
    "txHexHashes = [\n",
    "    '42f6f52f17620653dcc909e58bb352e0bd4bd1381e2955d19c00959a22122b2e',\n",
    "    '94c3af34b9667bf787e1c6a0a009201589755d01d02fe2877cc69b929d2418d4',\n",
    "    '959428d7c48113cb9149d0566bde3d46e98cf028053c522b8fa8f735241aa953',\n",
    "    'a9f27b99d5d108dede755710d4a1ffa2c74af70b4ca71726fa57d68454e609a2',\n",
    "    '62af110031e29de1efcad103b3ad4bec7bdcf6cb9c9f4afdd586981795516577',\n",
    "    '766900590ece194667e9da2984018057512887110bf54fe0aa800157aec796ba',\n",
    "    'e8270fb475763bc8d855cfe45ed98060988c1bdcad2ffc8364f783c98999a208',\n",
    "    '921b8cfd3e14bf41f028f0a3aa88c813d5039a2b1bceb12208535b0b43a5d09e',\n",
    "    '15535864799652347cec66cba473f6d8291541238e58b2e03b046bc53cfe1321',\n",
    "    '1c8af7c502971e67096456eac9cd5407aacf62190fc54188995666a30faf99f0',\n",
    "    '3311f8acc57e8a3e9b68e2945fb4f53c07b0fa4668a7e5cda6255c21558c774d',\n",
    "]\n",
    "txHexHashes = txHexHashes.map(obj => Buffer.from(obj,'hex'))\n",
    "txHash = Buffer.from('e8270fb475763bc8d855cfe45ed98060988c1bdcad2ffc8364f783c98999a208','hex')\n",
    "\n",
    "readable = new Readable()\n",
    "readable.push(Buffer.from('00000020fcb19f7895db08cadc9573e7915e3919fb76d59868a51d995201000000000000acbcab8bcc1af95d8d563b77d24c3d19b18f1486383d75a5085c4e86c86beed691cfa85916ca061a00000000','hex'))\n",
    "\n",
    "readable.push(null)\n",
    "   \n",
    "b = block.Block.parse(readable)\n",
    "b.txHashes = txHexHashes\n",
    "\n",
    "b.calculateMerkleTree()\n",
    "\n",
    "\n",
    "function findBuffer(element) {\n",
    "    return\n",
    "}\n",
    "index = b.txHashes.findIndex(tx => tx.toString('hex') == txHash.toString('hex'))\n",
    "proofHashes = []\n",
    "currentIndex = index\n",
    "b.merkleTree.map(obj => {\n",
    "    if (currentIndex % 2 == 1) {\n",
    "        partner = currentIndex - 1\n",
    "    } else {\n",
    "        partner = currentIndex + 1\n",
    "    }\n",
    "    proofHashes.push(obj[partner])\n",
    "    currentIndex = Math.floor(currentIndex/2)\n",
    "})\n",
    "\n",
    "p = new block.Proof(b.merkleRoot, txHash, index, proofHashes)\n",
    "console.log(p.toString())\n",
    "\n",
    "/*\n",
    "d6ee6bc8864e5c08a5753d3886148fb1193d4cd2773b568d5df91acc8babbcac:e8270fb475763bc8d855cfe45ed98060988c1bdcad2ffc8364f783c98999a208:6:[\n",
    "\t9ed0a5430b5b530822b1ce1b2b9a03d513c888aaa3f028f041bf143efd8c1b92\n",
    "\t1dc4b438b3a842bcdd46b6ea5a4aac8d66be858b0ba412578027a1f1fe838c51\n",
    "\t156f3662b07aaa4a0d9762faaa8c18afe4c211ff92eb1eae1952aa66627bbf2e\n",
    "\t524c93c6dd0874c5fd9e4e57cfe83176e3c2841c973afb4043d225c22cc52983\n",
    "]\n",
    "*/"
   ]
  },
  {
   "cell_type": "code",
   "execution_count": 35,
   "metadata": {},
   "outputs": [
    {
     "name": "stdout",
     "output_type": "stream",
     "text": [
      "\n",
      "\n",
      "  BlockTest\n",
      "    √ test_create_merkle_proof\n",
      "\n",
      "\n",
      "  1 passing (22ms)\n",
      "\n"
     ]
    }
   ],
   "source": [
    "//# Exercise 7.2\n",
    "\n",
    "clearModule.all()\n",
    "helper.runTest('test_create_merkle_proof')"
   ]
  },
  {
   "cell_type": "markdown",
   "metadata": {},
   "source": [
    "### Exercise 8\n",
    "\n",
    "#### 8.1. Verify a Merkle Proof\n",
    "Transaction Hash:\n",
    "```\n",
    "e8270fb475763bc8d855cfe45ed98060988c1bdcad2ffc8364f783c98999a208\n",
    "```\n",
    "\n",
    "Index:\n",
    "```\n",
    "6\n",
    "```\n",
    "\n",
    "Merkle Root:\n",
    "```\n",
    "4297fb95a0168b959d1469410c7527da5d6243d99699e7d041b7f3916ba93301\n",
    "```\n",
    "\n",
    "Merkle Proof:\n",
    "```\n",
    "9ed0a5430b5b530822b1ce1b2b9a03d513c888aaa3f028f041bf143efd8c1b92\n",
    "1dc4b438b3a842bcdd46b6ea5a4aac8d66be858b0ba412578027a1f1fe838c51\n",
    "156f3662b07aaa4a0d9762faaa8c18afe4c211ff92eb1eae1952aa66627bbf2e\n",
    "524c93c6dd0874c5fd9e4e57cfe83176e3c2841c973afb4043d225c22cc52983\n",
    "```\n",
    "\n",
    "#### 8.2. Make [this test](/edit/session7/block.py) pass.\n",
    "```\n",
    "block.py:BlockTest:test_verify_merkle_proof\n",
    "```"
   ]
  },
  {
   "cell_type": "code",
   "execution_count": 36,
   "metadata": {},
   "outputs": [
    {
     "name": "stdout",
     "output_type": "stream",
     "text": [
      "\n",
      "Exercise 8.1\n",
      "true\n"
     ]
    }
   ],
   "source": [
    "// Exercise 8.1\n",
    "console.log('\\nExercise 8.1')\n",
    "txHash = Buffer.from('e8270fb475763bc8d855cfe45ed98060988c1bdcad2ffc8364f783c98999a208','hex')\n",
    "merkleRoot = Buffer.from('4297fb95a0168b959d1469410c7527da5d6243d99699e7d041b7f3916ba93301','hex')\n",
    "proofHexHashes = [\n",
    "    '9ed0a5430b5b530822b1ce1b2b9a03d513c888aaa3f028f041bf143efd8c1b92',\n",
    "    '1dc4b438b3a842bcdd46b6ea5a4aac8d66be858b0ba412578027a1f1fe838c51',\n",
    "    '156f3662b07aaa4a0d9762faaa8c18afe4c211ff92eb1eae1952aa66627bbf2e',\n",
    "    '524c93c6dd0874c5fd9e4e57cfe83176e3c2841c973afb4043d225c22cc52983',\n",
    "]\n",
    "proofHashes = proofHexHashes.map(obj => Buffer.from(obj,'hex'))\n",
    "index = 6;\n",
    "current = txHash.map(obj => Array.prototype.reverse.call(obj) )\n",
    "current = Array.prototype.reverse.call(txHash)\n",
    "currentIndex = index\n",
    "proofHashes.map ( p => {\n",
    "    if (currentIndex % 2 == 1) {\n",
    "        current = helper.merkleParent(p, current)\n",
    "    } else {\n",
    "        current = helper.merkleParent(current, p)\n",
    "    }\n",
    "    currentIndex = Math.floor(currentIndex / 2);\n",
    "\n",
    "\n",
    "})\n",
    "\n",
    "console.log(Array.prototype.reverse.call(current).toString('hex') ==  merkleRoot.toString('hex'))\n",
    "//true"
   ]
  },
  {
   "cell_type": "code",
   "execution_count": 37,
   "metadata": {},
   "outputs": [
    {
     "name": "stdout",
     "output_type": "stream",
     "text": [
      "\n",
      "\n",
      "  BlockTest\n",
      "    √ test_verify_merkle_proof\n",
      "\n",
      "\n",
      "  1 passing (9ms)\n",
      "\n"
     ]
    }
   ],
   "source": [
    "//# Exercise 8.2\n",
    "\n",
    "clearModule.all()\n",
    "helper.runTest('test_verify_merkle_proof')"
   ]
  },
  {
   "cell_type": "markdown",
   "metadata": {},
   "source": [
    "### Exercise 9\n",
    "\n",
    "#### Check the cheat sheet for the network message structure.\n",
    "\n",
    "#### 9.1. Parse this message\n",
    "```\n",
    "f9beb4d976657261636b000000000000000000005df6e0e2\n",
    "```\n",
    "\n",
    "#### 9.2. Make [these test](/edit/session7/network.py) pass.\n",
    "```\n",
    "network.py:NetworkTest:test_parse\n",
    "network.py:NetworkTest:test_serialize\n",
    "```"
   ]
  },
  {
   "cell_type": "code",
   "execution_count": 38,
   "metadata": {},
   "outputs": [
    {
     "name": "stdout",
     "output_type": "stream",
     "text": [
      "\n",
      "Exercise 9.1\n",
      "verack\u0000\u0000\u0000\u0000\u0000\n"
     ]
    }
   ],
   "source": [
    "// Exercise 9.1\n",
    "console.log('\\nExercise 9.1')\n",
    "msg = Buffer.from('f9beb4d976657261636b000000000000000000005df6e0e2','hex')\n",
    "\n",
    "magic = msg.slice(0,3)\n",
    "command = msg.slice(4,15).toString('ascii')\n",
    "payloadLength = msg.slice(16,19)\n",
    "checksum = msg.slice(20,23)\n",
    "payload = msg.slice(24, msg.length-1)\n",
    "console.log(command)\n"
   ]
  },
  {
   "cell_type": "code",
   "execution_count": 40,
   "metadata": {},
   "outputs": [
    {
     "name": "stdout",
     "output_type": "stream",
     "text": [
      "\n",
      "\n",
      "\n",
      "\n"
     ]
    },
    {
     "name": "stderr",
     "output_type": "stream",
     "text": [
      "(node:18148) MaxListenersExceededWarning: Possible EventEmitter memory leak detected. 11 exit listeners added. Use emitter.setMaxListeners() to increase limit\n"
     ]
    },
    {
     "name": "stdout",
     "output_type": "stream",
     "text": [
      "  NetworkEnvelopeTest\n",
      "  NetworkEnvelopeTest\n",
      "    √ test_parse_net\n",
      "    √ test_serialize_net\n",
      "    √ test_parse_net2\n",
      "version\u0000\u0000\u0000\u0000\u0000: 721101000100000000000000bc8f5e5400000000010000000000000000000000000000000000ffffc61b6409208d010000000000000000000000000000000000ffffcb0071c0208d128035cbc97953f80f2f5361746f7368693a302e392e332fcf05050001\n",
      "    √ test_serialize_net2\n",
      "\n",
      "\n",
      "\n",
      "  2 passing (2s)\n",
      "\n",
      "\n",
      "  2 passing (20ms)\n",
      "\n"
     ]
    }
   ],
   "source": [
    "//# Exercise 9.2\n",
    "\n",
    "clearModule.all()\n",
    "helper.runTest('test_parse_net')\n",
    "clearModule.all()\n",
    "helper.runTest('test_serialize_net')"
   ]
  },
  {
   "cell_type": "markdown",
   "metadata": {},
   "source": [
    "### Exercise 10\n",
    "\n",
    "#### 10.1. Parse this message\n",
    "```\n",
    "f9beb4d974780000000000000000000002010000e293cdbe01000000016dbddb085b1d8af75184f0bc01fad58d1266e9b63b50881990e4b40d6aee3629000000008b483045022100f3581e1972ae8ac7c7367a7a253bc1135223adb9a468bb3a59233f45bc578380022059af01ca17d00e41837a1d58e97aa31bae584edec28d35bd96923690913bae9a0141049c02bfc97ef236ce6d8fe5d94013c721e915982acd2b12b65d9b7d59e20a842005f8fc4e02532e873d37b96f09d6d4511ada8f14042f46614a4c70c0f14beff5ffffffff02404b4c00000000001976a9141aa0cd1cbea6e7458a7abad512a9d9ea1afb225e88ac80fae9c7000000001976a9140eab5bea436a0484cfab12485efda0b78b4ecc5288ac00000000\n",
    "```\n"
   ]
  },
  {
   "cell_type": "code",
   "execution_count": 44,
   "metadata": {},
   "outputs": [
    {
     "name": "stdout",
     "output_type": "stream",
     "text": [
      "\n",
      "# Excercise 10.1\n",
      "tx\u0000\u0000\u0000\u0000\u0000\u0000\u0000\u0000\u0000\u0000: 01000000016dbddb085b1d8af75184f0bc01fad58d1266e9b63b50881990e4b40d6aee3629000000008b483045022100f3581e1972ae8ac7c7367a7a253bc1135223adb9a468bb3a59233f45bc578380022059af01ca17d00e41837a1d58e97aa31bae584edec28d35bd96923690913bae9a0141049c02bfc97ef236ce6d8fe5d94013c721e915982acd2b12b65d9b7d59e20a842005f8fc4e02532e873d37b96f09d6d4511ada8f14042f46614a4c70c0f14beff5ffffffff02404b4c00000000001976a9141aa0cd1cbea6e7458a7abad512a9d9ea1afb225e88ac80fae9c7000000001976a9140eab5bea436a0484cfab12485efda0b78b4ecc5288ac00000000\n"
     ]
    }
   ],
   "source": [
    "// Exercise 10.1\n",
    "console.log('\\n# Excercise 10.1')\n",
    "msg = Buffer.from('f9beb4d974780000000000000000000002010000e293cdbe01000000016dbddb085b1d8af75184f0bc01fad58d1266e9b63b50881990e4b40d6aee3629000000008b483045022100f3581e1972ae8ac7c7367a7a253bc1135223adb9a468bb3a59233f45bc578380022059af01ca17d00e41837a1d58e97aa31bae584edec28d35bd96923690913bae9a0141049c02bfc97ef236ce6d8fe5d94013c721e915982acd2b12b65d9b7d59e20a842005f8fc4e02532e873d37b96f09d6d4511ada8f14042f46614a4c70c0f14beff5ffffffff02404b4c00000000001976a9141aa0cd1cbea6e7458a7abad512a9d9ea1afb225e88ac80fae9c7000000001976a9140eab5bea436a0484cfab12485efda0b78b4ecc5288ac00000000','hex')\n",
    "readable = new Readable()\n",
    "readable.push(msg)\n",
    "readable.push(null)\n",
    "console.log(network.NetworkEnvelope.parse(readable).toString())\n",
    "\n",
    "//tx: 01000000016dbddb085b1d8af75184f0bc01fad58d1266e9b63b50881990e4b40d6aee3629000000008b483045022100f3581e1972ae8ac7c7367a7a253bc1135223adb9a468bb3a59233f45bc578380022059af01ca17d00e41837a1d58e97aa31bae584edec28d35bd96923690913bae9a0141049c02bfc97ef236ce6d8fe5d94013c721e915982acd2b12b65d9b7d59e20a842005f8fc4e02532e873d37b96f09d6d4511ada8f14042f46614a4c70c0f14beff5ffffffff02404b4c00000000001976a9141aa0cd1cbea6e7458a7abad512a9d9ea1afb225e88ac80fae9c7000000001976a9140eab5bea436a0484cfab12485efda0b78b4ecc5288ac00000000\n"
   ]
  },
  {
   "cell_type": "markdown",
   "metadata": {},
   "source": [
    "### Exercise 11\n",
    "\n",
    "Use https://bitnodes.earn.com/nodes/ to find nodes to connect to.\n",
    "\n",
    "#### 11.1. Run the code below and parse some messages\n",
    "\n",
    "#### Bonus: Run the connect.py script in the terminal to see how asynchronous connections can work"
   ]
  },
  {
   "cell_type": "code",
   "execution_count": 28,
   "metadata": {},
   "outputs": [
    {
     "name": "stdout",
     "output_type": "stream",
     "text": [
      "f9beb4d976657273696f6e000000000066000000f3b9f4057f1101000d040000000000000985575b00000000010000000000000000000000000000000000ffffc61b6409208d0d04000000000000000000000000000000000000000000000000b6a0c6577bd54af0102f5361746f7368693a302e31362e302fed23080001f9beb4d976657261636b000000000000000000005df6e0e2\n"
     ]
    }
   ],
   "source": [
    "import socket\n",
    "s = socket.socket(socket.AF_INET, socket.SOCK_STREAM)\n",
    "msg = bytes.fromhex('f9beb4d976657273696f6e0000000000650000005f1a69d2721101000100000000000000bc8f5e5400000000010000000000000000000000000000000000ffffc61b6409208d010000000000000000000000000000000000ffffcb0071c0208d128035cbc97953f80f2f5361746f7368693a302e392e332fcf05050001')\n",
    "s.connect(('46.101.99.121', 8333))\n",
    "s.sendall(msg)\n",
    "data = s.recv(200)\n",
    "print(data.hex())"
   ]
  }
 ],
 "metadata": {
  "kernelspec": {
   "display_name": "Javascript (Node.js)",
   "language": "javascript",
   "name": "javascript"
  },
  "language_info": {
   "file_extension": ".js",
   "mimetype": "application/javascript",
   "name": "javascript",
   "version": "8.11.1"
  }
 },
 "nbformat": 4,
 "nbformat_minor": 2
}
