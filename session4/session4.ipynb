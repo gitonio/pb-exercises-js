{
 "cells": [
  {
   "cell_type": "code",
   "execution_count": 10,
   "metadata": {},
   "outputs": [],
   "source": [
    "// import everything and define a test runner function\n",
    "var helper = require('./helper')\n",
    "var ecc = require('./ecc')\n",
    "var BN = require('bn.js')\n",
    "var tx = require('./tx.js')\n",
    "var Readable = require('stream').Readable\n",
    "var script = require('./script.js')\n",
    "var clearModule = require('clear-module')"
   ]
  },
  {
   "cell_type": "markdown",
   "metadata": {},
   "source": [
    "### Exercise 1\n",
    "\n",
    "#### 1.1. Determine a ScriptSig that will satisfy this scriptPubKey:\n",
    "```\n",
    "767695935687\n",
    "```\n",
    "#### Hint: use the Script.parse method"
   ]
  },
  {
   "cell_type": "code",
   "execution_count": 7,
   "metadata": {},
   "outputs": [
    {
     "name": "stdout",
     "output_type": "stream",
     "text": [
      "\n",
      "Exercise 1.1\n",
      " OP_DUP OP_DUP OP_MUL OP_ADD OP_6 OP_EQUAL\n"
     ]
    }
   ],
   "source": [
    "// Exercise 1.1\n",
    "console.log('\\nExercise 1.1')\n",
    "hexScript = '767695935687'\n",
    "s = script.Script.parse(Buffer.from(hexScript,'hex'))\n",
    "console.log(s.toString())\n",
    "//OP_DUP OP_DUP OP_MUL OP_ADD OP_6 OP_EQUAL \n"
   ]
  },
  {
   "cell_type": "markdown",
   "metadata": {},
   "source": [
    "### Exercise 2\n",
    "\n",
    "#### 2.1. Determine what this scriptPubKey is doing:\n",
    "```\n",
    "6e879169a77ca787\n",
    "```\n",
    "\n",
    "#### Hint: Use the Script.parse method and look up what various OP codes do here: \n",
    "#### https://en.bitcoin.it/wiki/Script"
   ]
  },
  {
   "cell_type": "code",
   "execution_count": 8,
   "metadata": {},
   "outputs": [
    {
     "name": "stdout",
     "output_type": "stream",
     "text": [
      "\n",
      "Exercise 2.1\n",
      " OP_2DUP OP_EQUAL OP_NOT OP_VERIFY OP_SHA1 OP_SWAP OP_SHA1 OP_EQUAL\n"
     ]
    }
   ],
   "source": [
    "// Exercise 2.1\n",
    "console.log('\\nExercise 2.1')\n",
    "hexScript = '6e879169a77ca787'\n",
    "s = script.Script.parse(Buffer.from(hexScript,'hex'))\n",
    "console.log(s.toString())\n",
    "//OP_2DUP OP_EQUAL OP_NOT OP_VERIFY OP_SHA1 OP_SWAP OP_SHA1 OP_EQUAL \n"
   ]
  },
  {
   "cell_type": "markdown",
   "metadata": {},
   "source": [
    "### Exercise 3\n",
    "\n",
    "#### 3.1. Make [this test](/edit/session4/tx.py) pass\n",
    "```\n",
    "tx.py:TxTest:test_serialize\n",
    "```"
   ]
  },
  {
   "cell_type": "code",
   "execution_count": 24,
   "metadata": {},
   "outputs": [
    {
     "name": "stdout",
     "output_type": "stream",
     "text": [
      "in 99c3980000000000\n",
      "in a135ef0100000000\n",
      "\n",
      "\n",
      "  TxTest\n",
      "    √ test_serialize\n",
      "\n",
      "\n",
      "  1 passing (15ms)\n",
      "\n"
     ]
    }
   ],
   "source": [
    "//# Exercise 3.1\n",
    "clearModule.all();\n",
    "\n",
    "helper.runTest('test_serialize');"
   ]
  },
  {
   "cell_type": "code",
   "execution_count": 28,
   "metadata": {},
   "outputs": [
    {
     "name": "stdout",
     "output_type": "stream",
     "text": [
      "version: 1\n",
      "Inputs:\n",
      " ��8%�+�����\t�N�\u0013-��/��f6�H��S|\u0013:0\n",
      "Y\u00013جe2)���-*�VE\u0002\u0005\u001f!UO����{�rtQ:1\n",
      "\n",
      "Outputs:\n",
      " 42505594 :  OP_DUP OP_HASH160 a802fc56c704ce87c42d7c92eb75e7896bdc41ae OP_EQUALVERIFY OP_CHECKSIG\n",
      "6181285 :  OP_DUP OP_HASH160 e82bd75c9c662c3f5700b33fec8a676b6e9391d5 OP_EQUALVERIFY OP_CHECKSIG\n",
      "\n",
      "Locktime:0\n"
     ]
    }
   ],
   "source": [
    "//# Example of how to look up a transaction using fetch_tx() method\n",
    "\n",
    "//console.log('\\nExercise 3.1')\n",
    "prevTx = Buffer.from('d1c789a9c60383bf715f3f6ad9d14b91fe55f3deb369fe5d9280cb1a01793f81','hex') \n",
    "txIn = new tx.TxIn(prevTx, 0, Buffer.from([]), 0xffffffff, {})\n",
    "/*\n",
    "tx = txIn.fetchTx(0).then( tx => {\n",
    "\tconsole.log(tx)\n",
    "\treturn tx\n",
    "})\n",
    "*/\n",
    "\n",
    "tx0 = txIn.fetchTx(0)\n",
    "console.log(tx0.toString())\n"
   ]
  },
  {
   "cell_type": "markdown",
   "metadata": {},
   "source": [
    "### Exercise 4\n",
    "\n",
    "\n",
    "#### 4.1. What is the value and scriptPubKey of the 0th output of this transaction?\n",
    "```\n",
    "d1c789a9c60383bf715f3f6ad9d14b91fe55f3deb369fe5d9280cb1a01793f81\n",
    "```\n",
    "\n",
    "#### 4.2. Make [these tests](/edit/session4/tx.py) pass\n",
    "```\n",
    "tx.py:TxTest:test_input_value\n",
    "tx.py:TxTest:test_input_pubkey\n",
    "```"
   ]
  },
  {
   "cell_type": "code",
   "execution_count": 31,
   "metadata": {},
   "outputs": [
    {
     "name": "stdout",
     "output_type": "stream",
     "text": [
      "\n",
      "Exercise 4.1\n",
      "42505594\n",
      " OP_DUP OP_HASH160 a802fc56c704ce87c42d7c92eb75e7896bdc41ae OP_EQUALVERIFY OP_CHECKSIG\n"
     ]
    }
   ],
   "source": [
    "//# Exercise 4.1\n",
    "\n",
    "//from tx import TxIn\n",
    "\n",
    "prevTx = Buffer.from('d1c789a9c60383bf715f3f6ad9d14b91fe55f3deb369fe5d9280cb1a01793f81','hex') \n",
    "//prev_index = 0\n",
    "\n",
    "//# create the transaction input (use blank script_sig and 0xffffffff for sequence)\n",
    "txIn = new tx.TxIn(prevTx, 0, Buffer.from([]), 0xffffffff, {})\n",
    "//# fetch the transaction\n",
    "tx0 = txIn.fetchTx(0)\n",
    "//# grab the output at the index\n",
    "//prev_output = t.tx_outs[prev_index]\n",
    "//# show the amount\n",
    "//print(prev_output.amount)\n",
    "//# show the script_pubkey\n",
    "//print(prev_output.script_pubkey)\n",
    "// Exercise 4.1\n",
    "console.log('\\nExercise 4.1')\n",
    "prevIndex = 0\n",
    "prevOutput = tx0.outputs[prevIndex]\n",
    "console.log(prevOutput.amount)\n",
    "console.log(prevOutput.scriptPubkey.toString())\n",
    "//42505594\n",
    "//OP_DUP OP_HASH160 a802fc56c704ce87c42d7c92eb75e7896bdc41ae OP_EQUALVERIFY OP_CHECKSIG \n"
   ]
  },
  {
   "cell_type": "code",
   "execution_count": 32,
   "metadata": {},
   "outputs": [
    {
     "name": "stdout",
     "output_type": "stream",
     "text": [
      "in 99c3980000000000\n",
      "in a135ef0100000000\n",
      "\n",
      "\n",
      "in 99c3980000000000\n",
      "in a135ef0100000000\n",
      "\n",
      "\n",
      "  TxTest\n",
      "  TxTest\n",
      "    √ test_input_value (877ms)\n",
      "    √ test_input_pubkey (907ms)\n",
      "\n",
      "\n",
      "\n",
      "  1 passing (4s)\n",
      "\n",
      "\n",
      "  1 passing (2s)\n",
      "\n"
     ]
    }
   ],
   "source": [
    "//# Exercise 4.2\n",
    "\n",
    "clearModule.all();\n",
    "helper.runTest('test_input_value')\n",
    "clearModule.all();\n",
    "helper.runTest('test_input_pubkey')"
   ]
  },
  {
   "cell_type": "markdown",
   "metadata": {},
   "source": [
    "### Exercise 5\n",
    "\n",
    "#### 5.1. How much is the transaction fee of this transaction?\n",
    "```\n",
    "010000000456919960ac691763688d3d3bcea9ad6ecaf875df5339e148a1fc61c6ed7a069e010000006a47304402204585bcdef85e6b1c6af5c2669d4830ff86e42dd205c0e089bc2a821657e951c002201024a10366077f87d6bce1f7100ad8cfa8a064b39d4e8fe4ea13a7b71aa8180f012102f0da57e85eec2934a82a585ea337ce2f4998b50ae699dd79f5880e253dafafb7feffffffeb8f51f4038dc17e6313cf831d4f02281c2a468bde0fafd37f1bf882729e7fd3000000006a47304402207899531a52d59a6de200179928ca900254a36b8dff8bb75f5f5d71b1cdc26125022008b422690b8461cb52c3cc30330b23d574351872b7c361e9aae3649071c1a7160121035d5c93d9ac96881f19ba1f686f15f009ded7c62efe85a872e6a19b43c15a2937feffffff567bf40595119d1bb8a3037c356efd56170b64cbcc160fb028fa10704b45d775000000006a47304402204c7c7818424c7f7911da6cddc59655a70af1cb5eaf17c69dadbfc74ffa0b662f02207599e08bc8023693ad4e9527dc42c34210f7a7d1d1ddfc8492b654a11e7620a0012102158b46fbdff65d0172b7989aec8850aa0dae49abfb84c81ae6e5b251a58ace5cfeffffffd63a5e6c16e620f86f375925b21cabaf736c779f88fd04dcad51d26690f7f345010000006a47304402200633ea0d3314bea0d95b3cd8dadb2ef79ea8331ffe1e61f762c0f6daea0fabde022029f23b3e9c30f080446150b23852028751635dcee2be669c2a1686a4b5edf304012103ffd6f4a67e94aba353a00882e563ff2722eb4cff0ad6006e86ee20dfe7520d55feffffff0251430f00000000001976a914ab0c0b2e98b1ab6dbf67d4750b0a56244948a87988ac005a6202000000001976a9143c82d7df364eb6c75be8c80df2b3eda8db57397088ac46430600\n",
    "```\n",
    "\n",
    "Fee is simply the sum of the inputs (use the value() method) minus the outputs (use the amount property)\n",
    "\n",
    "#### 5.2. Make [this test](/edit/session4/tx.py) pass\n",
    "```\n",
    "tx.py:TxTest:test_fee\n",
    "```"
   ]
  },
  {
   "cell_type": "code",
   "execution_count": 3,
   "metadata": {},
   "outputs": [
    {
     "name": "stdout",
     "output_type": "stream",
     "text": [
      "\n",
      "Exercise 5.1\n",
      "fee 140500\n"
     ]
    }
   ],
   "source": [
    "// Exercise  5.1\n",
    "console.log('\\nExercise 5.1')\n",
    "hexTx = '010000000456919960ac691763688d3d3bcea9ad6ecaf875df5339e148a1fc61c6ed7a069e010000006a47304402204585bcdef85e6b1c6af5c2669d4830ff86e42dd205c0e089bc2a821657e951c002201024a10366077f87d6bce1f7100ad8cfa8a064b39d4e8fe4ea13a7b71aa8180f012102f0da57e85eec2934a82a585ea337ce2f4998b50ae699dd79f5880e253dafafb7feffffffeb8f51f4038dc17e6313cf831d4f02281c2a468bde0fafd37f1bf882729e7fd3000000006a47304402207899531a52d59a6de200179928ca900254a36b8dff8bb75f5f5d71b1cdc26125022008b422690b8461cb52c3cc30330b23d574351872b7c361e9aae3649071c1a7160121035d5c93d9ac96881f19ba1f686f15f009ded7c62efe85a872e6a19b43c15a2937feffffff567bf40595119d1bb8a3037c356efd56170b64cbcc160fb028fa10704b45d775000000006a47304402204c7c7818424c7f7911da6cddc59655a70af1cb5eaf17c69dadbfc74ffa0b662f02207599e08bc8023693ad4e9527dc42c34210f7a7d1d1ddfc8492b654a11e7620a0012102158b46fbdff65d0172b7989aec8850aa0dae49abfb84c81ae6e5b251a58ace5cfeffffffd63a5e6c16e620f86f375925b21cabaf736c779f88fd04dcad51d26690f7f345010000006a47304402200633ea0d3314bea0d95b3cd8dadb2ef79ea8331ffe1e61f762c0f6daea0fabde022029f23b3e9c30f080446150b23852028751635dcee2be669c2a1686a4b5edf304012103ffd6f4a67e94aba353a00882e563ff2722eb4cff0ad6006e86ee20dfe7520d55feffffff0251430f00000000001976a914ab0c0b2e98b1ab6dbf67d4750b0a56244948a87988ac005a6202000000001976a9143c82d7df364eb6c75be8c80df2b3eda8db57397088ac46430600'\n",
    "bytTx = Buffer.from(hexTx, 'hex')\n",
    "readable = new Readable()\n",
    "readable.push(bytTx)\n",
    "readable.push(null)\n",
    "\t\t\n",
    "t = tx.Tx.parse(readable)\n",
    "\n",
    "//# initialize input sum\n",
    "inpuSum = 0\n",
    "outputSum = 0\n",
    "//# iterate over all inputs (t.tx_ins)\n",
    "x = t.inputs.map(obj => {\n",
    "\treturn obj.value()\n",
    "})\n",
    "y = t.outputs.map(obj => {\n",
    "\treturn obj.amount\n",
    "})\n",
    "\n",
    "\t\t\n",
    "reducer = (ac,cu) => ac + cu;\n",
    "inputSum = x.reduce(reducer)\t\n",
    "outputSum = y.reduce(reducer)\n",
    "fee = inputSum - outputSum\n",
    "console.log('fee', fee)\t\n",
    "\n",
    "//140500"
   ]
  },
  {
   "cell_type": "code",
   "execution_count": 13,
   "metadata": {},
   "outputs": [
    {
     "name": "stdout",
     "output_type": "stream",
     "text": [
      "in 99c3980000000000\n",
      "in a135ef0100000000\n",
      "\n",
      "\n",
      "  TxTest\n",
      "    √ test_fee2 (939ms)\n",
      "\n",
      "\n",
      "  1 passing (950ms)\n",
      "\n"
     ]
    }
   ],
   "source": [
    "//# Exercise 5.2\n",
    "\n",
    "clearModule.all()\n",
    "helper.runTest('test_fee')"
   ]
  },
  {
   "cell_type": "code",
   "execution_count": 4,
   "metadata": {},
   "outputs": [
    {
     "name": "stdout",
     "output_type": "stream",
     "text": [
      "\n",
      " double sha 256 to get z\n",
      "27e0c5994dec7824e56dec6b2fcb342eb7cdb0d0957c2fce9882f715e85d81a6\n"
     ]
    }
   ],
   "source": [
    "// double sha 256 to get Z\n",
    "console.log('\\n double sha 256 to get z')\n",
    "modifiedTx = Buffer.from('0100000001813f79011acb80925dfe69b3def355fe914bd1d96a3f5f71bf8303c6a989c7d1000000001976a914a802fc56c704ce87c42d7c92eb75e7896bdc41ae88acfeffffff02a135ef01000000001976a914bc3b654dca7e56b04dca18f2566cdaf02e8d9ada88ac99c39800000000001976a9141c4bc762dd5423e332166702cb75f40df79fea1288ac1943060001000000','hex')\n",
    "h = helper.doubleSha256(modifiedTx)\n",
    "z = new BN(h,16)\n",
    "console.log(z.toString(16))\n",
    "\n",
    "//27e0c5994dec7824e56dec6b2fcb342eb7cdb0d0957c2fce9882f715e85d81a6"
   ]
  },
  {
   "cell_type": "markdown",
   "metadata": {},
   "source": [
    "### Exercise 6\n",
    "\n",
    "#### 6.1. Make [this test](/edit/session4/tx.py) pass\n",
    "```\n",
    "tx.py:TxTest:test_sig_hash\n",
    "```"
   ]
  },
  {
   "cell_type": "code",
   "execution_count": 8,
   "metadata": {},
   "outputs": [
    {
     "name": "stdout",
     "output_type": "stream",
     "text": [
      "\n",
      "\n",
      "  TxTest\n",
      "    √ test_sig_hash (875ms)\n",
      "\n",
      "\n",
      "  1 passing (878ms)\n",
      "\n"
     ]
    }
   ],
   "source": [
    "//# Exercise 6.1\n",
    "\n",
    "clearModule.all()\n",
    "helper.runTest('test_sig_hash')"
   ]
  },
  {
   "cell_type": "code",
   "execution_count": 11,
   "metadata": {},
   "outputs": [
    {
     "name": "stdout",
     "output_type": "stream",
     "text": [
      "\n",
      " Validation example\n",
      "true\n"
     ]
    }
   ],
   "source": [
    "console.log('\\n Validation example')\n",
    "readable = new Readable()\n",
    "readable.push(Buffer.from('0100000001813f79011acb80925dfe69b3def355fe914bd1d96a3f5f71bf8303c6a989c7d1000000006b483045022100ed81ff192e75a3fd2304004dcadb746fa5e24c5031ccfcf21320b0277457c98f02207a986d955c6e0cb35d446a89d3f56100f4d7f67801c31967743a9c8e10615bed01210349fc4e631e3624a545de3f89f5d8684c7b8138bd94bdd531d2e213bf016b278afeffffff02a135ef01000000001976a914bc3b654dca7e56b04dca18f2566cdaf02e8d9ada88ac99c39800000000001976a9141c4bc762dd5423e332166702cb75f40df79fea1288ac19430600','hex'))\n",
    "readable.push(null)\n",
    "transaction = tx.Tx.parse(readable)\n",
    "txIn = transaction.inputs[0]\n",
    "\n",
    "sig = ecc.Signature.parse(txIn.derSignature())\n",
    "\n",
    "point = ecc.S256Point.parse(txIn.secPubkey())\n",
    "console.log(point.verify(z, sig))\n"
   ]
  },
  {
   "cell_type": "markdown",
   "metadata": {},
   "source": [
    "### Exercise 7\n",
    "\n",
    "#### 7.1. Validate this signature\n",
    "\n",
    "```\n",
    "sec = 0349fc4e631e3624a545de3f89f5d8684c7b8138bd94bdd531d2e213bf016b278a\n",
    "der = 3045022100ed81ff192e75a3fd2304004dcadb746fa5e24c5031ccfcf21320b0277457c98f02207a986d955c6e0cb35d446a89d3f56100f4d7f67801c31967743a9c8e10615bed\n",
    "z = 27e0c5994dec7824e56dec6b2fcb342eb7cdb0d0957c2fce9882f715e85d81a6\n",
    "```\n",
    "\n",
    "Remember:\n",
    "\n",
    "* `sec` is the serialization of the Public Key\n",
    "* `der` is the serialization of the Signature\n",
    "* `z` is the hash that you're verifying the signature against"
   ]
  },
  {
   "cell_type": "code",
   "execution_count": 12,
   "metadata": {},
   "outputs": [
    {
     "name": "stdout",
     "output_type": "stream",
     "text": [
      "\n",
      "Exercise 7.1\n",
      "true\n"
     ]
    }
   ],
   "source": [
    "\n",
    "// Exercise 7.1\n",
    "console.log('\\nExercise 7.1')\n",
    "sec = Buffer.from('0349fc4e631e3624a545de3f89f5d8684c7b8138bd94bdd531d2e213bf016b278a','hex')\n",
    "der = Buffer.from('3045022100ed81ff192e75a3fd2304004dcadb746fa5e24c5031ccfcf21320b0277457c98f02207a986d955c6e0cb35d446a89d3f56100f4d7f67801c31967743a9c8e10615bed','hex')\n",
    "z = new BN('27e0c5994dec7824e56dec6b2fcb342eb7cdb0d0957c2fce9882f715e85d81a6','hex')\n",
    "r = new BN('ed81ff192e75a3fd2304004dcadb746fa5e24c5031ccfcf21320b0277457c98f','hex')\n",
    "s = new BN('7a986d955c6e0cb35d446a89d3f56100f4d7f67801c31967743a9c8e10615bed','hex')\n",
    "point = ecc.S256Point.parse(sec)\n",
    "//sig = new ecc.Signature(r,s)\n",
    "sig = ecc.Signature.parse(der)\n",
    "console.log(point.verify(z, sig))\n"
   ]
  },
  {
   "cell_type": "markdown",
   "metadata": {},
   "source": [
    "### Exercise 8\n",
    "\n",
    "#### 8.1. Validate the signature for the first input in this transaction.\n",
    "```\n",
    "01000000012f5ab4d2666744a44864a63162060c2ae36ab0a2375b1c2b6b43077ed5dcbed6000000006a473044022034177d53fcb8e8cba62432c5f6cc3d11c16df1db0bce20b874cfc61128b529e1022040c2681a2845f5eb0c46adb89585604f7bf8397b82db3517afb63f8e3d609c990121035e8b10b675477614809f3dde7fd0e33fb898af6d86f51a65a54c838fddd417a5feffffff02c5872e00000000001976a91441b835c78fb1406305727d8925ff315d90f9bbc588acae2e1700000000001976a914c300e84d277c6c7bcf17190ebc4e7744609f8b0c88ac31470600\n",
    "```"
   ]
  },
  {
   "cell_type": "code",
   "execution_count": 16,
   "metadata": {},
   "outputs": [
    {
     "name": "stdout",
     "output_type": "stream",
     "text": [
      "\n",
      "Exercise 8.1\n"
     ]
    },
    {
     "ename": "Error",
     "evalue": "Server responded to https://blockexplorer.com/api-ref with status code 404:\nCannot GET /api-ref\n",
     "output_type": "error",
     "traceback": [
      "C:\\Users\\as0218\\Documents\\pb-exercises-jsnb\\node_modules\\http-response-object\\lib\\index.js:51",
      "            throw err;",
      "            ^",
      "",
      "Error: Server responded to https://blockexplorer.com/api-ref with status code 404:",
      "Cannot GET /api-ref",
      "",
      "    at Response.getBody (C:\\Users\\as0218\\Documents\\pb-exercises-jsnb\\node_modules\\http-response-object\\lib\\index.js:41:23)",
      "    at TxIn.fetchTx (C:\\Users\\as0218\\Documents\\pb-exercises-jsnb\\session4\\tx.js:261:33)",
      "    at TxIn.scriptPubkey (C:\\Users\\as0218\\Documents\\pb-exercises-jsnb\\session4\\tx.js:312:19)",
      "    at Tx.sigHash (C:\\Users\\as0218\\Documents\\pb-exercises-jsnb\\session4\\tx.js:114:37)",
      "    at evalmachine.<anonymous>:19:7",
      "    at ContextifyScript.Script.runInThisContext (vm.js:50:33)",
      "    at Object.runInThisContext (vm.js:139:38)",
      "    at run ([eval]:1002:15)",
      "    at onRunRequest ([eval]:829:18)",
      "    at onMessage ([eval]:789:13)"
     ]
    }
   ],
   "source": [
    "// Exercise 8.1\n",
    "clearModule.all()\n",
    "\n",
    "console.log('\\nExercise 8.1')\n",
    "hexTx = Buffer.from('01000000012f5ab4d2666744a44864a63162060c2ae36ab0a2375b1c2b6b43077ed5dcbed6000000006a473044022034177d53fcb8e8cba62432c5f6cc3d11c16df1db0bce20b874cfc61128b529e1022040c2681a2845f5eb0c46adb89585604f7bf8397b82db3517afb63f8e3d609c990121035e8b10b675477614809f3dde7fd0e33fb898af6d86f51a65a54c838fddd417a5feffffff02c5872e00000000001976a91441b835c78fb1406305727d8925ff315d90f9bbc588acae2e1700000000001976a914c300e84d277c6c7bcf17190ebc4e7744609f8b0c88ac31470600','hex')\n",
    "readable = new Readable()\n",
    "readable.push(hexTx)\n",
    "readable.push(null)\n",
    "index = 0\n",
    "t = tx.Tx.parse(readable)\n",
    "txIn = t.inputs[index]\n",
    "\n",
    "der = txIn.derSignature()\n",
    "sig = ecc.Signature.parse(der)\n",
    "sec = txIn.secPubkey()\n",
    "hashType = txIn.hashType()\n",
    "\n",
    "point = ecc.S256Point.parse(sec)\n",
    "z = t.sigHash(index, hashType)\n",
    "console.log(point.verify(z,sig))\n"
   ]
  },
  {
   "cell_type": "code",
   "execution_count": null,
   "metadata": {},
   "outputs": [],
   "source": []
  }
 ],
 "metadata": {
  "kernelspec": {
   "display_name": "Javascript (Node.js)",
   "language": "javascript",
   "name": "javascript"
  },
  "language_info": {
   "file_extension": ".js",
   "mimetype": "application/javascript",
   "name": "javascript",
   "version": "8.11.1"
  }
 },
 "nbformat": 4,
 "nbformat_minor": 2
}
