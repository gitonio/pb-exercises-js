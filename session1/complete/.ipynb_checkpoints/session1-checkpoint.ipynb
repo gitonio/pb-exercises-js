{
 "cells": [
  {
   "cell_type": "code",
   "execution_count": 28,
   "metadata": {},
   "outputs": [],
   "source": [
    "// import everything and define a test runner function\n",
    "var helper = require('./helper')\n",
    "var ecc = require('./ecc')\n",
    "//const clearModule = require('clear-module')"
   ]
  },
  {
   "cell_type": "markdown",
   "metadata": {},
   "source": [
    "The modulo function is not well defined for negative numbers and Python and Javascript give different results. See the [following](https://stackoverflow.com/questions/4467539/javascript-modulo-gives-a-negative-result-for-negative-numbers)\n",
    " explanation and function to get a modulo function that is consistent with Python."
   ]
  },
  {
   "cell_type": "code",
   "execution_count": 2,
   "metadata": {},
   "outputs": [
    {
     "name": "stdout",
     "output_type": "stream",
     "text": [
      "17\n",
      "6\n",
      "3\n",
      "11\n"
     ]
    }
   ],
   "source": [
    "// Addition/Subtraction example\n",
    "function mod(n, m) {\n",
    "    return ((n % m) +m) % m;\n",
    "}\n",
    "\n",
    "console.log((11 + 6) % 19)\n",
    "console.log((17 - 11) % 19)\n",
    "console.log((8 + 14) % 19)\n",
    "console.log(mod(4-12, 19))\n"
   ]
  },
  {
   "cell_type": "markdown",
   "metadata": {},
   "source": [
    "### Exercise 1\n",
    "\n",
    "Remember the % operator does the actual modulo operation. Also remember that `+` and `-` need to be in `()` because in the order of operations `%` comes before `+` and `-`.\n",
    "\n",
    "#### 1.1. Solve these equations in \\\\(F_{31}\\\\):\n",
    "\n",
    "```\n",
    "2+15=?\n",
    "17+21=?\n",
    "29-4=?\n",
    "15-30=?\n",
    "```\n",
    "\n"
   ]
  },
  {
   "cell_type": "code",
   "execution_count": 3,
   "metadata": {},
   "outputs": [
    {
     "name": "stdout",
     "output_type": "stream",
     "text": [
      "17\n",
      "7\n",
      "25\n",
      "16\n"
     ]
    }
   ],
   "source": [
    "// Exercise 1.1\n",
    "\n",
    "prime = 31\n",
    "console.log((2 + 15) % prime)\n",
    "console.log((17 + 21) % prime)\n",
    "console.log((29 - 4) % prime)\n",
    "console.log(mod(15-30, prime))\n"
   ]
  },
  {
   "cell_type": "markdown",
   "metadata": {},
   "source": [
    "### Exercise 2\n",
    "\n",
    "Make [these tests](/edit/session1/complete/ecc.test.js) pass:\n",
    "```\n",
    "ecc.py:FieldElementTest:test_add\n",
    "ecc.py:FieldElementTest:test_sub\n",
    "```"
   ]
  },
  {
   "cell_type": "code",
   "execution_count": 27,
   "metadata": {},
   "outputs": [
    {
     "name": "stdout",
     "output_type": "stream",
     "text": [
      "\n",
      "\n",
      "  FieldElement\n",
      "    ✓ test_add\n",
      "\n",
      "  Point\n",
      "    ✓ test_add0\n",
      "    ✓ test_add1\n",
      "    ✓ test_add2\n",
      "\n",
      "  ECC\n",
      "    ✓ test_add0\n",
      "    ✓ test_add1\n",
      "\n",
      "\n",
      "  6 passing (34ms)\n",
      "\n"
     ]
    }
   ],
   "source": [
    "// Exercise 2\n",
    "\n",
    "clearModule.all()\n",
    "helper.runTest('test_add')"
   ]
  },
  {
   "cell_type": "markdown",
   "metadata": {},
   "source": [
    "### Exercise 3\n",
    "\n",
    "Make [this test](/edit/session1/complete/ecc.test.js) pass:\n",
    "```\n",
    "ecc.py:FieldElementTest:test_sub\n",
    "```"
   ]
  },
  {
   "cell_type": "code",
   "execution_count": 8,
   "metadata": {},
   "outputs": [
    {
     "name": "stdout",
     "output_type": "stream",
     "text": [
      "\n",
      "\n",
      "  FieldElement\n",
      "    ✓ test_sub\n",
      "\n",
      "\n",
      "  1 passing (8ms)\n",
      "\n"
     ]
    }
   ],
   "source": [
    "// Exercise 3\n",
    "clearModule.all()\n",
    "helper.runTest('test_sub')\n",
    "\n"
   ]
  },
  {
   "cell_type": "code",
   "execution_count": 5,
   "metadata": {},
   "outputs": [
    {
     "name": "stdout",
     "output_type": "stream",
     "text": [
      "8\n",
      "2\n",
      "1\n"
     ]
    }
   ],
   "source": [
    "// Multiplication/Exponentiation Example\n",
    "\n",
    "console.log(2 * 4 % 19)\n",
    "console.log(7 * 3 % 19)\n",
    "console.log(Math.pow(11, 3) % 19)\n"
   ]
  },
  {
   "cell_type": "markdown",
   "metadata": {},
   "source": [
    "### Exercise 4\n",
    "\n",
    "#### 4. Solve these equations in \\\\(F_{31}\\\\):\n",
    "\n",
    "\\\\(24\\cdot19=?\\\\)\n",
    "\n",
    "\\\\(17^3=?\\\\)\n",
    "\n",
    "\\\\(5^5\\cdot18=?\\\\)\n",
    "\n",
    "\n",
    "\n"
   ]
  },
  {
   "cell_type": "code",
   "execution_count": 17,
   "metadata": {},
   "outputs": [
    {
     "name": "stdout",
     "output_type": "stream",
     "text": [
      "22\n",
      "15\n",
      "16\n"
     ]
    }
   ],
   "source": [
    "// Exercise 4\n",
    "\n",
    "// remember that Math.pow is the exponentiation function\n",
    "prime = 31\n",
    "// 24*19=?\n",
    "console.log(24 * 19 % prime)\n",
    "// 17^3=?\n",
    "console.log(Math.pow(17,3) % prime)\n",
    "// 5^5*18=?\n",
    "console.log(Math.pow(5,5)*18 % prime)"
   ]
  },
  {
   "cell_type": "markdown",
   "metadata": {},
   "source": [
    "### Exercise 5\n",
    "#### Write a program to calculate \\\\(0k, 1k, 2k, 3k, ... 30k\\\\) for some k in \\\\(F_{31}\\\\).  Notice anything about these sets?\n"
   ]
  },
  {
   "cell_type": "code",
   "execution_count": 18,
   "metadata": {},
   "outputs": [
    {
     "name": "stdout",
     "output_type": "stream",
     "text": [
      "0,1,2,3,4,5,6,7,8,9,10,11,12,13,14,15,16,17,18,19,20,21,22,23,24,25,26,27,28,29,30\n"
     ]
    }
   ],
   "source": [
    "//# Exercise 5\n",
    "\n",
    "\n",
    "prime = 31\n",
    "rp = Array.from({length: prime}, (x,i) => i)\n",
    "k = Math.floor(Math.random()*prime+1)\n",
    "rp = rp.map((x,i) => (i*k%prime)).sort(function(a,b) {return a - b;})\n",
    "console.log(rp.join(','))\n"
   ]
  },
  {
   "cell_type": "markdown",
   "metadata": {},
   "source": [
    "#### 6. Make [these tests](/edit/session1/ecc.py) pass:\n",
    "```\n",
    "ecc.py:FieldElementTest:test_mul\n",
    "```\n"
   ]
  },
  {
   "cell_type": "code",
   "execution_count": 19,
   "metadata": {},
   "outputs": [
    {
     "name": "stdout",
     "output_type": "stream",
     "text": [
      "\n",
      "\n",
      "  FieldElement\n",
      "    ✓ test_mul\n",
      "\n",
      "\n",
      "  1 passing (12ms)\n",
      "\n"
     ]
    }
   ],
   "source": [
    "//# Exercise 2.3\n",
    "\n",
    "clearModule.all()\n",
    "helper.runTest('test_mul')\n"
   ]
  },
  {
   "cell_type": "markdown",
   "metadata": {},
   "source": [
    "#### 7. Make [these tests](/edit/session1/ecc.py) pass:\n",
    "```\n",
    "ecc.py:FieldElementTest:test_pow\n",
    "```\n"
   ]
  },
  {
   "cell_type": "code",
   "execution_count": 20,
   "metadata": {},
   "outputs": [
    {
     "name": "stdout",
     "output_type": "stream",
     "text": [
      "\n",
      "\n",
      "  FieldElement\n",
      "    ✓ test_pow\n",
      "\n",
      "\n",
      "  1 passing (18ms)\n",
      "\n"
     ]
    }
   ],
   "source": [
    "//# Exercise 2.3\n",
    "\n",
    "clearModule.all()\n",
    "helper.runTest('test_pow')"
   ]
  },
  {
   "cell_type": "markdown",
   "metadata": {},
   "source": [
    "#### Bonus. Write a program to calculate \\\\(k^{30}\\\\) for all k in \\\\(F_{31}\\\\). Notice anything?"
   ]
  },
  {
   "cell_type": "code",
   "execution_count": 30,
   "metadata": {},
   "outputs": [
    {
     "name": "stdout",
     "output_type": "stream",
     "text": [
      "[ 1n,\n",
      "  1n,\n",
      "  1n,\n",
      "  1n,\n",
      "  1n,\n",
      "  1n,\n",
      "  1n,\n",
      "  1n,\n",
      "  1n,\n",
      "  1n,\n",
      "  1n,\n",
      "  1n,\n",
      "  1n,\n",
      "  1n,\n",
      "  1n,\n",
      "  1n,\n",
      "  1n,\n",
      "  1n,\n",
      "  1n,\n",
      "  1n,\n",
      "  1n,\n",
      "  1n,\n",
      "  1n,\n",
      "  1n,\n",
      "  1n,\n",
      "  1n,\n",
      "  1n,\n",
      "  1n,\n",
      "  1n,\n",
      "  1n ]\n"
     ]
    }
   ],
   "source": [
    "//# Bonus\n",
    "BN = require('bn.js')\n",
    "\n",
    "prime = 31\n",
    "\n",
    "//# use range(1, prime) to iterate over all numbers from 1 to 30 inclusive\n",
    "rp = Array.from({length: prime-1}, (x,i) => i+1)\n",
    "prime = 31n\n",
    "exp = 30n\n",
    "rp = rp.map((x,i) => (helper.pow(BigInt(x),exp, prime) ))\n",
    "console.log(rp)"
   ]
  },
  {
   "cell_type": "code",
   "execution_count": 11,
   "metadata": {},
   "outputs": [
    {
     "name": "stdout",
     "output_type": "stream",
     "text": [
      "7\n",
      "4\n"
     ]
    }
   ],
   "source": [
    "//# Division Example\n",
    "BN = require('bn.js')\n",
    "\n",
    "console.log(2 * Math.pow(3, 17) % 19)\n",
    "console.log( new BN(15).pow(new BN(17)).muln(3).mod(new BN(19)).toNumber(10))"
   ]
  },
  {
   "cell_type": "markdown",
   "metadata": {},
   "source": [
    "### Exercise 3\n",
    "\n",
    "#### 3.1. Solve these equations in \\\\(F_{31}\\\\):\n",
    "\n",
    "\\\\(3/24 = ?\\\\)\n",
    "\n",
    "\\\\(17^{-3} = ?\\\\)\n",
    "\n",
    "\\\\(4^{-4}\\cdot{11} = ?\\\\)\n",
    "\n",
    "#### 3.2. Make [these tests](/edit/session1/ecc.py) pass:\n",
    "\n",
    "```\n",
    "ecc.py:FieldElementTest:test_div\n",
    "```"
   ]
  },
  {
   "cell_type": "code",
   "execution_count": 37,
   "metadata": {},
   "outputs": [
    {
     "name": "stdout",
     "output_type": "stream",
     "text": [
      "4\n",
      "29\n",
      "13\n"
     ]
    }
   ],
   "source": [
    "//# Exercise 3.1\n",
    "\n",
    "//# remember pow(x, p-2, p) is the same as 1/x in F_p\n",
    "prime = new BN(31)\n",
    "//# 3/24 = ?\n",
    "console.log(new BN(3).mul(new BN(24).pow(prime.subn(2)).mod(prime)).mod(prime).toNumber(10))\n",
    "//# 17^(-3) = ?\n",
    "console.log(new BN(17).pow(prime.subn(4)).mod(prime).toNumber(10))\n",
    "//# 4^(-4)*11 = ?\n",
    "console.log(new BN(4).pow(prime.subn(5).mod(prime)).muln(11).mod(prime).toNumber(10))\n"
   ]
  },
  {
   "cell_type": "code",
   "execution_count": 38,
   "metadata": {},
   "outputs": [
    {
     "name": "stdout",
     "output_type": "stream",
     "text": [
      "testing02\n",
      "testing11\n",
      "\n",
      "\n",
      "  FieldElement\n",
      "    √ test_mul\n",
      "\n",
      "\n",
      "  1 passing (15ms)\n",
      "\n"
     ]
    }
   ],
   "source": [
    "//# Exercise 3.2\n",
    "\n",
    "clearModule.all()\n",
    "helper.runTest('test_mul')\n",
    "\n",
    "//# Hint: the __pow__ method needs a positive number for the exponent.\n",
    "//# You can mod by p-1"
   ]
  },
  {
   "cell_type": "code",
   "execution_count": 12,
   "metadata": {},
   "outputs": [
    {
     "name": "stdout",
     "output_type": "stream",
     "text": [
      "true\n"
     ]
    }
   ],
   "source": [
    "//# Elliptic Curve Example\n",
    "\n",
    "x = -1\n",
    "y = -1\n",
    "\n",
    "console.log(Math.pow(y,2) == Math.pow(x,3) + 5*x + 7)"
   ]
  },
  {
   "cell_type": "markdown",
   "metadata": {},
   "source": [
    "### Exercise 4\n",
    "\n",
    "#### 4.1. For the curve \\\\(y^2 = x^3 + 5x + 7\\\\), which of these are on the curve?\n",
    "\n",
    "\\\\((-2,4), (3,7), (18,77)\\\\)\n",
    "\n",
    "#### 4.2. Make [this test](/edit/session1/ecc.py) pass\n",
    "```\n",
    "ecc.py:PointTest:test_on_curve\n",
    "```"
   ]
  },
  {
   "cell_type": "code",
   "execution_count": 18,
   "metadata": {},
   "outputs": [
    {
     "name": "stdout",
     "output_type": "stream",
     "text": [
      "(-2,4) is not on the curve.\n",
      "(3,7) is on the curve.\n",
      "(18,77) is on the curve.\n"
     ]
    },
    {
     "data": {
      "text/plain": [
       "[ undefined, undefined, undefined ]"
      ]
     },
     "execution_count": 18,
     "metadata": {},
     "output_type": "execute_result"
    }
   ],
   "source": [
    "//# Exercise 4.1\n",
    "\n",
    "//# (-2,4), (3,7), (18,77)\n",
    "//# equation in python is: y**2 == x**3 + 5*x + 7\n",
    "\n",
    "points = [{x:-2,y:4},{x:3,y:7},{x:18,y:77}]\n",
    "pointstf = points.map(o => {\n",
    "\tif(Math.pow(o.y,2) == Math.pow(o.x, 3) + o.x * 5 + 7) {\n",
    "\t\tconsole.log( `(${o.x},${o.y}) is on the curve.`)\n",
    "\t} else {\n",
    "\t\tconsole.log( `(${o.x},${o.y}) is not on the curve.`)\n",
    "\t}\n",
    "\n",
    "})\n"
   ]
  },
  {
   "cell_type": "code",
   "execution_count": 21,
   "metadata": {},
   "outputs": [
    {
     "name": "stdout",
     "output_type": "stream",
     "text": [
      "testing02\n",
      "testing11\n",
      "\n",
      "\n",
      "  ECC\n",
      "    √ test_on_curve\n",
      "\n",
      "\n",
      "  1 passing (33ms)\n",
      "\n"
     ]
    }
   ],
   "source": [
    "//# Exercise 4.2\n",
    "clearModule.all()\n",
    "helper.runTest('test_on_curve')"
   ]
  },
  {
   "cell_type": "markdown",
   "metadata": {},
   "source": [
    "### Exercise 5\n",
    "\n",
    "#### 5.1. Make [this test](/edit/session1/ecc.py) pass\n",
    "```\n",
    "ecc.py:PointTest:test_add0\n",
    "```"
   ]
  },
  {
   "cell_type": "code",
   "execution_count": 22,
   "metadata": {},
   "outputs": [
    {
     "name": "stdout",
     "output_type": "stream",
     "text": [
      "testing02\n",
      "testing11\n",
      "\n",
      "\n",
      "  Point\n",
      "    √ test_add0\n",
      "\n",
      "  ECC\n",
      "    √ test_add0\n",
      "\n",
      "\n",
      "  2 passing (32ms)\n",
      "\n"
     ]
    }
   ],
   "source": [
    "//# Exercise 5.1\n",
    "\n",
    "clearModule.all()\n",
    "helper.runTest('test_add0')"
   ]
  },
  {
   "cell_type": "code",
   "execution_count": 23,
   "metadata": {},
   "outputs": [
    {
     "name": "stdout",
     "output_type": "stream",
     "text": [
      "-1 1\n"
     ]
    }
   ],
   "source": [
    "//# Point Addition where x1 != x2 Example\n",
    "\n",
    "x1 = 2; y1 =5; x2 = 3; y2 = 7;\n",
    "s = (y2 - y1)/(x2 - x1)\n",
    "x3 = Math.pow(s,2) - x2 - x1\n",
    "y3 = s * (x1 - x3) - y1\n",
    "console.log(x3,y3)"
   ]
  },
  {
   "cell_type": "markdown",
   "metadata": {},
   "source": [
    "### Exercise 6\n",
    "\n",
    "#### 6.1. For the curve \\\\(y^2 = x^3 + 5x + 7\\\\), what is \\\\((2,5) + (-1,-1)\\\\)?\n",
    "\n",
    "#### 6.2. Make [this test](/edit/session1/ecc.py) pass\n",
    "```\n",
    "ecc.py:PointTest:test_add1\n",
    "```"
   ]
  },
  {
   "cell_type": "code",
   "execution_count": 24,
   "metadata": {},
   "outputs": [
    {
     "name": "stdout",
     "output_type": "stream",
     "text": [
      "3 -7\n"
     ]
    }
   ],
   "source": [
    "//# Exercise 6.1\n",
    "\n",
    "x1 = 2; y1 =5; x2 = -1; y2 = -1;\n",
    "s = (y2 - y1)/(x2 - x1)\n",
    "x3 = Math.pow(s,2) - x2 - x1\n",
    "y3 = s * (x1 - x3) - y1\n",
    "console.log(x3,y3)"
   ]
  },
  {
   "cell_type": "code",
   "execution_count": 25,
   "metadata": {},
   "outputs": [
    {
     "name": "stdout",
     "output_type": "stream",
     "text": [
      "testing02\n",
      "testing11\n",
      "\n",
      "\n",
      "  Point\n",
      "    √ test_add1\n",
      "\n",
      "  ECC\n",
      "    √ test_add1\n",
      "\n",
      "\n",
      "  2 passing (36ms)\n",
      "\n"
     ]
    }
   ],
   "source": [
    "//# Exercise 6.2\n",
    "\n",
    "clearModule.all()\n",
    "\n",
    "helper.runTest('test_add1')"
   ]
  },
  {
   "cell_type": "code",
   "execution_count": 27,
   "metadata": {},
   "outputs": [
    {
     "name": "stdout",
     "output_type": "stream",
     "text": [
      "-1.1100000000000003 0.2870000000000008\n"
     ]
    }
   ],
   "source": [
    "//# Point Addition where x1 = x2 Example\n",
    "\n",
    "a =  5; b = 7; x1 = 2; y1 = 5\n",
    "s = (3 * Math.pow(x1,2) + a)/(2 * y1)\n",
    "x3 = Math.pow(s,2) - 2 * x1\n",
    "y3 = s * (x1 - x3) - y1\n",
    "console.log(x3,y3)"
   ]
  },
  {
   "cell_type": "markdown",
   "metadata": {},
   "source": [
    "### Exercise 7\n",
    "\n",
    "#### 7.1. For the curve \\\\(y^2 = x^3 + 5x + 7\\\\), what is \\\\((-1,1) + (-1,1)\\\\)?\n",
    "\n",
    "#### 7.2. Make [this test](/edit/session1/ecc.py) pass\n",
    "```\n",
    "ecc.py:PointTest:test_add2\n",
    "```"
   ]
  },
  {
   "cell_type": "code",
   "execution_count": 29,
   "metadata": {},
   "outputs": [
    {
     "name": "stdout",
     "output_type": "stream",
     "text": [
      "18 77\n"
     ]
    }
   ],
   "source": [
    "//# Exercise 7.1\n",
    "\n",
    "a =  5; b = 7; x1 = -1; y1 = -1\n",
    "s = (3 * Math.pow(x1,2) + a)/(2 * y1)\n",
    "x3 = Math.pow(s,2) - 2 * x1\n",
    "y3 = s * (x1 - x3) - y1\n",
    "console.log(x3,y3)"
   ]
  },
  {
   "cell_type": "code",
   "execution_count": 40,
   "metadata": {},
   "outputs": [
    {
     "name": "stdout",
     "output_type": "stream",
     "text": [
      "testing02\n",
      "\n",
      "\n",
      "  Point\n",
      "    √ test_add2\n",
      "\n",
      "\n",
      "  1 passing (14ms)\n",
      "\n"
     ]
    }
   ],
   "source": [
    "//# Exercise 7.2\n",
    "clearModule.all()\n",
    "\n",
    "helper.runTest('test_add2')"
   ]
  },
  {
   "cell_type": "code",
   "execution_count": null,
   "metadata": {},
   "outputs": [],
   "source": []
  },
  {
   "cell_type": "code",
   "execution_count": null,
   "metadata": {},
   "outputs": [],
   "source": []
  }
 ],
 "metadata": {
  "kernelspec": {
   "display_name": "Javascript (Node.js)",
   "language": "javascript",
   "name": "javascript"
  },
  "language_info": {
   "file_extension": ".js",
   "mimetype": "application/javascript",
   "name": "javascript",
   "version": "10.17.0"
  }
 },
 "nbformat": 4,
 "nbformat_minor": 2
}
