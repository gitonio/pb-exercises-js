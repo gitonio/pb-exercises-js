{
 "cells": [
  {
   "cell_type": "code",
   "execution_count": 1,
   "metadata": {},
   "outputs": [],
   "source": [
    "// import everything and define a test runner function\n",
    "var helper = require('./helper')\n",
    "var ecc = require('./ecc')\n",
    "var BN = require('bn.js')\n",
    "const clearModule = require('clear-module')"
   ]
  },
  {
   "cell_type": "code",
   "execution_count": 4,
   "metadata": {},
   "outputs": [
    {
     "name": "stdout",
     "output_type": "stream",
     "text": [
      "\n",
      "Signing Example\n",
      "<BN: fffffffffffffffffffffffffffffffebaaedce6af48a03bbfd25e8cd0364141>\n",
      "cf6304e0ed625dc13713ad8b330ca764325f013fe7a3057dbe6a2053135abeb4\n",
      "35d7466ea41dbb145f743d58355b7eab0b64381de0230c594ad25817347af44f\n",
      "a4c170c2280c1721dc343b28dfdf0653b509e4b632c8afd40d4e77501cf859fc\n"
     ]
    }
   ],
   "source": [
    "console.log('\\nSigning Example')\n",
    "G = ecc.G;\n",
    "N = ecc.N;\n",
    "\n",
    "secret = new BN('1800555555518005555555',10)\n",
    "z = Buffer.from(helper.doubleSha256(Buffer.from('ECDSA is awesome!')),'hex')\n",
    "z = new BN(z)\n",
    "randMax = new BN('115792089237316195423570985008687907853269984665640564039457584007913129639936',10)\n",
    "k = randMax.muln(Math.random())\n",
    "r = G.rmul(k).x.num\n",
    "s = r.mul(secret).add(z)\n",
    "\n",
    "var red = BN.red(N)\n",
    "var redk = k.toRed(red)\n",
    "\n",
    "s = (r.mul(secret).add(z)).mul(redk.redPow(N.subn(2)).mod(N)).mod(N)\n",
    "console.log(z.toString(16))\n",
    "console.log(r.toString(16))\n",
    "console.log(s.toString(16))\n"
   ]
  },
  {
   "cell_type": "code",
   "execution_count": 5,
   "metadata": {},
   "outputs": [
    {
     "name": "stdout",
     "output_type": "stream",
     "text": [
      "\n",
      "Verification Example\n",
      "true\n"
     ]
    }
   ],
   "source": [
    "//Verification Example\n",
    "console.log('\\nVerification Example')\n",
    "point = new ecc.S256Point(\n",
    "\t\t\tnew BN('04519fac3d910ca7e7138f7013706f619fa8f033e6ec6e09370ea38cee6a7574', 16),\n",
    "\t\t\tnew BN('82b51eab8c27c66e26c858a079bcdf4f1ada34cec420cafc7eac1a42216fb6c4', 16));\n",
    "z = new BN('bc62d4b80d9e36da29c16c5d4d9f11731f36052c72401a76c23c0fb5a9b74423', 16);\n",
    "r = new BN('37206a0610995c58074999cb9767b87af4c4978db68c06e8e6e81d282047a7c6', 16);\n",
    "s = new BN('8ca63759c1157ebeaec0d03cecca119fc9a75bf8e6d0fa65c841c8e2738cdaec', 16);\n",
    "\n",
    "var red = BN.red(N)\n",
    "var reds = s.toRed(red)\n",
    "\t\t\t\n",
    "u = z.mul(reds.redPow(N.subn(2))).mod(N)\n",
    "v = r.mul(reds.redPow(N.subn(2))).mod(N)\n",
    "\n",
    "console.log(G.rmul(u).add(point.rmul(v)).x.num.eq(r))\n"
   ]
  },
  {
   "cell_type": "markdown",
   "metadata": {},
   "source": [
    "### Exercise 1\n",
    "\n",
    "#### 1.1. Which sigs are valid?\n",
    "\n",
    "```\n",
    "P = (887387e452b8eacc4acfde10d9aaf7f6d9a0f975aabb10d006e4da568744d06c, \n",
    "     61de6d95231cd89026e286df3b6ae4a894a3378e393e93a0f45b666329a0ae34)\n",
    "z, r, s = ec208baa0fc1c19f708a9ca96fdeff3ac3f230bb4a7ba4aede4942ad003c0f60,\n",
    "          ac8d1c87e51d0d441be8b3dd5b05c8795b48875dffe00b7ffcfac23010d3a395,\n",
    "          68342ceff8935ededd102dd876ffd6ba72d6a427a3edb13d26eb0781cb423c4\n",
    "z, r, s = 7c076ff316692a3d7eb3c3bb0f8b1488cf72e1afcd929e29307032997a838a3d,\n",
    "          eff69ef2b1bd93a66ed5219add4fb51e11a840f404876325a1e8ffe0529a2c,\n",
    "          c7207fee197d27c618aea621406f6bf5ef6fca38681d82b2f06fddbdce6feab6\n",
    "```\n",
    "\n",
    "#### 1.2. Make [these tests](/edit/session3/ecc.py) pass\n",
    "```\n",
    "ecc.py:S256Test:test_verify\n",
    "ecc.py:PrivateKeyTest:test_sign\n",
    "```"
   ]
  },
  {
   "cell_type": "code",
   "execution_count": 6,
   "metadata": {},
   "outputs": [
    {
     "name": "stdout",
     "output_type": "stream",
     "text": [
      "\n",
      "Exercise 1.1\n",
      "true\n",
      "true\n"
     ]
    },
    {
     "data": {
      "text/plain": [
       "[ undefined, undefined ]"
      ]
     },
     "execution_count": 6,
     "metadata": {},
     "output_type": "execute_result"
    }
   ],
   "source": [
    "console.log('\\nExercise 1.1')\n",
    "\n",
    "px = '887387e452b8eacc4acfde10d9aaf7f6d9a0f975aabb10d006e4da568744d06c'\n",
    "py = '61de6d95231cd89026e286df3b6ae4a894a3378e393e93a0f45b666329a0ae34'\n",
    "\n",
    "signatures = [\n",
    "       ['ec208baa0fc1c19f708a9ca96fdeff3ac3f230bb4a7ba4aede4942ad003c0f60',\n",
    "\t\t'ac8d1c87e51d0d441be8b3dd5b05c8795b48875dffe00b7ffcfac23010d3a395',\n",
    "\t\t'68342ceff8935ededd102dd876ffd6ba72d6a427a3edb13d26eb0781cb423c4'],\n",
    "\t   ['7c076ff316692a3d7eb3c3bb0f8b1488cf72e1afcd929e29307032997a838a3d',\n",
    "\t\t'eff69ef2b1bd93a66ed5219add4fb51e11a840f404876325a1e8ffe0529a2c',\n",
    "\t\t'c7207fee197d27c618aea621406f6bf5ef6fca38681d82b2f06fddbdce6feab6'],\n",
    "   ]\n",
    "point = new ecc.S256Point(new BN(px,16), new BN(py,16))\n",
    "signatures.map(obj => {\n",
    "\tvar red = BN.red(N)\n",
    "\tz = new BN(obj[0],16)\n",
    "\tr = new BN(obj[1],16)\n",
    "\ts = new BN(obj[2],16)\n",
    "\tvar reds = s.toRed(red)\n",
    "\tu = z.mul(reds.redPow(N.subn(2))).mod(N)\n",
    "\tv = r.mul(reds.redPow(N.subn(2))).mod(N)\n",
    "\tconsole.log(G.rmul(u).add(point.rmul(v)).x.num.eq(r))\n",
    "\n",
    "})\n"
   ]
  },
  {
   "cell_type": "code",
   "execution_count": 10,
   "metadata": {},
   "outputs": [
    {
     "name": "stdout",
     "output_type": "stream",
     "text": [
      "\n",
      "\n",
      "\n",
      "\n",
      "  S256Test\n",
      "  PrivateKeyTest\n",
      "    ✓ test_sign (482ms)\n",
      "\n",
      "    ✓ test_verify (514ms)\n",
      "\n",
      "\n",
      "  1 passing (1s)\n",
      "\n",
      "\n",
      "  1 passing (1s)\n",
      "\n"
     ]
    }
   ],
   "source": [
    "//# Exercise 1.2\n",
    "\n",
    "clearModule.all();\n",
    "helper.runTest('test_verify');\n",
    "clearModule.all();\n",
    "\n",
    "helper.runTest('test_sign');"
   ]
  },
  {
   "cell_type": "markdown",
   "metadata": {},
   "source": [
    "### Exercise 2\n",
    "\n",
    "#### 2.1. Verify the DER signature for the hash of \"ECDSA is awesome!\" for the given SEC pubkey\n",
    "\n",
    "`z = int.from_bytes(double_sha256('ECDSA is awesome!'), 'big')`\n",
    "\n",
    "Public Key in SEC Format: \n",
    "0204519fac3d910ca7e7138f7013706f619fa8f033e6ec6e09370ea38cee6a7574\n",
    "\n",
    "Signature in DER Format: 304402201f62993ee03fca342fcb45929993fa6ee885e00ddad8de154f268d98f083991402201e1ca12ad140c04e0e022c38f7ce31da426b8009d02832f0b44f39a6b178b7a1\n"
   ]
  },
  {
   "cell_type": "code",
   "execution_count": 11,
   "metadata": {},
   "outputs": [
    {
     "name": "stdout",
     "output_type": "stream",
     "text": [
      "\n",
      "Exercise 2.1\n",
      "93803711187162121691076966012382940511580455351029572768930182870238504861364\n",
      "true\n"
     ]
    }
   ],
   "source": [
    "console.log('\\nExercise 2.1')\n",
    "\n",
    "der = Buffer.from('304402201f62993ee03fca342fcb45929993fa6ee885e00ddad8de154f268d98f083991402201e1ca12ad140c04e0e022c38f7ce31da426b8009d02832f0b44f39a6b178b7a1','hex')\n",
    "sec = Buffer.from('0204519fac3d910ca7e7138f7013706f619fa8f033e6ec6e09370ea38cee6a7574','hex')\n",
    "z = new BN(helper.doubleSha256(Buffer.from('ECDSA is awesome!')),'hex')\n",
    "\n",
    "sig = ecc.Signature.parse(der)\n",
    "point = ecc.S256Point.parse(sec)\n",
    "console.log(point.verify(z,sig))\n"
   ]
  },
  {
   "cell_type": "markdown",
   "metadata": {},
   "source": [
    "### Exercise 3\n",
    "\n",
    "WIF is the serialization of a Private Key.\n",
    "\n",
    "#### 3.1. Find the WIF Format of the following:\n",
    "\n",
    "* \\\\(2^{256}-2^{199}\\\\), mainnet, compressed\n",
    "* \\\\(2^{256}-2^{201}\\\\), testnet, uncompressed\n",
    "* 0dba685b4511dbd3d368e5c4358a1277de9486447af7b3604a69b8d9d8b7889d, mainnet, uncompressed\n",
    "* 1cca23de92fd1862fb5b76e5f4f50eb082165e5191e116c18ed1a6b24be6a53f, testnet, compressed\n",
    "\n",
    "#### 3.2. Make [this test](/edit/session3/ecc.py) pass\n",
    "```\n",
    "ecc.py:PrivateKeyTest:test_wif\n",
    "```"
   ]
  },
  {
   "cell_type": "code",
   "execution_count": 12,
   "metadata": {},
   "outputs": [
    {
     "name": "stdout",
     "output_type": "stream",
     "text": [
      "\n",
      "WIF Example\n",
      "5Km2kuu7vtF1mmnTprG5Qtchx5NYEBHp9X1nm6v1dNJSND1E5Ge\n",
      "L5oLkpV3aqArQcffQCRYUSpbk6J4qARD6bUUyf6ymX1xxX9iVxpK\n",
      "93XfLeifX7K9jqHkTC9zHVAfbjjFPLq1VTsjqjGWy73V9JUWGuo\n",
      "cWALDjUu1ts7a48vncEfqmKfNKbUVcWuAdcx65ZVGdfyDGDYyszf\n"
     ]
    }
   ],
   "source": [
    "// WIF Example\n",
    "console.log('\\nWIF Example')\n",
    "secret1 = Buffer.from('115792089237316193816632940749697632311307892324477961517254590225120294338560')\n",
    "secret2 = Buffer.from('ffffffffffffff00000000000000000000000000000000000000000000000000', 'hex')\n",
    "x = new BN('115792089237316193816632940749697632311307892324477961517254590225120294338560',10)\n",
    "y = new BN('ffffffffffffff00000000000000000000000000000000000000000000000000', 16)\n",
    "xb = x.toBuffer('be')\n",
    "yb = y.toBuffer('be')\n",
    "console.log(helper.encodeBase58Checksum(Buffer.concat([Buffer.from([0x80]), secret2])))\n",
    "console.log(helper.encodeBase58Checksum(Buffer.concat([Buffer.from([0x80]), secret2, Buffer.from([0x01])])))\n",
    "console.log(helper.encodeBase58Checksum(Buffer.concat([Buffer.from([0xef]), secret2])))\n",
    "console.log(helper.encodeBase58Checksum(Buffer.concat([Buffer.from([0xef]), secret2, Buffer.from([0x01])])))\n"
   ]
  },
  {
   "cell_type": "code",
   "execution_count": 13,
   "metadata": {},
   "outputs": [
    {
     "name": "stdout",
     "output_type": "stream",
     "text": [
      "\n",
      "Exercise 3.1\n",
      "L5oLkpV3aqBJ4BgssVAsax1iRa77G5CVYnv9adQ6Z87te7TyUdSC\n",
      "93XfLeifX7Jx7n7ELGMAf1SUR6f9kgQs8Xke8WStMwUtrDucMzn\n",
      "5HvLFPDVgFZRK9cd4C5jcWki5Skz6fmKqi1GQJf5ZoMofid2Dty\n",
      "cNYfWuhDpbNM1JWc3c6JTrtrFVxU4AGhUKgw5f93NP2QaBqmxKkg\n"
     ]
    },
    {
     "data": {
      "text/plain": [
       "[ undefined, undefined, undefined, undefined ]"
      ]
     },
     "execution_count": 13,
     "metadata": {},
     "output_type": "execute_result"
    }
   ],
   "source": [
    "// Exercise 3.1\n",
    "console.log('\\nExercise 3.1')\n",
    "components = [\n",
    "\t\t\t\t['ffffffffffffff80000000000000000000000000000000000000000000000000', false, true],\n",
    "\t\t\t\t['fffffffffffffe00000000000000000000000000000000000000000000000000', true,  false],\n",
    "\t\t\t\t['0dba685b4511dbd3d368e5c4358a1277de9486447af7b3604a69b8d9d8b7889d', false, false],\n",
    "\t\t\t\t['1cca23de92fd1862fb5b76e5f4f50eb082165e5191e116c18ed1a6b24be6a53f', true, true]\n",
    "]\n",
    "\n",
    "components.map( obj => {\n",
    "\tsecretBytes = Buffer.from(obj[0],'hex')\n",
    "\tif (obj[1]) {\n",
    "\t\tprefix = Buffer.from([0xef])\n",
    "\t} else {\n",
    "\t\tprefix = Buffer.from([0x80])\n",
    "\t}\n",
    "\tif (obj[2]) {\n",
    "\t\tsuffix = Buffer.from([0x01])\n",
    "\t} else {\n",
    "\t\tsuffix = Buffer.from([])\n",
    "\t}\n",
    "\twif = helper.encodeBase58Checksum(Buffer.concat([prefix, secretBytes, suffix]))\n",
    "\tconsole.log(wif)\n",
    "})"
   ]
  },
  {
   "cell_type": "code",
   "execution_count": 15,
   "metadata": {},
   "outputs": [
    {
     "name": "stdout",
     "output_type": "stream",
     "text": [
      "\n",
      "\n",
      "  PrivateKeyTest\n",
      "    ✓ test_wif (192ms)\n",
      "\n",
      "\n",
      "  1 passing (194ms)\n",
      "\n"
     ]
    }
   ],
   "source": [
    "//# Exercise 3.2\n",
    "\n",
    "clearModule.all();\n",
    "\n",
    "helper.runTest('test_wif');"
   ]
  },
  {
   "cell_type": "markdown",
   "metadata": {},
   "source": [
    "### Exercise 4\n",
    "\n",
    "#### 4.1. Make [this test](/edit/session3/tx.py) pass\n",
    "```\n",
    "tx.py:TxTest:test_parse_version\n",
    "```"
   ]
  },
  {
   "cell_type": "code",
   "execution_count": 47,
   "metadata": {},
   "outputs": [
    {
     "name": "stdout",
     "output_type": "stream",
     "text": [
      "32454049\n"
     ]
    }
   ],
   "source": [
    "buf = Buffer.from([0x12, 0x34, 0x56, 0x78, 0x90, 0xab, 0x12, 0x34]);\n",
    "function mapReverse(array, fn) {\n",
    "    return array.reduceRight(function (result, el) {\n",
    "        result.push(fn(el));\n",
    "        return result;\n",
    "    }, []);\n",
    "}\n",
    "\n",
    "mapReverse(buf, x=>{\n",
    "    //console.log(x.toString(16))\n",
    "    x\n",
    "})\n",
    "\n",
    "buf = Buffer.from('a135ef0100000000','hex')\n",
    "uar = Uint8Array.from(buf)\n",
    "console.log(new BN(buf.reverse().toString('hex'),'hex').toNumber(10))"
   ]
  },
  {
   "cell_type": "code",
   "execution_count": 17,
   "metadata": {},
   "outputs": [
    {
     "ename": "RangeError [ERR_OUT_OF_RANGE]",
     "evalue": "The value of \"byteLength\" is out of range. It must be >= 1 and <= 6. Received 8",
     "output_type": "error",
     "traceback": [
      "internal/buffer.js:55",
      "  throw new ERR_OUT_OF_RANGE(type || 'offset',",
      "  ^",
      "",
      "RangeError [ERR_OUT_OF_RANGE]: The value of \"byteLength\" is out of range. It must be >= 1 and <= 6. Received 8",
      "    at boundsError (internal/buffer.js:55:9)",
      "    at Buffer.readUIntLE (internal/buffer.js:75:3)",
      "    at Object.littleEndianToInt (/Users/antonioslaaf/jimmysong/pb-exercises-js/session3/complete/helper.js:150:11)",
      "    at Function.parse (/Users/antonioslaaf/jimmysong/pb-exercises-js/session3/complete/tx.js:312:25)",
      "    at Function.parse (/Users/antonioslaaf/jimmysong/pb-exercises-js/session3/complete/tx.js:34:24)",
      "    at Suite.<anonymous> (/Users/antonioslaaf/jimmysong/pb-exercises-js/session3/complete/tx.test.js:18:13)",
      "    at Object.create (/Users/antonioslaaf/jimmysong/pb-exercises-js/node_modules/mocha/lib/interfaces/common.js:112:19)",
      "    at context.describe.context.context (/Users/antonioslaaf/jimmysong/pb-exercises-js/node_modules/mocha/lib/interfaces/bdd.js:44:27)",
      "    at Object.<anonymous> (/Users/antonioslaaf/jimmysong/pb-exercises-js/session3/complete/tx.test.js:10:2)",
      "    at Module._compile (internal/modules/cjs/loader.js:689:30)"
     ]
    }
   ],
   "source": [
    "//# Exercise 4.1\n",
    "\n",
    "clearModule.all()\n",
    "helper.runTest('test_parse_version')"
   ]
  },
  {
   "cell_type": "markdown",
   "metadata": {},
   "source": [
    "### Exercise 5\n",
    "\n",
    "#### 5.1. Make [this test](/edit/session3/tx.py) pass\n",
    "```\n",
    "tx.py:TxTest:test_parse_inputs\n",
    "```"
   ]
  },
  {
   "cell_type": "code",
   "execution_count": null,
   "metadata": {},
   "outputs": [],
   "source": [
    "# Exercise 5.1\n",
    "\n",
    "reload(tx)\n",
    "run_test(tx.TxTest('test_parse_inputs'))"
   ]
  },
  {
   "cell_type": "markdown",
   "metadata": {},
   "source": [
    "### Exercise 6\n",
    "\n",
    "#### 6.1. Make [this test](/edit/session3/tx.py) pass\n",
    "```\n",
    "tx.py:TxTest:test_parse_outputs\n",
    "```"
   ]
  },
  {
   "cell_type": "code",
   "execution_count": null,
   "metadata": {},
   "outputs": [],
   "source": [
    "# Exercise 6.1\n",
    "\n",
    "reload(tx)\n",
    "run_test(tx.TxTest('test_parse_outputs'))"
   ]
  },
  {
   "cell_type": "markdown",
   "metadata": {},
   "source": [
    "### Exercise 7\n",
    "\n",
    "#### 7.1. Make [this test](/edit/session3/tx.py) pass\n",
    "```\n",
    "tx.py:TxTest:test_parse_locktime\n",
    "```"
   ]
  },
  {
   "cell_type": "code",
   "execution_count": null,
   "metadata": {},
   "outputs": [],
   "source": [
    "# Exercise 7.1\n",
    "\n",
    "reload(tx)\n",
    "run_test(tx.TxTest('test_parse_locktime'))"
   ]
  },
  {
   "cell_type": "markdown",
   "metadata": {},
   "source": [
    "### Exercise 8\n",
    "\n",
    "#### 8.1. What is the scriptSig from the second input in this tx?\n",
    "#### 8.2. What is the scriptPubKey and amount of the first output in this tx?\n",
    "#### 8.3. What is the amount for the second output?\n",
    "\n",
    "```\n",
    "010000000456919960ac691763688d3d3bcea9ad6ecaf875df5339e148a1fc61c6ed7a069e010000006a47304402204585bcdef85e6b1c6af5c2669d4830ff86e42dd205c0e089bc2a821657e951c002201024a10366077f87d6bce1f7100ad8cfa8a064b39d4e8fe4ea13a7b71aa8180f012102f0da57e85eec2934a82a585ea337ce2f4998b50ae699dd79f5880e253dafafb7feffffffeb8f51f4038dc17e6313cf831d4f02281c2a468bde0fafd37f1bf882729e7fd3000000006a47304402207899531a52d59a6de200179928ca900254a36b8dff8bb75f5f5d71b1cdc26125022008b422690b8461cb52c3cc30330b23d574351872b7c361e9aae3649071c1a7160121035d5c93d9ac96881f19ba1f686f15f009ded7c62efe85a872e6a19b43c15a2937feffffff567bf40595119d1bb8a3037c356efd56170b64cbcc160fb028fa10704b45d775000000006a47304402204c7c7818424c7f7911da6cddc59655a70af1cb5eaf17c69dadbfc74ffa0b662f02207599e08bc8023693ad4e9527dc42c34210f7a7d1d1ddfc8492b654a11e7620a0012102158b46fbdff65d0172b7989aec8850aa0dae49abfb84c81ae6e5b251a58ace5cfeffffffd63a5e6c16e620f86f375925b21cabaf736c779f88fd04dcad51d26690f7f345010000006a47304402200633ea0d3314bea0d95b3cd8dadb2ef79ea8331ffe1e61f762c0f6daea0fabde022029f23b3e9c30f080446150b23852028751635dcee2be669c2a1686a4b5edf304012103ffd6f4a67e94aba353a00882e563ff2722eb4cff0ad6006e86ee20dfe7520d55feffffff0251430f00000000001976a914ab0c0b2e98b1ab6dbf67d4750b0a56244948a87988ac005a6202000000001976a9143c82d7df364eb6c75be8c80df2b3eda8db57397088ac46430600\n",
    "```"
   ]
  },
  {
   "cell_type": "code",
   "execution_count": null,
   "metadata": {},
   "outputs": [],
   "source": [
    "# Exercise 8.1/8.2/8.3\n",
    "\n",
    "from io import BytesIO\n",
    "from tx import Tx\n",
    "\n",
    "hex_transaction = '010000000456919960ac691763688d3d3bcea9ad6ecaf875df5339e148a1fc61c6ed7a069e010000006a47304402204585bcdef85e6b1c6af5c2669d4830ff86e42dd205c0e089bc2a821657e951c002201024a10366077f87d6bce1f7100ad8cfa8a064b39d4e8fe4ea13a7b71aa8180f012102f0da57e85eec2934a82a585ea337ce2f4998b50ae699dd79f5880e253dafafb7feffffffeb8f51f4038dc17e6313cf831d4f02281c2a468bde0fafd37f1bf882729e7fd3000000006a47304402207899531a52d59a6de200179928ca900254a36b8dff8bb75f5f5d71b1cdc26125022008b422690b8461cb52c3cc30330b23d574351872b7c361e9aae3649071c1a7160121035d5c93d9ac96881f19ba1f686f15f009ded7c62efe85a872e6a19b43c15a2937feffffff567bf40595119d1bb8a3037c356efd56170b64cbcc160fb028fa10704b45d775000000006a47304402204c7c7818424c7f7911da6cddc59655a70af1cb5eaf17c69dadbfc74ffa0b662f02207599e08bc8023693ad4e9527dc42c34210f7a7d1d1ddfc8492b654a11e7620a0012102158b46fbdff65d0172b7989aec8850aa0dae49abfb84c81ae6e5b251a58ace5cfeffffffd63a5e6c16e620f86f375925b21cabaf736c779f88fd04dcad51d26690f7f345010000006a47304402200633ea0d3314bea0d95b3cd8dadb2ef79ea8331ffe1e61f762c0f6daea0fabde022029f23b3e9c30f080446150b23852028751635dcee2be669c2a1686a4b5edf304012103ffd6f4a67e94aba353a00882e563ff2722eb4cff0ad6006e86ee20dfe7520d55feffffff0251430f00000000001976a914ab0c0b2e98b1ab6dbf67d4750b0a56244948a87988ac005a6202000000001976a9143c82d7df364eb6c75be8c80df2b3eda8db57397088ac46430600'\n",
    "\n",
    "# bytes.fromhex to get the binary representation\n",
    "# create a stream using BytesIO()\n",
    "# Tx.parse() the stream\n",
    "# print tx's second input's scriptSig\n",
    "# print tx's first output's scriptPubKey\n",
    "# print tx's first output's amount"
   ]
  }
 ],
 "metadata": {
  "kernelspec": {
   "display_name": "Javascript (Node.js)",
   "language": "javascript",
   "name": "javascript"
  },
  "language_info": {
   "file_extension": ".js",
   "mimetype": "application/javascript",
   "name": "javascript",
   "version": "10.6.0"
  }
 },
 "nbformat": 4,
 "nbformat_minor": 2
}
