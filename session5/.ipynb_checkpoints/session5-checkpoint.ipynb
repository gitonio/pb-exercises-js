{
 "cells": [
  {
   "cell_type": "code",
   "execution_count": 24,
   "metadata": {},
   "outputs": [],
   "source": [
    "// import everything and define a test runner function\n",
    "var helper = require('./helper')\n",
    "var ecc = require('./ecc')\n",
    "var BN = require('bn.js')\n",
    "var tx = require('./tx.js')\n",
    "var Readable = require('stream').Readable\n",
    "var script = require('./script.js')\n",
    "var clearModule = require('clear-module')"
   ]
  },
  {
   "cell_type": "code",
   "execution_count": 6,
   "metadata": {},
   "outputs": [
    {
     "name": "stdout",
     "output_type": "stream",
     "text": [
      "\n",
      "\n",
      "  TxTest\n",
      "    √ test_verify_input (1276ms)\n",
      "\n",
      "\n",
      "  1 passing (1s)\n",
      "\n"
     ]
    }
   ],
   "source": [
    "clearModule.all();\n",
    "helper.runTest('test_verify_input');"
   ]
  },
  {
   "cell_type": "code",
   "execution_count": 11,
   "metadata": {},
   "outputs": [
    {
     "name": "stdout",
     "output_type": "stream",
     "text": [
      "\n",
      "Exercise 1.1\n",
      "0100000001c847414138fc4e86c97bce0adfe0180d8716d0db7f43b955ebb7a80f3cbc2500000000006c6b483045022100cfd70505faacd3caf4419000bf4b6ab9e7dc2e4bcf43bbcaa550839cf4713b4202200b5799f59412a51a747888cf16ada785d6a6d3399637702c8e1f7ad74e855f7d012103935581e52c354cd2f484fe8ed83af7a3097005b2f9c60bff71d35bd795f54b67ffffffff02c09ee605000000001976a914d52ad7ca9b3d096a38e752c2018e6fbc40cdf26f88ac80969800000000001976a914507b27411ccf7f16f10297de6cef3f291623eddf88ac00000000\n"
     ]
    }
   ],
   "source": [
    "// Exercise 1.1\n",
    "//Step 1\n",
    "console.log('\\nExercise 1.1')\n",
    "txIns = []\n",
    "prevTx = Buffer.from('0025bc3c0fa8b7eb55b9437fdbd016870d18e0df0ace7bc9864efc38414147c8','hex')\n",
    "txIns.push(new tx.TxIn(prevTx, 0, Buffer.from([]),0xffffffff))\n",
    "\n",
    "//# Step 2\n",
    "txOuts = []\n",
    "h160 = helper.decodeBase58('mzx5YhAH9kNHtcN481u6WkjeHjYtVeKVh2')\n",
    "txOuts.push(new tx.TxOut(0.99*100000000, helper.p2pkhScript(h160)))\n",
    "//console.log('script pubkey1', helper.p2pkhScript(h160).toString('hex'))\n",
    "h160 = helper.decodeBase58('mnrVtF8DWjMu839VW3rBfgYaAfKk8983Xf')\n",
    "txOuts.push(new tx.TxOut(0.10*100000000, helper.p2pkhScript(h160)))\n",
    "txObj = new tx.Tx(1, txIns, txOuts, 0, true)\n",
    "//console.log('script pubkey2', helper.p2pkhScript(h160).toString('hex'))\n",
    "\n",
    "//# Step 3\n",
    "hashType = 1\n",
    "z = txObj.sigHash(0,hashType)\n",
    "secret = new BN(8675309)\n",
    "pk = new ecc.PrivateKey(secret)\n",
    "der = pk.sign(z).der()\n",
    "\n",
    "sig = Buffer.concat([der,Buffer.from([hashType])])\n",
    "sec = pk.point.sec()\n",
    "scriptSig = Buffer.concat([Buffer.from([sig.length]), sig, Buffer.from([sec.length]), sec])\n",
    "scriptSig = Buffer.concat([Buffer.from([scriptSig.length]),scriptSig])\n",
    "txObj.inputs[0].scriptSig = script.Script.parse(scriptSig)\n",
    "console.log(txObj.serialize().toString('hex'))\n",
    "\n",
    "\n",
    "\n",
    "\n",
    "//0100000001c847414138fc4e86c97bce0adfe0180d8716d0db7f43b955ebb7a80f3cbc2500000000006a4730440220176499b13129ea9fb2ca01e712946bb3b8ac7b1536b78905444cfe2845e1cf19022052917b5672327e04596f6488c252ce88d663df21bc21b9a1769334cd636a74a1012103935581e52c354cd2f484fe8ed83af7a3097005b2f9c60bff71d35bd795f54b67ffffffff02c09ee605000000001976a914d52ad7ca9b3d096a38e752c2018e6fbc40cdf26f88ac80969800000000001976a914507b27411ccf7f16f10297de6cef3f291623eddf88ac00000000"
   ]
  },
  {
   "cell_type": "code",
   "execution_count": 12,
   "metadata": {},
   "outputs": [
    {
     "name": "stdout",
     "output_type": "stream",
     "text": [
      "\n",
      "\n",
      "  TxTest\n",
      "    √ test_sign_input (2367ms)\n",
      "\n",
      "\n",
      "  1 passing (2s)\n",
      "\n"
     ]
    }
   ],
   "source": [
    "clearModule.all();\n",
    "helper.runTest('test_sign_input');"
   ]
  },
  {
   "cell_type": "markdown",
   "metadata": {},
   "source": [
    "### Exercise 3<br>\n",
    "3.1. Send 0.04 TBTC to this address muvpVznkBtk8rRSxLRVQRdUhsMjS7aKRne<br>\n",
    "Go here to send your transaction: https://testnet.blockexplorer.com/tx/send<br>\n",
    "Bonus. Get some testnet coins and spend both outputs (one from your change address and one from the testnet faucet) to muvpVznkBtk8rRSxLRVQRdUhsMjS7aKRne<br>\n",
    "You can get some free testnet coins at: https://testnet.coinfaucet.eu/en/<br>\n"
   ]
  },
  {
   "cell_type": "code",
   "execution_count": 28,
   "metadata": {},
   "outputs": [
    {
     "name": "stdout",
     "output_type": "stream",
     "text": [
      "\n",
      "Exercise 3.1\n",
      "0100000001c847414138fc4e86c97bce0adfe0180d8716d0db7f43b955ebb7a80f3cbc2500000000006b483045022100cfd70505faacd3caf4419000bf4b6ab9e7dc2e4bcf43bbcaa550839cf4713b42022035ab3cc53db77f31fcd746a53fda502ff504beef631e9763a716d6ff56400400012103935581e52c354cd2f484fe8ed83af7a3097005b2f9c60bff71d35bd795f54b67ffffffff0280841e00000000001976a914507b27411ccf7f16f10297de6cef3f291623eddf88acc0b06006000000001976a914d52ad7ca9b3d096a38e752c2018e6fbc40cdf26f88ac00000000\n"
     ]
    }
   ],
   "source": [
    "clearModule.all()\n",
    "// Exercise 3.1\n",
    "console.log('\\nExercise 3.1')\n",
    "//Step 1\n",
    "prevTx = Buffer.from('0025bc3c0fa8b7eb55b9437fdbd016870d18e0df0ace7bc9864efc38414147c8','hex')\n",
    "prevIndex = 0\n",
    "targetAddress = 'mnrVtF8DWjMu839VW3rBfgYaAfKk8983Xf'\n",
    "targetAmount = .02\n",
    "changeAddress = 'mzx5YhAH9kNHtcN481u6WkjeHjYtVeKVh2'\n",
    "changeAmount = 1.07\n",
    "secret = 8675309\n",
    "priv = new ecc.PrivateKey(secret)\n",
    "\n",
    "// initialize inputs\n",
    "txIns = []\n",
    "// create a new tx input\n",
    "txIns.push(new tx.TxIn(prevTx, 0, Buffer.from([]),0xffffffff, {}))\n",
    "\n",
    "//# initialize outputs\n",
    "txOuts = []\n",
    "// decode the hash160 from the target address\n",
    "h160 = helper.decodeBase58(targetAddress)\n",
    "scriptPubkey = helper.p2pkhScript(h160)\n",
    "targetSatoshis = targetAmount*100000000\n",
    "txOuts.push(new tx.TxOut(targetSatoshis, scriptPubkey))\n",
    "\n",
    "h160 = helper.decodeBase58(changeAddress)\n",
    "scriptPubkey =  helper.p2pkhScript(h160)\n",
    "changeSatoshis = changeAmount*100000000\n",
    "txOuts.push(new tx.TxOut(changeSatoshis, scriptPubkey))\n",
    "txObj = new tx.Tx(1, txIns, txOuts, 0, true)\n",
    "\n",
    "//# Step 3\n",
    "txObj.signInput(0, priv, 1)\n",
    "\n",
    " if (priv.point.address(true,true) !== changeAddress) {\n",
    "     throw new Error('Private Key does not correspond to Change Address, check priv_key and change_address')\n",
    " }\n",
    "\n",
    "if (txIns[0].scriptPubkey(true).elements[2].toString('hex').toString('hex') !== helper.decodeBase58(changeAddress).toString('hex') ){\n",
    "    throw new Error('Output is not something you can spend with this private key. Check that the prev_tx and prev_index are correct')\n",
    "}\n",
    "\n",
    " if (txObj.fee() > .05 * 100000000 || txObj.fee() <= 0) {\n",
    "     throw new Error(`Check that the change amount is reasonable. Fee is ${txObj.fee()}`)\n",
    " }\n",
    "\n",
    "console.log(txObj.serialize().toString('hex'))\n"
   ]
  },
  {
   "cell_type": "code",
   "execution_count": 31,
   "metadata": {},
   "outputs": [
    {
     "name": "stdout",
     "output_type": "stream",
     "text": [
      "\n",
      "Exercise 3.1\n",
      "0100000002f48a065c1236ddf8033d2a1bc0ada4bca9da6adf4a5c1fb11edfaddd2efecb89000000006b483045022100cfd70505faacd3caf4419000bf4b6ab9e7dc2e4bcf43bbcaa550839cf4713b4202206359354bf536101dea49a82f552c3a61844bbe6b0ab8e63f94407272f245e063012103f96f3a1efd31e1a8d7078118ee56bff7355d58907ce0f865f5f0b3dbe34e55befffffffff45ca5fc10cdf70aa347fcec838e97e021e88ed5d91133e0705fd904139e0619000000006b483045022100cfd70505faacd3caf4419000bf4b6ab9e7dc2e4bcf43bbcaa550839cf4713b4202200b70801f00a2d28c6aaf7e95c77584eeed737b52797689ea57187f48bc2566d6012103f96f3a1efd31e1a8d7078118ee56bff7355d58907ce0f865f5f0b3dbe34e55beffffffff02c040310a000000001976a9149e153ce5de3689901301309b9e8d804ab4804d4b88acc0b06006000000001976a914d52ad7ca9b3d096a38e752c2018e6fbc40cdf26f88ac00000000\n"
     ]
    }
   ],
   "source": [
    "//#Bonus\n",
    "// Exercise 3.1\n",
    "console.log('\\nExercise 3.1')\n",
    "//Step 1\n",
    "prevTx1 = Buffer.from('89cbfe2eddaddf1eb11f5c4adf6adaa9bca4adc01b2a3d03f8dd36125c068af4','hex')\n",
    "prevIndex1 = 0\n",
    "prevTx2 = Buffer.from('19069e1304d95f70e03311d9d58ee821e0978e83ecfc47a30af7cd10fca55cf4','hex')\n",
    "prevIndex2 = 0\n",
    "targetAddress = 'muvpVznkBtk8rRSxLRVQRdUhsMjS7aKRne'\n",
    "targetAmount = 1.71\n",
    "secret = new BN('61740721216174072121',10)\n",
    "priv = new ecc.PrivateKey(secret)\n",
    "\n",
    "// initialize inputs\n",
    "txIns = []\n",
    "// create a new tx input\n",
    "txIns.push(new tx.TxIn(prevTx1, prevIndex1, Buffer.from([]),0xffffffff, {}))\n",
    "txIns.push(new tx.TxIn(prevTx2, prevIndex2, Buffer.from([]),0xffffffff, {}))\n",
    "\n",
    "//# initialize outputs\n",
    "txOuts = []\n",
    "// decode the hash160 from the target address\n",
    "h160 = helper.decodeBase58(targetAddress)\n",
    "scriptPubkey = helper.p2pkhScript(h160)\n",
    "targetSatoshis = targetAmount*100000000\n",
    "txOuts.push(new tx.TxOut(targetSatoshis, scriptPubkey))\n",
    "\n",
    "h160 = helper.decodeBase58(changeAddress)\n",
    "scriptPubkey =  helper.p2pkhScript(h160)\n",
    "changeSatoshis = changeAmount*100000000\n",
    "txOuts.push(new tx.TxOut(changeSatoshis, scriptPubkey))\n",
    "txObj = new tx.Tx(1, txIns, txOuts, 0, true)\n",
    "\n",
    "//# Step 3\n",
    "txObj.signInput(0, priv, 1)\n",
    "txObj.signInput(1, priv, 1)\n",
    " //if (priv.point.address(true,true) !== changeAddress) {\n",
    " //    throw new Error('Private Key does not correspond to Change Address, check priv_key and change_address')\n",
    " //}\n",
    "\n",
    "if (txIns[0].scriptPubkey(true).elements[2].toString('hex').toString('hex') !== helper.decodeBase58(priv.point.address(true, true)).toString('hex') ){\n",
    "    throw new Error('Output is not something you can spend with this private key. Check that the prev_tx and prev_index are correct')\n",
    "}\n",
    "\n",
    "//if (txObj.fee(true) > .05 * 100000000 || txObj.fee(true) <= 0) {\n",
    "//    throw new Error(`Check that the change amount is reasonable. Fee is ${txObj.fee()}`)\n",
    "//}\n",
    "\n",
    "console.log(txObj.serialize().toString('hex'))\n",
    "\n",
    "//0100000002f48a065c1236ddf8033d2a1bc0ada4bca9da6adf4a5c1fb11edfaddd2efecb89000000006a47304402205b163c96216653e000c43521970cba3e1f115affb8935aeabc2e44ca2766497e0220578a2e8150b7663ef01d6c4f34d7798d357d850d93049a7b63aeba8be81fb4bd012103f96f3a1efd31e1a8d7078118ee56bff7355d58907ce0f865f5f0b3dbe34e55befffffffff45ca5fc10cdf70aa347fcec838e97e021e88ed5d91133e0705fd904139e0619000000006b483045022100c0e7f756d07f262255bf96b00770d6b6bfa72f85376d9f0f07fc56386e5b206a02201d34ef0338726d7cc26205dea66e657b47011e55f67735f9bd3e869ec3e75ef8012103f96f3a1efd31e1a8d7078118ee56bff7355d58907ce0f865f5f0b3dbe34e55beffffffff01c040310a000000001976a9149e153ce5de3689901301309b9e8d804ab4804d4b88ac00000000\n"
   ]
  },
  {
   "cell_type": "markdown",
   "metadata": {},
   "source": [
    "## Exercise 4<br>\n",
    "### 4.1 Find the hash160 of the RedeemScript<br>\n",
    "5221022626e955ea6ea6d98850c994f9107b036b1334f18ca8830bfff1295d21cfdb702103b287eaf122eea69030a0e9feed096bed8045c8b98bec453e1ffac7fbdbd4bb7152ae"
   ]
  },
  {
   "cell_type": "code",
   "execution_count": 17,
   "metadata": {},
   "outputs": [
    {
     "name": "stdout",
     "output_type": "stream",
     "text": [
      "\n",
      "Exercise 4.1\n",
      "74d691da1574e6b3c192ecfb52cc8984ee7b6c56\n"
     ]
    }
   ],
   "source": [
    "//Exercise 4.1\n",
    "console.log('\\nExercise 4.1')\n",
    "hexRedeemScript = '5221022626e955ea6ea6d98850c994f9107b036b1334f18ca8830bfff1295d21cfdb702103b287eaf122eea69030a0e9feed096bed8045c8b98bec453e1ffac7fbdbd4bb7152ae'\n",
    "redeemScript = Buffer.from(hexRedeemScript,'hex')\n",
    "h160 = helper.hash160(redeemScript)\n",
    "console.log(h160)\n",
    "//74d691da1574e6b3c192ecfb52cc8984ee7b6c56"
   ]
  },
  {
   "cell_type": "code",
   "execution_count": 18,
   "metadata": {},
   "outputs": [
    {
     "name": "stdout",
     "output_type": "stream",
     "text": [
      "\n",
      "P2SH address construction example\n",
      "3CLoMMyuoDQTPRD3XYZtCvgvkadrAdvdXh\n"
     ]
    }
   ],
   "source": [
    "// P2SH address construction example\n",
    "console.log('\\nP2SH address construction example')\n",
    "Buffer.concat([Buffer.from([0x05]), Buffer.from('74d691da1574e6b3c192ecfb52cc8984ee7b6c56','hex')])\n",
    "console.log(helper.encodeBase58Checksum(Buffer.concat([Buffer.from([0x05]), Buffer.from('74d691da1574e6b3c192ecfb52cc8984ee7b6c56','hex')])))\n",
    "\n",
    "//3CLoMMyuoDQTPRD3XYZtCvgvkadrAdvdXh"
   ]
  },
  {
   "cell_type": "code",
   "execution_count": 20,
   "metadata": {},
   "outputs": [
    {
     "name": "stdout",
     "output_type": "stream",
     "text": [
      "\n",
      "\n",
      "\n",
      "\n",
      "  test_p2pkh_address\n",
      "  test_p2sh_address\n",
      "    √ test_p2pkh_address1\n",
      "    √ test_p2sh_address1\n",
      "    √ test_p2pkh_address2\n",
      "    √ test_p2sh_address2\n",
      "\n",
      "\n",
      "\n",
      "  2 passing (2s)\n",
      "\n",
      "\n",
      "  2 passing (32ms)\n",
      "\n"
     ]
    }
   ],
   "source": [
    "clearModule.all()\n",
    "helper.runTest('test_p2pkh_address');\n",
    "clearModule.all()\n",
    "helper.runTest('test_p2sh_address');"
   ]
  },
  {
   "cell_type": "code",
   "execution_count": 21,
   "metadata": {},
   "outputs": [
    {
     "name": "stdout",
     "output_type": "stream",
     "text": [
      "\n",
      "zfor p2sh example\n",
      "e71bfa115715d6fd33796948126f40a8cdd39f187e4afb03896795189fe1423c\n"
     ]
    }
   ],
   "source": [
    "// z for p2sh example\n",
    "console.log('\\nzfor p2sh example')\n",
    "sha = helper.doubleSha256(Buffer.from('0100000001868278ed6ddfb6c1ed3ad5f8181eb0c7a385aa0836f01d5e4789e6bd304d87221a000000475221022626e955ea6ea6d98850c994f9107b036b1334f18ca8830bfff1295d21cfdb702103b287eaf122eea69030a0e9feed096bed8045c8b98bec453e1ffac7fbdbd4bb7152aeffffffff04d3b11400000000001976a914904a49878c0adfc3aa05de7afad2cc15f483a56a88ac7f400900000000001976a914418327e3f3dda4cf5b9089325a4b95abdfa0334088ac722c0c00000000001976a914ba35042cfe9fc66fd35ac2224eebdafd1028ad2788acdc4ace020000000017a91474d691da1574e6b3c192ecfb52cc8984ee7b6c56870000000001000000','hex'))\n",
    "\n",
    "console.log(sha)\n",
    "//0xe71bfa115715d6fd33796948126f40a8cdd39f187e4afb03896795189fe1423c"
   ]
  },
  {
   "cell_type": "code",
   "execution_count": 22,
   "metadata": {},
   "outputs": [
    {
     "name": "stdout",
     "output_type": "stream",
     "text": [
      "\n",
      "p2sh verification example\n",
      "true\n"
     ]
    }
   ],
   "source": [
    "//p2sh verification example\n",
    "console.log('\\np2sh verification example')\n",
    "z = new BN(sha,'hex')\n",
    "point = ecc.S256Point.parse(Buffer.from('022626e955ea6ea6d98850c994f9107b036b1334f18ca8830bfff1295d21cfdb70','hex'))\n",
    "sig = ecc.Signature.parse(Buffer.from('3045022100dc92655fe37036f47756db8102e0d7d5e28b3beb83a8fef4f5dc0559bddfb94e02205a36d4e4e6c7fcd16658c50783e00c341609977aed3ad00937bf4ee942a89937','hex'))\n",
    "console.log(point.verify(z, sig))\n",
    "//true"
   ]
  },
  {
   "cell_type": "markdown",
   "metadata": {},
   "source": [
    "## Exercise 6<br>\n",
    "### 6.1. Validate the second signature of the first input<br>\n",
    "0100000001868278ed6ddfb6c1ed3ad5f8181eb0c7a385aa0836f01d5e4789e6bd304d87221a000000db00483045022100dc92655fe37036f47756db8102e0d7d5e28b3beb83a8fef4f5dc0559bddfb94e02205a36d4e4e6c7fcd16658c50783e00c341609977aed3ad00937bf4ee942a8993701483045022100da6bee3c93766232079a01639d07fa869598749729ae323eab8eef53577d611b02207bef15429dcadce2121ea07f233115c6f09034c0be68db99980b9a6c5e75402201475221022626e955ea6ea6d98850c994f9107b036b1334f18ca8830bfff1295d21cfdb702103b287eaf122eea69030a0e9feed096bed8045c8b98bec453e1ffac7fbdbd4bb7152aeffffffff04d3b11400000000001976a914904a49878c0adfc3aa05de7afad2cc15f483a56a88ac7f400900000000001976a914418327e3f3dda4cf5b9089325a4b95abdfa0334088ac722c0c00000000001976a914ba35042cfe9fc66fd35ac2224eebdafd1028ad2788acdc4ace020000000017a91474d691da1574e6b3c192ecfb52cc8984ee7b6c568700000000<br>\n",
    "\n",
    "The sec pubkey of the second signature is:<br>\n",
    "\n",
    "03b287eaf122eea69030a0e9feed096bed8045c8b98bec453e1ffac7fbdbd4bb71<br>\n",
    "The der signature of the second signature is:<br>\n",
    "\n",
    "3045022100da6bee3c93766232079a01639d07fa869598749729ae323eab8eef53577d611b02207bef15429dcadce2121ea07f233115c6f09034c0be68db99980b9a6c5e75402201475221022<br>\n",
    "The redeemScript is:<br>\n",
    "\n",
    "475221022626e955ea6ea6d98850c994f9107b036b1334f18ca8830bfff1295d21cfdb702103b287eaf122eea69030a0e9feed096bed8045c8b98bec453e1ffac7fbdbd4bb7152ae<br>"
   ]
  },
  {
   "cell_type": "code",
   "execution_count": 25,
   "metadata": {},
   "outputs": [
    {
     "name": "stdout",
     "output_type": "stream",
     "text": [
      "\n",
      "Exercise 6.1\n",
      "true\n"
     ]
    }
   ],
   "source": [
    "// Exercise 6.1\n",
    "console.log('\\nExercise 6.1')\n",
    "hexSec = '03b287eaf122eea69030a0e9feed096bed8045c8b98bec453e1ffac7fbdbd4bb71'\n",
    "hexDer = '3045022100da6bee3c93766232079a01639d07fa869598749729ae323eab8eef53577d611b02207bef15429dcadce2121ea07f233115c6f09034c0be68db99980b9a6c5e754022'\n",
    "hexRedeemScript = '5221022626e955ea6ea6d98850c994f9107b036b1334f18ca8830bfff1295d21cfdb702103b287eaf122eea69030a0e9feed096bed8045c8b98bec453e1ffac7fbdbd4bb7152ae'\n",
    "sec = Buffer.from(hexSec,'hex')\n",
    "der = Buffer.from(hexDer,'hex')\n",
    "redeemScript = Buffer.from(hexRedeemScript,'hex')\n",
    "\n",
    "hexTx = '0100000001868278ed6ddfb6c1ed3ad5f8181eb0c7a385aa0836f01d5e4789e6bd304d87221a000000db00483045022100dc92655fe37036f47756db8102e0d7d5e28b3beb83a8fef4f5dc0559bddfb94e02205a36d4e4e6c7fcd16658c50783e00c341609977aed3ad00937bf4ee942a8993701483045022100da6bee3c93766232079a01639d07fa869598749729ae323eab8eef53577d611b02207bef15429dcadce2121ea07f233115c6f09034c0be68db99980b9a6c5e75402201475221022626e955ea6ea6d98850c994f9107b036b1334f18ca8830bfff1295d21cfdb702103b287eaf122eea69030a0e9feed096bed8045c8b98bec453e1ffac7fbdbd4bb7152aeffffffff04d3b11400000000001976a914904a49878c0adfc3aa05de7afad2cc15f483a56a88ac7f400900000000001976a914418327e3f3dda4cf5b9089325a4b95abdfa0334088ac722c0c00000000001976a914ba35042cfe9fc66fd35ac2224eebdafd1028ad2788acdc4ace020000000017a91474d691da1574e6b3c192ecfb52cc8984ee7b6c568700000000'\n",
    "readable = new Readable()\n",
    "readable.push(Buffer.from(hexTx,'hex'))\n",
    "readable.push(null)\n",
    "\n",
    "point = ecc.S256Point.parse(sec)\n",
    "sig = ecc.Signature.parse(der)\n",
    "t = tx.Tx.parse(readable)\n",
    "t.inputs[0].scriptSig = script.Script.parse(redeemScript)\n",
    "ser = t.serialize()\n",
    "ser = Buffer.concat([ser, helper.intToLittleEndian(1,4)])\n",
    "toSign = helper.doubleSha256(ser)\n",
    "z = new BN(toSign,'hex')\n",
    "console.log(point.verify(z , sig))\n",
    "\n",
    "//true"
   ]
  },
  {
   "cell_type": "code",
   "execution_count": null,
   "metadata": {},
   "outputs": [],
   "source": []
  }
 ],
 "metadata": {
  "kernelspec": {
   "display_name": "Javascript (Node.js)",
   "language": "javascript",
   "name": "javascript"
  },
  "language_info": {
   "file_extension": ".js",
   "mimetype": "application/javascript",
   "name": "javascript",
   "version": "8.11.1"
  }
 },
 "nbformat": 4,
 "nbformat_minor": 2
}
