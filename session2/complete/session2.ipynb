{
 "cells": [
  {
   "cell_type": "code",
   "execution_count": 1,
   "metadata": {},
   "outputs": [],
   "source": [
    "// import everything and define a test runner function\n",
    "var helper = require('./helper')\n",
    "var ecc = require('./ecc')\n",
    "const clearModule = require('clear-module')"
   ]
  },
  {
   "cell_type": "code",
   "execution_count": 2,
   "metadata": {},
   "outputs": [
    {
     "name": "stdout",
     "output_type": "stream",
     "text": [
      "true\n"
     ]
    }
   ],
   "source": [
    "//# Verify curve Example\n",
    "\n",
    "prime = 137\n",
    "x = 73\n",
    "y = 128\n",
    "\n",
    "console.log((Math.pow(y, 2) % prime == (Math.pow(x, 3) + 7) % prime))"
   ]
  },
  {
   "cell_type": "markdown",
   "metadata": {},
   "source": [
    "### Exercise 1\n",
    "\n",
    "#### 1.1. Find out which points are valid on the curve \\\\( y^2 = x^3 + 7: F_{223} \\\\)\n",
    "```\n",
    "(192,105), (17,56), (200,119), (1,193), (42,99)\n",
    "```\n"
   ]
  },
  {
   "cell_type": "code",
   "execution_count": 3,
   "metadata": {},
   "outputs": [
    {
     "name": "stdout",
     "output_type": "stream",
     "text": [
      "\n",
      "Exercise 1.1\n",
      "Point (192, 105)_223 is on curve\n",
      "Point (17, 56)_223 is on curve\n",
      "(200,119) is not on curve\n",
      "Point (1, 193)_223 is on curve\n",
      "(42,99) is not on curve\n"
     ]
    },
    {
     "data": {
      "text/plain": [
       "[ undefined, undefined, undefined, undefined, undefined ]"
      ]
     },
     "execution_count": 3,
     "metadata": {},
     "output_type": "execute_result"
    }
   ],
   "source": [
    "//# Exercise 1\n",
    "\n",
    "prime = 223;\n",
    "a = new ecc.FieldElement(0, prime);\n",
    "b = new ecc.FieldElement(7, prime);\n",
    "\n",
    "//Exercise 1.1\n",
    "console.log('\\nExercise 1.1')\n",
    "points = [{x:192,y:105},{x:17,y:56},{x:200,y:119},{x:1,y:193},{x:42,y:99}]\n",
    "p = points.map(obj => {\n",
    "\t\ttry {\n",
    "\t\t\tconsole.log(`${new ecc.Point(new ecc.FieldElement(obj.x, prime), new ecc.FieldElement(obj.y, prime), a, b).toString()} is on curve`);\n",
    "\t\t} catch(error) {\n",
    "\t\t\tconsole.log(`(${obj.x},${obj.y}) is not on curve`);\n",
    "\t\t}\n",
    "\t\t\n",
    "\t}\n",
    ")"
   ]
  },
  {
   "cell_type": "markdown",
   "metadata": {},
   "source": [
    "### Exercise 2\n",
    "\n",
    "#### Write [this test](/edit/session2/complete/ecc.test.js) using the results above\n",
    "```\n",
    "ecc.py:ECCTest:test_on_curve\n",
    "```"
   ]
  },
  {
   "cell_type": "code",
   "execution_count": 5,
   "metadata": {},
   "outputs": [
    {
     "name": "stdout",
     "output_type": "stream",
     "text": [
      "\n",
      "\n",
      "  ECC\n",
      "    ✓ test_on_curve\n",
      "\n",
      "\n",
      "  1 passing (13ms)\n",
      "\n"
     ]
    }
   ],
   "source": [
    "//# Exercise 1.2\n",
    "\n",
    "clearModule.all()\n",
    "helper.runTest('test_on_curve')\n"
   ]
  },
  {
   "cell_type": "code",
   "execution_count": 3,
   "metadata": {},
   "outputs": [
    {
     "name": "stdout",
     "output_type": "stream",
     "text": [
      "Point (FieldElement_137(99), FieldElement_137(49))\n"
     ]
    }
   ],
   "source": [
    "//# Example where x1 != x2\n",
    "\n",
    "clearModule.all()\n",
    "var ecc = require('./ecc')\n",
    "\n",
    "prime = 137\n",
    "a = new ecc.FieldElement(0, prime)\n",
    "b = new ecc.FieldElement(7, prime)\n",
    "p1 = new ecc.Point(new ecc.FieldElement(73, prime), new ecc.FieldElement(128, prime), a, b)\n",
    "p2 = new ecc.Point(new ecc.FieldElement(46, prime), new ecc.FieldElement(22, prime), a, b)\n",
    "\n",
    "np = p1.add(p2)\n",
    "console.log(np.toString())\n"
   ]
  },
  {
   "cell_type": "code",
   "execution_count": 2,
   "metadata": {},
   "outputs": [
    {
     "name": "stdout",
     "output_type": "stream",
     "text": [
      "Point (FieldElement_223(69), FieldElement_223(137))\n"
     ]
    }
   ],
   "source": [
    "//# Example where x1 != x2\n",
    "\n",
    "clearModule.all()\n",
    "var ecc = require('./ecc')\n",
    "\n",
    "prime = 223\n",
    "a = new ecc.FieldElement(0, prime)\n",
    "b = new ecc.FieldElement(7, prime)\n",
    "p1 = new ecc.Point(new ecc.FieldElement(139, prime), new ecc.FieldElement(86, prime), a, b)\n",
    "p2 = new ecc.Point(new ecc.FieldElement(15, prime), new ecc.FieldElement(86, prime), a, b)\n",
    "\n",
    "np = p1.add(p2)\n",
    "console.log(np.toString())\n"
   ]
  },
  {
   "cell_type": "markdown",
   "metadata": {},
   "source": [
    "### Exercise 3\n",
    "\n",
    "#### 2.1. Find the following point additions on the curve  \\\\( y^2 = x^3 + 7: F_{223} \\\\)\n",
    "```\n",
    "(192,105) + (17,56), (47,71) + (117,141), (143,98) + (76,66)\n",
    "```\n",
    "\n",
    "#### 2.2. Write [this test](/edit/session2/ecc.py) using the results above\n",
    "```\n",
    "ecc.py:ECCTest:test_add1\n",
    "```"
   ]
  },
  {
   "cell_type": "code",
   "execution_count": 6,
   "metadata": {},
   "outputs": [
    {
     "name": "stdout",
     "output_type": "stream",
     "text": [
      "Point (192, 105)_223 + Point (17, 56)_223 = Point (170, 142)_223\n",
      "Point (47, 71)_223 + Point (117, 141)_223 = Point (60, 139)_223\n",
      "Point (143, 98)_223 + Point (76, 66)_223 = Point (47, 71)_223\n"
     ]
    },
    {
     "data": {
      "text/plain": [
       "[ undefined, undefined, undefined ]"
      ]
     },
     "execution_count": 6,
     "metadata": {},
     "output_type": "execute_result"
    }
   ],
   "source": [
    "//# Exercise 2.1\n",
    "clearModule.all()\n",
    "var ecc = require('./ecc')\n",
    "\n",
    "prime = 223\n",
    "a = new ecc.FieldElement(0, prime)\n",
    "b = new ecc.FieldElement(7, prime)\n",
    "\n",
    "\n",
    "additions =   [[ {x:192,y:105}, {x:17,y:56}, {x:170,y:142} ],\n",
    "\t\t[ {x:47,y:71}, {x:117,y:141}, {x:60,y:139} ],\n",
    "\t\t[ {x:143,y:98}, {x:76,y:66}, {x:47,y:71} ]]\n",
    "pa = additions.map(obj => {\n",
    "\tx1 = new ecc.FieldElement(obj[0].x, prime);\n",
    "\ty1 = new ecc.FieldElement(obj[0].y, prime);\n",
    "\tp1 = new ecc.Point(x1, y1, a, b);\n",
    "\tx2 = new ecc.FieldElement(obj[1].x, prime);\n",
    "\ty2 = new ecc.FieldElement(obj[1].y, prime);\n",
    "\tp2 = new ecc.Point(x2, y2, a, b);\n",
    "\tx3 = new ecc.FieldElement(obj[2].x, prime);\n",
    "\ty3 = new ecc.FieldElement(obj[2].y, prime);\n",
    "\tp3 = new ecc.Point(x3, y3, a, b);\n",
    "\tpa = p1.add(p2)\n",
    "\tconsole.log(`${p1.toString()} + ${p2.toString()} = ${pa.toString()}`)\n",
    "})"
   ]
  },
  {
   "cell_type": "markdown",
   "metadata": {},
   "source": [
    "### Exercise 4\n",
    "\n",
    "\n",
    "#### 2.2. Write [this test](/edit/session2/complete/ecc.test.js) using the results above\n",
    "```\n",
    "ecc.py:ECCTest:test_add1\n",
    "```"
   ]
  },
  {
   "cell_type": "code",
   "execution_count": 4,
   "metadata": {},
   "outputs": [
    {
     "name": "stdout",
     "output_type": "stream",
     "text": [
      "oP{'A\u001c",
      "O\u0016q\u0002\u0017^lo?)\u0016#m_\u0019-\u001d",
      "r\n",
      "\n",
      "\n",
      "  ECC\n",
      "    √ test_add1\n",
      "\n",
      "\n",
      "  1 passing (40ms)\n",
      "\n"
     ]
    }
   ],
   "source": [
    "//# Exercise 2.2\n",
    "\n",
    "clearModule.all()\n",
    "helper.runTest('test_add1')\n"
   ]
  },
  {
   "cell_type": "code",
   "execution_count": 8,
   "metadata": {},
   "outputs": [
    {
     "name": "stdout",
     "output_type": "stream",
     "text": [
      "Point (103, 76)_137\n"
     ]
    }
   ],
   "source": [
    "//# Example where x1 != x2\n",
    "\n",
    "clearModule.all()\n",
    "var ecc = require('./ecc')\n",
    "\n",
    "prime = 137\n",
    "a = new ecc.FieldElement(0, prime)\n",
    "b = new ecc.FieldElement(7, prime)\n",
    "p = new ecc.Point(new ecc.FieldElement(73, prime), new ecc.FieldElement(128, prime), a, b)\n",
    "\n",
    "np = p.add(p)\n",
    "console.log(np.toString())\n",
    "\n"
   ]
  },
  {
   "cell_type": "markdown",
   "metadata": {},
   "source": [
    "### Exercise 5\n",
    "\n",
    "#### . Find the following scalar multiplications on the curve  \\\\( y^2 = x^3 + 7: F_{223} \\\\)\n",
    "```\n",
    "2*(192,105), 2*(143,98), 2*(47,71), 4*(47,71), 8*(47,71), 21*(47,71)\n",
    "```\n",
    "\n",
    "#### Hint: add the point to itself n times"
   ]
  },
  {
   "cell_type": "code",
   "execution_count": 6,
   "metadata": {},
   "outputs": [
    {
     "name": "stdout",
     "output_type": "stream",
     "text": [
      "Point (FieldElement_223(49), FieldElement_223(71))\n",
      "Point (FieldElement_223(64), FieldElement_223(168))\n",
      "Point (FieldElement_223(36), FieldElement_223(111))\n",
      "Point (FieldElement_223(194), FieldElement_223(51))\n",
      "Point (FieldElement_223(116), FieldElement_223(55))\n",
      "Point (FieldElement_223(undefined), FieldElement_223(undefined))\n"
     ]
    },
    {
     "data": {
      "text/plain": [
       "[ undefined, undefined, undefined, undefined, undefined, undefined ]"
      ]
     },
     "execution_count": 6,
     "metadata": {},
     "output_type": "execute_result"
    }
   ],
   "source": [
    "//# Exercise 5\n",
    "\n",
    "clearModule.all()\n",
    "var ecc = require('./ecc')\n",
    "\n",
    "prime = 223\n",
    "a = new ecc.FieldElement(0, prime)\n",
    "b = new ecc.FieldElement(7, prime)\n",
    "\n",
    "multiplications = [\n",
    "\t{s:2,x1:192,y1:105,x2:49,y2:71},\n",
    "\t{s:2,x1:143,y1:98,x2:64,y2:168},\n",
    "\t{s:2,x1:47,y1:71,x2:36,y2:111},\n",
    "\t{s:4,x1:47,y1:71,x2:194,y2:51},  \n",
    "\t{s:8,x1:47,y1:71,x2:116,y2:55},\n",
    "\t{s:21,x1:47,y1:71,x2:undefined,y2:undefined},\t\t\t\n",
    "] \n",
    "multiplications.map(obj =>{\n",
    "\ts = obj.s;\n",
    "\tx1 = new ecc.FieldElement(obj.x1, prime);\n",
    "\ty1 = new ecc.FieldElement(obj.y1, prime);\n",
    "\ta = new ecc.FieldElement(0, prime);\n",
    "\tb = new ecc.FieldElement(7, prime);\n",
    "\tp1 = new ecc.Point(x1, y1, a, b);\n",
    "\tx2 = new ecc.FieldElement(obj.x2, prime);\n",
    "\ty2 = new ecc.FieldElement(obj.y2, prime);\n",
    "\tp2 = new ecc.Point(x2, y2, a, b);\n",
    "\tconsole.log( p1.rmul(s).toString());\n",
    "})"
   ]
  },
  {
   "cell_type": "code",
   "execution_count": 9,
   "metadata": {},
   "outputs": [
    {
     "name": "stdout",
     "output_type": "stream",
     "text": [
      "Point {\n",
      "  x: FieldElement { num: 47n, prime: 223n },\n",
      "  y: FieldElement { num: 71n, prime: 223n },\n",
      "  a: FieldElement { num: 0n, prime: 223n },\n",
      "  b: FieldElement { num: 7n, prime: 223n } } Point {\n",
      "  x: FieldElement { num: undefined, prime: 223n },\n",
      "  y: FieldElement { num: undefined, prime: 223n },\n",
      "  a: FieldElement { num: 0n, prime: 223n },\n",
      "  b: FieldElement { num: 7n, prime: 223n } } undefined\n",
      "In loop:1:Point (FieldElement_223(47), FieldElement_223(71)),Point (FieldElement_223(47), FieldElement_223(71))\n",
      "In loop:2:Point (FieldElement_223(36), FieldElement_223(111)),Point (FieldElement_223(47), FieldElement_223(71))\n",
      "In loop:3:Point (FieldElement_223(15), FieldElement_223(137)),Point (FieldElement_223(47), FieldElement_223(71))\n",
      "In loop:4:Point (FieldElement_223(194), FieldElement_223(51)),Point (FieldElement_223(47), FieldElement_223(71))\n",
      "In loop:5:Point (FieldElement_223(126), FieldElement_223(96)),Point (FieldElement_223(47), FieldElement_223(71))\n",
      "In loop:6:Point (FieldElement_223(139), FieldElement_223(137)),Point (FieldElement_223(47), FieldElement_223(71))\n",
      "In loop:7:Point (FieldElement_223(92), FieldElement_223(47)),Point (FieldElement_223(47), FieldElement_223(71))\n",
      "In loop:8:Point (FieldElement_223(116), FieldElement_223(55)),Point (FieldElement_223(47), FieldElement_223(71))\n",
      "In loop:9:Point (FieldElement_223(69), FieldElement_223(86)),Point (FieldElement_223(47), FieldElement_223(71))\n",
      "In loop:10:Point (FieldElement_223(154), FieldElement_223(150)),Point (FieldElement_223(47), FieldElement_223(71))\n",
      "In loop:11:Point (FieldElement_223(154), FieldElement_223(73)),Point (FieldElement_223(47), FieldElement_223(71))\n",
      "In loop:12:Point (FieldElement_223(69), FieldElement_223(137)),Point (FieldElement_223(47), FieldElement_223(71))\n",
      "In loop:13:Point (FieldElement_223(116), FieldElement_223(168)),Point (FieldElement_223(47), FieldElement_223(71))\n",
      "In loop:14:Point (FieldElement_223(92), FieldElement_223(176)),Point (FieldElement_223(47), FieldElement_223(71))\n",
      "In loop:15:Point (FieldElement_223(139), FieldElement_223(86)),Point (FieldElement_223(47), FieldElement_223(71))\n",
      "In loop:16:Point (FieldElement_223(126), FieldElement_223(127)),Point (FieldElement_223(47), FieldElement_223(71))\n",
      "In loop:17:Point (FieldElement_223(194), FieldElement_223(172)),Point (FieldElement_223(47), FieldElement_223(71))\n",
      "In loop:18:Point (FieldElement_223(15), FieldElement_223(86)),Point (FieldElement_223(47), FieldElement_223(71))\n",
      "In loop:19:Point (FieldElement_223(36), FieldElement_223(112)),Point (FieldElement_223(47), FieldElement_223(71))\n",
      "In loop:20:Point (FieldElement_223(47), FieldElement_223(152)),Point (FieldElement_223(47), FieldElement_223(71))\n",
      "21:Point (FieldElement_223(undefined), FieldElement_223(undefined))\n"
     ]
    }
   ],
   "source": [
    "//# Group Example\n",
    "\n",
    "prime = 223\n",
    "x = new ecc.FieldElement(47, prime)\n",
    "y = new ecc.FieldElement(71, prime)\n",
    "\n",
    "G = new ecc.Point(x, y, a, b)\n",
    "inf = new ecc.Point(new ecc.FieldElement(undefined, prime), new ecc.FieldElement(undefined, prime), a, b)\n",
    "total = G\n",
    "count = 1\n",
    "console.log(G, inf,total.eq(inf))\n",
    "while (total.x.num != undefined) {\n",
    "\tconsole.log(`In loop:${count}:${total},${G}`)\n",
    "\ttotal = total.add(G)\n",
    "\tcount++\n",
    "}\n",
    "console.log(`${count}:${total}`)\n"
   ]
  },
  {
   "cell_type": "markdown",
   "metadata": {},
   "source": [
    "### Exercise 6\n",
    "\n",
    "#### Find out what the order of the group generated by (15, 86) is on  \\\\( y^2 = x^3 + 7: F_{223} \\\\)\n",
    "\n",
    "#### Hint: add the point to itself until you get the point at infinity\n",
    "\n"
   ]
  },
  {
   "cell_type": "code",
   "execution_count": 12,
   "metadata": {},
   "outputs": [
    {
     "name": "stdout",
     "output_type": "stream",
     "text": [
      "In loop:1:Point (FieldElement_223(15), FieldElement_223(86)):Point (FieldElement_223(15), FieldElement_223(86))\n",
      "In loop:2:Point (FieldElement_223(139), FieldElement_223(86)):Point (FieldElement_223(15), FieldElement_223(86))\n",
      "In loop:3:Point (FieldElement_223(69), FieldElement_223(137)):Point (FieldElement_223(15), FieldElement_223(86))\n",
      "In loop:4:Point (FieldElement_223(69), FieldElement_223(86)):Point (FieldElement_223(15), FieldElement_223(86))\n",
      "In loop:5:Point (FieldElement_223(139), FieldElement_223(137)):Point (FieldElement_223(15), FieldElement_223(86))\n",
      "In loop:6:Point (FieldElement_223(15), FieldElement_223(137)):Point (FieldElement_223(15), FieldElement_223(86))\n",
      "7\n"
     ]
    }
   ],
   "source": [
    "//# Exercise 4.1\n",
    "\n",
    "clearModule.all()\n",
    "var ecc = require('./ecc')\n",
    "\n",
    "prime = 223\n",
    "a = new ecc.FieldElement(0, prime)\n",
    "b = new ecc.FieldElement(7, prime)\n",
    "\n",
    "x = new ecc.FieldElement(15, prime)\n",
    "y = new ecc.FieldElement(86, prime)\n",
    "\n",
    "p = new ecc.Point(x, y, a, b)\n",
    "inf = new ecc.Point(new ecc.FieldElement(undefined, prime), new ecc.FieldElement(undefined, prime), a, b)\n",
    "product = p\n",
    "counter = 1\n",
    "while (product.x.num != undefined) {\n",
    "\tconsole.log(`In loop:${counter}:${product}:${p}`)\n",
    "\tproduct = product.add(p)\n",
    "\tcounter++\n",
    "}\n",
    "console.log(counter)"
   ]
  },
  {
   "cell_type": "markdown",
   "metadata": {},
   "source": [
    "### Exercise 7 \n",
    "Write [this test](/edit/session2/complete/ecc.test.js) using the results above\n",
    "```\n",
    "ecc.py:ECCTest:test_rmul\n",
    "```"
   ]
  },
  {
   "cell_type": "code",
   "execution_count": 11,
   "metadata": {},
   "outputs": [
    {
     "name": "stdout",
     "output_type": "stream",
     "text": [
      "oP{'A\u001c",
      "O\u0016q\u0002\u0017^lo?)\u0016#m_\u0019-\u001d",
      "r\n",
      "\n",
      "\n",
      "  ECC\n",
      "    √ test_rmul\n",
      "\n",
      "\n",
      "  1 passing (12ms)\n",
      "\n"
     ]
    }
   ],
   "source": [
    "//# Exercise 4.2\n",
    "clearModule.all()\n",
    "\n",
    "helper.runTest('test_rmul')"
   ]
  },
  {
   "cell_type": "markdown",
   "metadata": {},
   "source": []
  },
  {
   "cell_type": "code",
   "execution_count": 16,
   "metadata": {},
   "outputs": [
    {
     "name": "stdout",
     "output_type": "stream",
     "text": [
      "true\n"
     ]
    }
   ],
   "source": [
    "//# Confirgming G is on the curve\n",
    "//p = 2**256 - 2**32 - 977\n",
    "p = (2n ** 256n) - (2n ** 32n) - 977n\n",
    "x = BigInt('0x79BE667EF9DCBBAC55A06295CE870B07029BFCDB2DCE28D959F2815B16F81798','hex')\n",
    "y = BigInt('0x483ADA7726A3C4655DA4FBFC0E1108A8FD17B448A68554199C47D08FFB10D4B8','hex')\n",
    "console.log(helper.pow(y,2n,p)== helper.mod(helper.pow(x,3n, p) + 7n,p))\n"
   ]
  },
  {
   "cell_type": "code",
   "execution_count": 19,
   "metadata": {},
   "outputs": [
    {
     "name": "stdout",
     "output_type": "stream",
     "text": [
      "S256Point {\n",
      "  x:\n",
      "   S256Field {\n",
      "     num:\n",
      "      55066263022277343669578718895168534326250603453777594175500187360389116729240n,\n",
      "     prime:\n",
      "      115792089237316195423570985008687907853269984665640564039457584007908834671663n },\n",
      "  y:\n",
      "   S256Field {\n",
      "     num:\n",
      "      32670510020758816978083085130507043184471273380659243275938904335757337482424n,\n",
      "     prime:\n",
      "      115792089237316195423570985008687907853269984665640564039457584007908834671663n },\n",
      "  a:\n",
      "   S256Field {\n",
      "     num: 0n,\n",
      "     prime:\n",
      "      115792089237316195423570985008687907853269984665640564039457584007908834671663n },\n",
      "  b:\n",
      "   S256Field {\n",
      "     num: 7n,\n",
      "     prime:\n",
      "      115792089237316195423570985008687907853269984665640564039457584007908834671663n } }\n",
      "S256Point (undefined, undefined)\n"
     ]
    }
   ],
   "source": [
    "//# Confirming order of G is n\n",
    "\n",
    "N = BigInt('0xFFFFFFFFFFFFFFFFFFFFFFFFFFFFFFFEBAAEDCE6AF48A03BBFD25E8CD0364141', 'hex');\n",
    "console.log(ecc.G)\n",
    "console.log((ecc.G.rmul(N) ).toString())\n"
   ]
  },
  {
   "cell_type": "code",
   "execution_count": 20,
   "metadata": {},
   "outputs": [
    {
     "name": "stdout",
     "output_type": "stream",
     "text": [
      "S256Point (9680241112d370b56da22eb535745d9e314380e568229e09f7241066003bc471, ddac2d377f03c201ffa0419d6596d10327d6c70313bb492ff495f946285d8f38)\n"
     ]
    }
   ],
   "source": [
    "//# Getting the public point from a secret\n",
    "//from ecc import G\n",
    "\n",
    "secret = 999\n",
    "console.log(ecc.G.rmul(secret).toString())\n"
   ]
  },
  {
   "cell_type": "markdown",
   "metadata": {},
   "source": [
    "### Exercise 8\n",
    "\n",
    "#### . Get the public point where the scalar is the following:\n",
    "```\n",
    "7, 1485, 2**128, 2**240+2**31\n",
    "```\n",
    "\n"
   ]
  },
  {
   "cell_type": "code",
   "execution_count": 27,
   "metadata": {},
   "outputs": [
    {
     "name": "stdout",
     "output_type": "stream",
     "text": [
      "S256Point (79be667ef9dcbbac55a06295ce870b07029bfcdb2dce28d959f2815b16f81798, 483ada7726a3c4655da4fbfc0e1108a8fd17b448a68554199c47d08ffb10d4b8)\n",
      "S256Point (5cbdf0646e5db4eaa398f365f2ea7a0e3d419b7e0330e39ce92bddedcac4f9bc, 6aebca40ba255960a3178d6d861a54dba813d0b813fde7b5a5082628087264da)\n",
      "S256Point (c982196a7466fbbbb0e27a940b6af926c1a74d5ad07128c82824a11b5398afda, 7a91f9eae64438afb9ce6448a1c133db2d8fb9254e4546b6f001637d50901f55)\n",
      "S256Point (8f68b9d2f63b5f339239c1ad981f162ee88c5678723ea3351b7b444c9ec4c0da, 662a9f2dba063986de1d90c2b6be215dbbea2cfe95510bfdf23cbf79501fff82)\n",
      "S256Point (9577ff57c8234558f293df502ca4f09cbc65a6572c842b39b366f21717945116, 10b49c67fa9365ad7b90dab070be339a1daf9052373ec30ffae4f72d5e66d053)\n"
     ]
    },
    {
     "data": {
      "text/plain": [
       "[ undefined, undefined, undefined, undefined ]"
      ]
     },
     "execution_count": 27,
     "metadata": {},
     "output_type": "execute_result"
    }
   ],
   "source": [
    "//# Exercise 5.1\n",
    "\n",
    "//from ecc import G\n",
    "\n",
    "//secrets = (7, 1485, 2**128, 2**240+2**31)\n",
    "clearModule.all()\n",
    "var ecc = require('./ecc')\n",
    "G = ecc.G\n",
    "\n",
    "//G = new ecc.S256Point(\n",
    "//\t\t\tnew BN('79be667ef9dcbbac55a06295ce870b07029bfcdb2dce28d959f2815b16f81798', 16),\n",
    "//\t\t\tnew BN('483ada7726a3c4655da4fbfc0e1108a8fd17b448a68554199c47d08ffb10d4b8', 16));\n",
    "\n",
    "//console.log(G.toString())\n",
    "//console.log(new BN(2).pow(new BN(240)).add(new BN(2).pow(new BN(31))).toString(10))\n",
    "secrets = ['7', '1485', '340282366920938463463374607431768211456', \n",
    "'1766847064778384329583297500742918515827483896875618958121606203440103424']\n",
    "secrets.map(x => console.log(G.rmul(x).toString()))"
   ]
  },
  {
   "cell_type": "markdown",
   "metadata": {},
   "source": [
    "### Exercise 9 Make [this test](/edit/session2/complete/ecc.test.js) pass\n",
    "```\n",
    "ecc.py:S256Test:test_pubpoint\n",
    "```"
   ]
  },
  {
   "cell_type": "code",
   "execution_count": 21,
   "metadata": {},
   "outputs": [
    {
     "name": "stdout",
     "output_type": "stream",
     "text": [
      "oP{'A\u001c",
      "O\u0016q\u0002\u0017^lo?)\u0016#m_\u0019-\u001d",
      "r\n",
      "\n",
      "\n",
      "  S256Test\n",
      "    √ test_pubpoint (1054ms)\n",
      "\n",
      "\n",
      "  1 passing (1s)\n",
      "\n"
     ]
    }
   ],
   "source": [
    "//# Exercise 9\n",
    "\n",
    "\n",
    "clearModule.all()\n",
    "helper.runTest('test_pubpoint')"
   ]
  },
  {
   "cell_type": "code",
   "execution_count": 36,
   "metadata": {},
   "outputs": [
    {
     "name": "stdout",
     "output_type": "stream",
     "text": [
      "045cbdf0646e5db4eaa398f365f2ea7a0e3d419b7e0330e39ce92bddedcac4f9bc6aebca40ba255960a3178d6d861a54dba813d0b813fde7b5a5082628087264da\n",
      "025cbdf0646e5db4eaa398f365f2ea7a0e3d419b7e0330e39ce92bddedcac4f9bc\n"
     ]
    }
   ],
   "source": [
    "//# SEC Example\n",
    "\n",
    "\n",
    "point = new ecc.S256Point(BigInt('0x5CBDF0646E5DB4EAA398F365F2EA7A0E3D419B7E0330E39CE92BDDEDCAC4F9BC','hex'),\n",
    "                          BigInt('0x6AEBCA40BA255960A3178D6D861A54DBA813D0B813FDE7B5A5082628087264DA','hex'))\n",
    "\n",
    "uncompressed = Buffer.concat([Buffer.from([0x04]), Buffer.from(point.x.num.toString(16),'hex')\n",
    "                              , Buffer.from(point.y.num.toString(16),'hex')]);\n",
    "console.log(uncompressed.toString('hex'))\n",
    "if (helper.mod(point.y.num,2n) === 1n) {\n",
    "    compressed = Buffer.concat([Buffer.from([0x03]), Buffer.from(point.x.num.toString(16),'hex')])\n",
    "} else {\n",
    "    compressed = Buffer.concat([Buffer.from([0x02]), Buffer.from(point.x.num.toString(16),'hex')])\n",
    "}\n",
    "console.log(compressed.toString('hex'))\n"
   ]
  },
  {
   "cell_type": "markdown",
   "metadata": {},
   "source": [
    "#### Exercise 10\n",
    "\n",
    "#### Find the compressed and uncompressed SEC format for pub keys where the private keys are:\n",
    "```\n",
    "999**3, 123, 42424242\n",
    "```\n",
    "\n"
   ]
  },
  {
   "cell_type": "code",
   "execution_count": 38,
   "metadata": {},
   "outputs": [
    {
     "name": "stdout",
     "output_type": "stream",
     "text": [
      "049d5ca49670cbe4c3bfa84c96a8c87df086c6ea6a24ba6b809c9de234496808d56fa15cc7f3d38cda98dee2419f415b7513dde1301f8643cd9245aea7f3f911f9\n",
      "039d5ca49670cbe4c3bfa84c96a8c87df086c6ea6a24ba6b809c9de234496808d5\n",
      "04a598a8030da6d86c6bc7f2f5144ea549d28211ea58faa70ebf4c1e665c1fe9b5204b5d6f84822c307e4b4a7140737aec23fc63b65b35f86a10026dbd2d864e6b\n",
      "03a598a8030da6d86c6bc7f2f5144ea549d28211ea58faa70ebf4c1e665c1fe9b5\n",
      "04aee2e7d843f7430097859e2bc603abcc3274ff8169c1a469fee0f20614066f8e21ec53f40efac47ac1c5211b2123527e0e9b57ede790c4da1e72c91fb7da54a3\n",
      "03aee2e7d843f7430097859e2bc603abcc3274ff8169c1a469fee0f20614066f8e\n"
     ]
    },
    {
     "data": {
      "text/plain": [
       "[ undefined, undefined, undefined ]"
      ]
     },
     "execution_count": 38,
     "metadata": {},
     "output_type": "execute_result"
    }
   ],
   "source": [
    "//# Exercise 6.1\n",
    "\n",
    "secrets = [Math.pow(999,3), 123, 42424242]\n",
    "x = secrets.map( secret => { \n",
    "    point = G.rmul(secret)\n",
    "    uncompressed = Buffer.concat([Buffer.from([0x04]), Buffer.from(point.x.num.toString(16),'hex')\n",
    "                              , Buffer.from(point.y.num.toString(16),'hex')]);\n",
    "    console.log(uncompressed.toString('hex'))\n",
    "    if (helper.mod(point.y.num,2n) === 1n) {\n",
    "        compressed = Buffer.concat([Buffer.from([0x03]), Buffer.from(point.x.num.toString(16),'hex')])\n",
    "    } else {\n",
    "        compressed = Buffer.concat([Buffer.from([0x02]), Buffer.from(point.x.num.toString(16),'hex')])\n",
    "    }\n",
    "    console.log(compressed.toString('hex'))\n",
    "})\n"
   ]
  },
  {
   "cell_type": "markdown",
   "metadata": {},
   "source": [
    "### Exercise 11\n",
    "\n",
    "#### . Make [this test](/edit/session2/complete/ecc.test.js) pass\n",
    "```\n",
    "ecc.py:S256Test:test_sec\n",
    "```"
   ]
  },
  {
   "cell_type": "code",
   "execution_count": 51,
   "metadata": {},
   "outputs": [
    {
     "name": "stdout",
     "output_type": "stream",
     "text": [
      "oP{'A\u001c",
      "O\u0016q\u0002\u0017^lo?)\u0016#m_\u0019-\u001d",
      "r\n",
      "\n",
      "\n",
      "  S256Test\n",
      "71176803099804161691761476818163093541894285134256342819133839964600195877077n\n",
      "74901340345789065325870760596348306623878342739272826068162779513906431781301n\n",
      "79103343224040496276989510793860639645068431043554805118507923535946530058126n\n",
      "    √ test_sec (816ms)\n",
      "\n",
      "\n",
      "  1 passing (824ms)\n",
      "\n"
     ]
    }
   ],
   "source": [
    "//# Exercise 6.2\n",
    "clearModule.all()\n",
    "\n",
    "helper.runTest('test_sec')"
   ]
  },
  {
   "cell_type": "code",
   "execution_count": 42,
   "metadata": {},
   "outputs": [
    {
     "name": "stdout",
     "output_type": "stream",
     "text": [
      "19ZewH8Kk1PDbSNdJ97FP4EiCjTRaZMZQA\n"
     ]
    }
   ],
   "source": [
    "//# Address Example\n",
    "\n",
    "//from helper import encode_base58, hash160, double_sha256\n",
    "//sec = bytes.fromhex('025CBDF0646E5DB4EAA398F365F2EA7A0E3D419B7E0330E39CE92BDDEDCAC4F9BC')\n",
    "//h160 = hash160(sec)\n",
    "//raw = b\"\\x00\" + h160\n",
    "//raw = raw + double_sha256(raw)[:4]\n",
    "//addr = encode_base58(raw)\n",
    "//print(addr)\n",
    "// b'19ZewH8Kk1PDbSNdJ97FP4EiCjTRaZMZQA'\n",
    "\n",
    "\n",
    "\n",
    "sec = Buffer.from('025CBDF0646E5DB4EAA398F365F2EA7A0E3D419B7E0330E39CE92BDDEDCAC4F9BC','hex')\n",
    "h160 = Buffer.from(helper.hash160(sec),'hex')\n",
    "raw = Buffer.concat([Buffer.from([0x00]), h160])\n",
    "checksum = Buffer.from(helper.doubleSha256(raw).slice(0,8),'hex')\n",
    "total = Buffer.concat([raw, checksum])\n",
    "console.log(helper.encodeBase58(total))\n"
   ]
  },
  {
   "cell_type": "markdown",
   "metadata": {},
   "source": [
    "### Exercise 12\n",
    "\n",
    "#### . Find the mainnet and testnet addresses corresponding to the private keys:\n",
    "```\n",
    "compressed, 888**3\n",
    "uncompressed, 321\n",
    "uncompressed, 4242424242\n",
    "```\n",
    "\n"
   ]
  },
  {
   "cell_type": "code",
   "execution_count": 43,
   "metadata": {},
   "outputs": [
    {
     "name": "stdout",
     "output_type": "stream",
     "text": [
      "148dY81A9BmdpMhvYEVznrM45kWN32vSCN\n",
      "mieaqB68xDCtbUBYFoUNcmZNwk74xcBfTP\n",
      "62993874516558554105998507783025790934389611786421029894195191716181730180203n\n",
      "1S6g2xBJSED7Qr9CYZib5f4PYVhHZiVfj\n",
      "mfx3y63A7TfTtXKkv7Y6QzsPFY6QCBCXiP\n",
      "93191894100055245953271967639410522063926726038411137478008884586694023437305n\n",
      "1226JSptcStqn4Yq9aAmNXdwdc2ixuH9nb\n",
      "mgY3bVusRUL6ZB2Ss999CSrGVbdRwVpM8s\n"
     ]
    },
    {
     "data": {
      "text/plain": [
       "[ undefined, undefined, undefined ]"
      ]
     },
     "execution_count": 43,
     "metadata": {},
     "output_type": "execute_result"
    }
   ],
   "source": [
    "//# Exercise 12\n",
    "components = [[true,Math.pow(888,3)],[false, 321],[false, 4242424242]]\n",
    "components.map( o => {\n",
    "    point = G.rmul(o[1])\n",
    "    sec = point.sec(o[0])\n",
    "    h160 = Buffer.from(helper.hash160(sec),'hex')\n",
    "    raw = Buffer.concat([Buffer.from([0x00]), h160])\n",
    "    checksum = Buffer.from(helper.doubleSha256(raw).slice(0,8),'hex')\n",
    "    total = Buffer.concat([raw, checksum])\n",
    "    console.log(helper.encodeBase58(total))\n",
    "\n",
    "    raw = Buffer.concat([Buffer.from([0x6f]), h160])\n",
    "    checksum = Buffer.from(helper.doubleSha256(raw).slice(0,8),'hex')\n",
    "    total = Buffer.concat([raw, checksum])\n",
    "    console.log(helper.encodeBase58(total))\n",
    "})\n",
    "\n",
    "//148dY81A9BmdpMhvYEVznrM45kWN32vSCN\n",
    "//mieaqB68xDCtbUBYFoUNcmZNwk74xcBfTP\n",
    "//1S6g2xBJSED7Qr9CYZib5f4PYVhHZiVfj\n",
    "//mfx3y63A7TfTtXKkv7Y6QzsPFY6QCBCXiP\n",
    "//1226JSptcStqn4Yq9aAmNXdwdc2ixuH9nb\n",
    "//mgY3bVusRUL6ZB2Ss999CSrGVbdRwVpM8s"
   ]
  },
  {
   "cell_type": "markdown",
   "metadata": {},
   "source": [
    "### Exercise 13\n",
    "####  Make [this test](/edit/session2complete/ecc.test.js) pass\n",
    "```\n",
    "ecc.py:S256Test:test_address\n",
    "```"
   ]
  },
  {
   "cell_type": "code",
   "execution_count": 61,
   "metadata": {},
   "outputs": [
    {
     "name": "stdout",
     "output_type": "stream",
     "text": [
      "oP{'A\u001c",
      "O\u0016q\u0002\u0017^lo?)\u0016#m_\u0019-\u001d",
      "r\n",
      "\n",
      "\n",
      "  test_encode_base58_checksum\n",
      "    √ checks\n",
      "\n",
      "\n",
      "  1 passing (11ms)\n",
      "\n"
     ]
    }
   ],
   "source": [
    "clearModule.all()\n",
    "helper.runTest('test_encode_base58_checksum')"
   ]
  },
  {
   "cell_type": "markdown",
   "metadata": {},
   "source": [
    "### Exercise 14\n",
    "####  Make [this test](/edit/session2complete/ecc.test.js) pass\n",
    "```\n",
    "ecc.py:S256Test:test_address\n",
    "```"
   ]
  },
  {
   "cell_type": "code",
   "execution_count": 44,
   "metadata": {},
   "outputs": [
    {
     "name": "stdout",
     "output_type": "stream",
     "text": [
      "oP{'A\u001c",
      "O\u0016q\u0002\u0017^lo?)\u0016#m_\u0019-\u001d",
      "r\n",
      "\n",
      "\n",
      "  S256Test\n",
      "    √ mainnet_address (323ms)\n",
      "    √ testnet_address (214ms)\n",
      "62993874516558554105998507783025790934389611786421029894195191716181730180203n\n",
      "    √ mainnet_address_321 (238ms)\n",
      "62993874516558554105998507783025790934389611786421029894195191716181730180203n\n",
      "    √ testnet_address_321 (266ms)\n",
      "93191894100055245953271967639410522063926726038411137478008884586694023437305n\n",
      "    √ mainnet_address_42 (236ms)\n",
      "93191894100055245953271967639410522063926726038411137478008884586694023437305n\n",
      "    √ testnet_address_42 (253ms)\n",
      "\n",
      "\n",
      "  6 passing (2s)\n",
      "\n"
     ]
    }
   ],
   "source": [
    "//# Exercise 14\n",
    "\n",
    "clearModule.all()\n",
    "helper.runTest('address')"
   ]
  },
  {
   "cell_type": "markdown",
   "metadata": {},
   "source": [
    "### Exercise 15\n",
    "\n",
    "#### Create a testnet address using your own secret key\n",
    "#### (use your phone number if you can't think of anything)\n",
    "#### Record this secret key for tomorrow!"
   ]
  },
  {
   "cell_type": "code",
   "execution_count": 74,
   "metadata": {},
   "outputs": [
    {
     "name": "stdout",
     "output_type": "stream",
     "text": [
      "1800555555518005555555n\n",
      "mikzedfpopZNBDhRNksRXe8SQcKxZZufYZ\n",
      "f81d5a52cdab8dbf7890d38a5b47acc29ee2db5e91308f61bc61b729b448bd2f\n"
     ]
    },
    {
     "ename": "RangeError [ERR_OUT_OF_RANGE]",
     "evalue": "The value of \"byteLength\" is out of range. It must be >= 1 and <= 6. Received 30",
     "output_type": "error",
     "traceback": [
      "internal/buffer.js:54",
      "  throw new ERR_OUT_OF_RANGE(type || 'offset',",
      "  ^",
      "",
      "RangeError [ERR_OUT_OF_RANGE]: The value of \"byteLength\" is out of range. It must be >= 1 and <= 6. Received 30",
      "    at boundsError (internal/buffer.js:54:9)",
      "    at Buffer.readUIntLE (internal/buffer.js:76:3)",
      "    at Object.littleEndianToInt (C:\\Users\\as0218\\Documents\\pb-exercises-jsnb\\session2\\complete\\helper.js:117:35)",
      "    at evalmachine.<anonymous>:10:17",
      "    at Script.runInThisContext (vm.js:122:20)",
      "    at Object.runInThisContext (vm.js:319:38)",
      "    at run ([eval]:1054:15)",
      "    at onRunRequest ([eval]:888:18)",
      "    at onMessage ([eval]:848:13)",
      "    at process.emit (events.js:182:13)"
     ]
    }
   ],
   "source": [
    "//# Exercise 8.1\n",
    "secret = BigInt('1800555555518005555555')\n",
    "console.log(secret)\n",
    "point = ecc.G.rmul(secret)\n",
    "console.log(point.address(true, testnet=true))\n",
    "//miKegze5FQNCnGw6PKyqUbYUeBa4x2hFeM\n",
    "\n",
    "passphrase = Buffer.from('Jimmy Song','ascii')\n",
    "console.log(helper.doubleSha256(passphrase))\n",
    "secret = helper.littleEndianToInt(Buffer.from(helper.doubleSha256(passphrase),'hex'))\n",
    "point = ecc.G.rmul(secret)\n",
    "console.log(point.address(true, testnet=true))"
   ]
  },
  {
   "cell_type": "code",
   "execution_count": null,
   "metadata": {},
   "outputs": [],
   "source": []
  }
 ],
 "metadata": {
  "kernelspec": {
   "display_name": "Javascript (Node.js)",
   "language": "javascript",
   "name": "javascript"
  },
  "language_info": {
   "file_extension": ".js",
   "mimetype": "application/javascript",
   "name": "javascript",
   "version": "11.2.0"
  }
 },
 "nbformat": 4,
 "nbformat_minor": 2
}
