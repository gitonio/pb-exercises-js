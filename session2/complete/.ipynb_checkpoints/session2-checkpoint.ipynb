{
 "cells": [
  {
   "cell_type": "code",
   "execution_count": 1,
   "metadata": {},
   "outputs": [],
   "source": [
    "// import everything and define a test runner function\n",
    "var helper = require('./helper')\n",
    "var ecc = require('./ecc')\n",
    "var BN = require('bn.js')\n",
    "const clearModule = require('clear-module')"
   ]
  },
  {
   "cell_type": "code",
   "execution_count": 2,
   "metadata": {},
   "outputs": [
    {
     "name": "stdout",
     "output_type": "stream",
     "text": [
      "true\n"
     ]
    }
   ],
   "source": [
    "//# Verify curve Example\n",
    "\n",
    "prime = 137\n",
    "x = 73\n",
    "y = 128\n",
    "\n",
    "console.log((Math.pow(y, 2) % prime == (Math.pow(x, 3) + 7) % prime))"
   ]
  },
  {
   "cell_type": "markdown",
   "metadata": {},
   "source": [
    "### Exercise 1\n",
    "\n",
    "#### 1.1. Find out which points are valid on the curve \\\\( y^2 = x^3 + 7: F_{223} \\\\)\n",
    "```\n",
    "(192,105), (17,56), (200,119), (1,193), (42,99)\n",
    "```\n",
    "#### 1.2. Write [this test](/edit/session2/complete/ecc.test.js) using the results above\n",
    "```\n",
    "ecc.py:ECCTest:test_on_curve\n",
    "```"
   ]
  },
  {
   "cell_type": "code",
   "execution_count": 3,
   "metadata": {},
   "outputs": [
    {
     "name": "stdout",
     "output_type": "stream",
     "text": [
      "\n",
      "Exercise 1.1\n",
      "Point (192, 105)_223 is on curve\n",
      "Point (17, 56)_223 is on curve\n",
      "(200,119) is not on curve\n",
      "Point (1, 193)_223 is on curve\n",
      "(42,99) is not on curve\n"
     ]
    },
    {
     "data": {
      "text/plain": [
       "[ undefined, undefined, undefined, undefined, undefined ]"
      ]
     },
     "execution_count": 3,
     "metadata": {},
     "output_type": "execute_result"
    }
   ],
   "source": [
    "//# Exercise 1.1\n",
    "\n",
    "prime = 223;\n",
    "a = new ecc.FieldElement(0, prime);\n",
    "b = new ecc.FieldElement(7, prime);\n",
    "\n",
    "//Exercise 1.1\n",
    "console.log('\\nExercise 1.1')\n",
    "points = [{x:192,y:105},{x:17,y:56},{x:200,y:119},{x:1,y:193},{x:42,y:99}]\n",
    "p = points.map(obj => {\n",
    "\t\ttry {\n",
    "\t\t\tconsole.log(`${new ecc.Point(new ecc.FieldElement(obj.x, prime), new ecc.FieldElement(obj.y, prime), a, b).toString()} is on curve`);\n",
    "\t\t} catch(error) {\n",
    "\t\t\tconsole.log(`(${obj.x},${obj.y}) is not on curve`);\n",
    "\t\t}\n",
    "\t\t\n",
    "\t}\n",
    ")"
   ]
  },
  {
   "cell_type": "code",
   "execution_count": 4,
   "metadata": {},
   "outputs": [
    {
     "name": "stdout",
     "output_type": "stream",
     "text": [
      "\n",
      "\n",
      "  ECC\n",
      "    √ test_on_curve\n",
      "\n",
      "\n",
      "  1 passing (32ms)\n",
      "\n"
     ]
    }
   ],
   "source": [
    "//# Exercise 1.2\n",
    "\n",
    "clearModule.all()\n",
    "helper.runTest('test_on_curve')\n"
   ]
  },
  {
   "cell_type": "code",
   "execution_count": 5,
   "metadata": {},
   "outputs": [
    {
     "name": "stdout",
     "output_type": "stream",
     "text": [
      "Point (99, 49)_137\n"
     ]
    }
   ],
   "source": [
    "//# Example where x1 != x2\n",
    "\n",
    "clearModule.all()\n",
    "var ecc = require('./ecc')\n",
    "\n",
    "prime = 137\n",
    "a = new ecc.FieldElement(0, prime)\n",
    "b = new ecc.FieldElement(7, prime)\n",
    "p1 = new ecc.Point(new ecc.FieldElement(73, prime), new ecc.FieldElement(128, prime), a, b)\n",
    "p2 = new ecc.Point(new ecc.FieldElement(46, prime), new ecc.FieldElement(22, prime), a, b)\n",
    "\n",
    "np = p1.add(p2)\n",
    "console.log(np.toString())\n"
   ]
  },
  {
   "cell_type": "code",
   "execution_count": 14,
   "metadata": {},
   "outputs": [
    {
     "name": "stdout",
     "output_type": "stream",
     "text": [
      "Point (69, 137)_223\n"
     ]
    }
   ],
   "source": [
    "//# Example where x1 != x2\n",
    "\n",
    "clearModule.all()\n",
    "var ecc = require('./ecc')\n",
    "\n",
    "prime = 223\n",
    "a = new ecc.FieldElement(0, prime)\n",
    "b = new ecc.FieldElement(7, prime)\n",
    "p1 = new ecc.Point(new ecc.FieldElement(139, prime), new ecc.FieldElement(86, prime), a, b)\n",
    "p2 = new ecc.Point(new ecc.FieldElement(15, prime), new ecc.FieldElement(86, prime), a, b)\n",
    "\n",
    "np = p1.add(p2)\n",
    "console.log(np.toString())\n"
   ]
  },
  {
   "cell_type": "markdown",
   "metadata": {},
   "source": [
    "### Exercise 2\n",
    "\n",
    "#### 2.1. Find the following point additions on the curve  \\\\( y^2 = x^3 + 7: F_{223} \\\\)\n",
    "```\n",
    "(192,105) + (17,56), (47,71) + (117,141), (143,98) + (76,66)\n",
    "```\n",
    "\n",
    "#### 2.2. Write [this test](/edit/session2/ecc.py) using the results above\n",
    "```\n",
    "ecc.py:ECCTest:test_add1\n",
    "```"
   ]
  },
  {
   "cell_type": "code",
   "execution_count": 6,
   "metadata": {},
   "outputs": [
    {
     "name": "stdout",
     "output_type": "stream",
     "text": [
      "Point (192, 105)_223 + Point (17, 56)_223 = Point (170, 142)_223\n",
      "Point (47, 71)_223 + Point (117, 141)_223 = Point (60, 139)_223\n",
      "Point (143, 98)_223 + Point (76, 66)_223 = Point (47, 71)_223\n"
     ]
    },
    {
     "data": {
      "text/plain": [
       "[ undefined, undefined, undefined ]"
      ]
     },
     "execution_count": 6,
     "metadata": {},
     "output_type": "execute_result"
    }
   ],
   "source": [
    "//# Exercise 2.1\n",
    "clearModule.all()\n",
    "var ecc = require('./ecc')\n",
    "\n",
    "prime = 223\n",
    "a = new ecc.FieldElement(0, prime)\n",
    "b = new ecc.FieldElement(7, prime)\n",
    "\n",
    "\n",
    "additions =   [[ {x:192,y:105}, {x:17,y:56}, {x:170,y:142} ],\n",
    "\t\t[ {x:47,y:71}, {x:117,y:141}, {x:60,y:139} ],\n",
    "\t\t[ {x:143,y:98}, {x:76,y:66}, {x:47,y:71} ]]\n",
    "pa = additions.map(obj => {\n",
    "\tx1 = new ecc.FieldElement(obj[0].x, prime);\n",
    "\ty1 = new ecc.FieldElement(obj[0].y, prime);\n",
    "\tp1 = new ecc.Point(x1, y1, a, b);\n",
    "\tx2 = new ecc.FieldElement(obj[1].x, prime);\n",
    "\ty2 = new ecc.FieldElement(obj[1].y, prime);\n",
    "\tp2 = new ecc.Point(x2, y2, a, b);\n",
    "\tx3 = new ecc.FieldElement(obj[2].x, prime);\n",
    "\ty3 = new ecc.FieldElement(obj[2].y, prime);\n",
    "\tp3 = new ecc.Point(x3, y3, a, b);\n",
    "\tpa = p1.add(p2)\n",
    "\tconsole.log(`${p1.toString()} + ${p2.toString()} = ${pa.toString()}`)\n",
    "})"
   ]
  },
  {
   "cell_type": "code",
   "execution_count": 7,
   "metadata": {},
   "outputs": [
    {
     "name": "stdout",
     "output_type": "stream",
     "text": [
      "\n",
      "\n",
      "  ECC\n",
      "    √ test_add1\n",
      "\n",
      "\n",
      "  1 passing (38ms)\n",
      "\n"
     ]
    }
   ],
   "source": [
    "//# Exercise 2.2\n",
    "\n",
    "clearModule.all()\n",
    "helper.runTest('test_add1')\n"
   ]
  },
  {
   "cell_type": "code",
   "execution_count": 8,
   "metadata": {},
   "outputs": [
    {
     "name": "stdout",
     "output_type": "stream",
     "text": [
      "Point (103, 76)_137\n"
     ]
    }
   ],
   "source": [
    "//# Example where x1 != x2\n",
    "\n",
    "clearModule.all()\n",
    "var ecc = require('./ecc')\n",
    "\n",
    "prime = 137\n",
    "a = new ecc.FieldElement(0, prime)\n",
    "b = new ecc.FieldElement(7, prime)\n",
    "p = new ecc.Point(new ecc.FieldElement(73, prime), new ecc.FieldElement(128, prime), a, b)\n",
    "\n",
    "np = p.add(p)\n",
    "console.log(np.toString())\n",
    "\n"
   ]
  },
  {
   "cell_type": "markdown",
   "metadata": {},
   "source": [
    "### Exercise 3\n",
    "\n",
    "#### 3.1. Find the following scalar multiplications on the curve  \\\\( y^2 = x^3 + 7: F_{223} \\\\)\n",
    "```\n",
    "2*(192,105), 2*(143,98), 2*(47,71), 4*(47,71), 8*(47,71), 21*(47,71)\n",
    "```\n",
    "\n",
    "#### Hint: add the point to itself n times"
   ]
  },
  {
   "cell_type": "code",
   "execution_count": 9,
   "metadata": {},
   "outputs": [
    {
     "name": "stdout",
     "output_type": "stream",
     "text": [
      "Point (49, 71)_223\n",
      "Point (64, 168)_223\n",
      "Point (36, 111)_223\n",
      "Point (194, 51)_223\n",
      "Point (116, 55)_223\n",
      "Point(infinity)\n"
     ]
    },
    {
     "data": {
      "text/plain": [
       "[ undefined, undefined, undefined, undefined, undefined, undefined ]"
      ]
     },
     "execution_count": 9,
     "metadata": {},
     "output_type": "execute_result"
    }
   ],
   "source": [
    "//# Exercise 3.1\n",
    "\n",
    "clearModule.all()\n",
    "var ecc = require('./ecc')\n",
    "\n",
    "prime = 223\n",
    "a = new ecc.FieldElement(0, prime)\n",
    "b = new ecc.FieldElement(7, prime)\n",
    "\n",
    "multiplications = [\n",
    "\t{s:2,x1:192,y1:105,x2:49,y2:71},\n",
    "\t{s:2,x1:143,y1:98,x2:64,y2:168},\n",
    "\t{s:2,x1:47,y1:71,x2:36,y2:111},\n",
    "\t{s:4,x1:47,y1:71,x2:194,y2:51},  \n",
    "\t{s:8,x1:47,y1:71,x2:116,y2:55},\n",
    "\t{s:21,x1:47,y1:71,x2:undefined,y2:undefined},\t\t\t\n",
    "] \n",
    "multiplications.map(obj =>{\n",
    "\ts = obj.s;\n",
    "\tx1 = new ecc.FieldElement(obj.x1, prime);\n",
    "\ty1 = new ecc.FieldElement(obj.y1, prime);\n",
    "\ta = new ecc.FieldElement(0, prime);\n",
    "\tb = new ecc.FieldElement(7, prime);\n",
    "\tp1 = new ecc.Point(x1, y1, a, b);\n",
    "\tx2 = new ecc.FieldElement(obj.x2, prime);\n",
    "\ty2 = new ecc.FieldElement(obj.y2, prime);\n",
    "\tp2 = new ecc.Point(x2, y2, a, b);\n",
    "\tconsole.log( p1.rmul(s).toString());\n",
    "})"
   ]
  },
  {
   "cell_type": "code",
   "execution_count": 7,
   "metadata": {},
   "outputs": [
    {
     "name": "stdout",
     "output_type": "stream",
     "text": [
      "Point {\n",
      "  x: FieldElement { num: <BN: 2f>, prime: <BN: df> },\n",
      "  y: FieldElement { num: <BN: 47>, prime: <BN: df> },\n",
      "  a: FieldElement { num: <BN: 0>, prime: <BN: df> },\n",
      "  b: FieldElement { num: <BN: 7>, prime: <BN: df> } } Point {\n",
      "  x: FieldElement { num: undefined, prime: <BN: 0> },\n",
      "  y: FieldElement { num: undefined, prime: <BN: 0> },\n",
      "  a: FieldElement { num: <BN: 0>, prime: <BN: df> },\n",
      "  b: FieldElement { num: <BN: 7>, prime: <BN: df> } } true\n",
      "In loop:1:Point (47, 71)_223,Point (47, 71)_223\n",
      "In loop:2:Point (36, 111)_223,Point (47, 71)_223\n",
      "In loop:3:Point (15, 137)_223,Point (47, 71)_223\n",
      "In loop:4:Point (194, 51)_223,Point (47, 71)_223\n",
      "In loop:5:Point (126, 96)_223,Point (47, 71)_223\n",
      "In loop:6:Point (139, 137)_223,Point (47, 71)_223\n",
      "In loop:7:Point (92, 47)_223,Point (47, 71)_223\n",
      "In loop:8:Point (116, 55)_223,Point (47, 71)_223\n",
      "In loop:9:Point (69, 86)_223,Point (47, 71)_223\n",
      "In loop:10:Point (154, 150)_223,Point (47, 71)_223\n",
      "In loop:11:Point (154, 73)_223,Point (47, 71)_223\n",
      "In loop:12:Point (69, 137)_223,Point (47, 71)_223\n",
      "In loop:13:Point (116, 168)_223,Point (47, 71)_223\n",
      "In loop:14:Point (92, 176)_223,Point (47, 71)_223\n",
      "In loop:15:Point (139, 86)_223,Point (47, 71)_223\n",
      "In loop:16:Point (126, 127)_223,Point (47, 71)_223\n",
      "In loop:17:Point (194, 172)_223,Point (47, 71)_223\n",
      "In loop:18:Point (15, 86)_223,Point (47, 71)_223\n",
      "In loop:19:Point (36, 112)_223,Point (47, 71)_223\n",
      "In loop:20:Point (47, 152)_223,Point (47, 71)_223\n",
      "21:Point(infinity)\n"
     ]
    }
   ],
   "source": [
    "//# Group Example\n",
    "\n",
    "x = new ecc.FieldElement(47, prime)\n",
    "y = new ecc.FieldElement(71, prime)\n",
    "\n",
    "G = new ecc.Point(x, y, a, b)\n",
    "inf = new ecc.Point(new ecc.FieldElement(undefined), new ecc.FieldElement(undefined), a, b)\n",
    "total = G\n",
    "count = 1\n",
    "console.log(G, inf,total.eq(inf))\n",
    "while (total.x.num != undefined) {\n",
    "\tconsole.log(`In loop:${count}:${total},${G}`)\n",
    "\ttotal = total.add(G)\n",
    "\tcount++\n",
    "}\n",
    "console.log(`${count}:${total}`)\n"
   ]
  },
  {
   "cell_type": "markdown",
   "metadata": {},
   "source": [
    "### Exercise 4\n",
    "\n",
    "#### 4.1. Find out what the order of the group generated by (15, 86) is on  \\\\( y^2 = x^3 + 7: F_{223} \\\\)\n",
    "\n",
    "#### Hint: add the point to itself until you get the point at infinity\n",
    "\n",
    "#### 4.2 Write [this test](/edit/session2/ecc.py) using the results above\n",
    "```\n",
    "ecc.py:ECCTest:test_rmul\n",
    "```"
   ]
  },
  {
   "cell_type": "code",
   "execution_count": 10,
   "metadata": {},
   "outputs": [
    {
     "name": "stdout",
     "output_type": "stream",
     "text": [
      "In loop:1:Point (15, 86)_223:Point (15, 86)_223\n",
      "In loop:2:Point (139, 86)_223:Point (15, 86)_223\n",
      "In loop:3:Point (69, 137)_223:Point (15, 86)_223\n",
      "In loop:4:Point (69, 86)_223:Point (15, 86)_223\n",
      "In loop:5:Point (139, 137)_223:Point (15, 86)_223\n",
      "In loop:6:Point (15, 137)_223:Point (15, 86)_223\n",
      "7\n"
     ]
    }
   ],
   "source": [
    "//# Exercise 4.1\n",
    "\n",
    "clearModule.all()\n",
    "var ecc = require('./ecc')\n",
    "\n",
    "prime = 223\n",
    "a = new ecc.FieldElement(0, prime)\n",
    "b = new ecc.FieldElement(7, prime)\n",
    "\n",
    "x = new ecc.FieldElement(15, prime)\n",
    "y = new ecc.FieldElement(86, prime)\n",
    "\n",
    "p = new ecc.Point(x, y, a, b)\n",
    "inf = new ecc.Point(new ecc.FieldElement(undefined), new ecc.FieldElement(undefined), a, b)\n",
    "product = p\n",
    "counter = 1\n",
    "while (product.x.num != undefined) {\n",
    "\tconsole.log(`In loop:${counter}:${product}:${p}`)\n",
    "\tproduct = product.add(p)\n",
    "\tcounter++\n",
    "}\n",
    "console.log(counter)"
   ]
  },
  {
   "cell_type": "code",
   "execution_count": 11,
   "metadata": {},
   "outputs": [
    {
     "name": "stdout",
     "output_type": "stream",
     "text": [
      "\n",
      "\n",
      "  ECC\n",
      "    √ test_rmul (39ms)\n",
      "\n",
      "\n",
      "  1 passing (44ms)\n",
      "\n"
     ]
    }
   ],
   "source": [
    "//# Exercise 4.2\n",
    "clearModule.all()\n",
    "\n",
    "helper.runTest('test_rmul')"
   ]
  },
  {
   "cell_type": "code",
   "execution_count": 12,
   "metadata": {},
   "outputs": [
    {
     "name": "stdout",
     "output_type": "stream",
     "text": [
      "true\n"
     ]
    }
   ],
   "source": [
    "//# Confirgming G is on the curve\n",
    "//p = 2**256 - 2**32 - 977\n",
    "p = new BN(2).pow(new BN(256)).sub(new BN(2).pow(new BN(32))).subn(977)\n",
    "x = new BN('79BE667EF9DCBBAC55A06295CE870B07029BFCDB2DCE28D959F2815B16F81798','hex')\n",
    "y = new BN('483ADA7726A3C4655DA4FBFC0E1108A8FD17B448A68554199C47D08FFB10D4B8','hex')\n",
    "console.log(y.pow(new BN(2)).mod(p).eq(x.pow(new BN(3)).addn(7).mod(p)))\n"
   ]
  },
  {
   "cell_type": "code",
   "execution_count": 14,
   "metadata": {},
   "outputs": [
    {
     "name": "stdout",
     "output_type": "stream",
     "text": [
      "Point (undefined, undefined)\n"
     ]
    }
   ],
   "source": [
    "//# Confirming order of G is n\n",
    "N = new BN('FFFFFFFFFFFFFFFFFFFFFFFFFFFFFFFEBAAEDCE6AF48A03BBFD25E8CD0364141', 'hex');\n",
    "console.log(G.rmul(N).toString())\n"
   ]
  },
  {
   "cell_type": "code",
   "execution_count": 15,
   "metadata": {},
   "outputs": [
    {
     "name": "stdout",
     "output_type": "stream",
     "text": [
      "Point (9680241112d370b56da22eb535745d9e314380e568229e09f7241066003bc471, ddac2d377f03c201ffa0419d6596d10327d6c70313bb492ff495f946285d8f38)\n"
     ]
    }
   ],
   "source": [
    "//# Getting the public point from a secret\n",
    "//from ecc import G\n",
    "\n",
    "secret = 999\n",
    "console.log(G.rmul(secret).toString())\n"
   ]
  },
  {
   "cell_type": "markdown",
   "metadata": {},
   "source": [
    "### Exercise 5\n",
    "\n",
    "#### 5.1. Get the public point where the scalar is the following:\n",
    "```\n",
    "7, 1485, 2**128, 2**240+2**31\n",
    "```\n",
    "\n",
    "#### 5.2. Make [this test](/edit/session2/ecc.py) pass\n",
    "```\n",
    "ecc.py:S256Test:test_pubpoint\n",
    "```"
   ]
  },
  {
   "cell_type": "code",
   "execution_count": 27,
   "metadata": {},
   "outputs": [
    {
     "name": "stdout",
     "output_type": "stream",
     "text": [
      "S256Point (79be667ef9dcbbac55a06295ce870b07029bfcdb2dce28d959f2815b16f81798, 483ada7726a3c4655da4fbfc0e1108a8fd17b448a68554199c47d08ffb10d4b8)\n",
      "S256Point (5cbdf0646e5db4eaa398f365f2ea7a0e3d419b7e0330e39ce92bddedcac4f9bc, 6aebca40ba255960a3178d6d861a54dba813d0b813fde7b5a5082628087264da)\n",
      "S256Point (c982196a7466fbbbb0e27a940b6af926c1a74d5ad07128c82824a11b5398afda, 7a91f9eae64438afb9ce6448a1c133db2d8fb9254e4546b6f001637d50901f55)\n",
      "S256Point (8f68b9d2f63b5f339239c1ad981f162ee88c5678723ea3351b7b444c9ec4c0da, 662a9f2dba063986de1d90c2b6be215dbbea2cfe95510bfdf23cbf79501fff82)\n",
      "S256Point (9577ff57c8234558f293df502ca4f09cbc65a6572c842b39b366f21717945116, 10b49c67fa9365ad7b90dab070be339a1daf9052373ec30ffae4f72d5e66d053)\n"
     ]
    },
    {
     "data": {
      "text/plain": [
       "[ undefined, undefined, undefined, undefined ]"
      ]
     },
     "execution_count": 27,
     "metadata": {},
     "output_type": "execute_result"
    }
   ],
   "source": [
    "//# Exercise 5.1\n",
    "\n",
    "//from ecc import G\n",
    "\n",
    "//secrets = (7, 1485, 2**128, 2**240+2**31)\n",
    "clearModule.all()\n",
    "var ecc = require('./ecc')\n",
    "G = ecc.G\n",
    "\n",
    "//G = new ecc.S256Point(\n",
    "//\t\t\tnew BN('79be667ef9dcbbac55a06295ce870b07029bfcdb2dce28d959f2815b16f81798', 16),\n",
    "//\t\t\tnew BN('483ada7726a3c4655da4fbfc0e1108a8fd17b448a68554199c47d08ffb10d4b8', 16));\n",
    "\n",
    "//console.log(G.toString())\n",
    "//console.log(new BN(2).pow(new BN(240)).add(new BN(2).pow(new BN(31))).toString(10))\n",
    "secrets = ['7', '1485', '340282366920938463463374607431768211456', \n",
    "'1766847064778384329583297500742918515827483896875618958121606203440103424']\n",
    "secrets.map(x => console.log(G.rmul(x).toString()))"
   ]
  },
  {
   "cell_type": "code",
   "execution_count": 30,
   "metadata": {},
   "outputs": [
    {
     "name": "stdout",
     "output_type": "stream",
     "text": [
      "\n",
      "\n",
      "  S256Test\n",
      "    √ test_pubpoint (777ms)\n",
      "\n",
      "\n",
      "  1 passing (797ms)\n",
      "\n"
     ]
    }
   ],
   "source": [
    "//# Exercise 5.2\n",
    "\n",
    "\n",
    "clearModule.all()\n",
    "helper.runTest('test_pubpoint')"
   ]
  },
  {
   "cell_type": "code",
   "execution_count": 21,
   "metadata": {},
   "outputs": [
    {
     "name": "stdout",
     "output_type": "stream",
     "text": [
      "045cbdf0646e5db4eaa398f365f2ea7a0e3d419b7e0330e39ce92bddedcac4f9bc6aebca40ba255960a3178d6d861a54dba813d0b813fde7b5a5082628087264da\n",
      "025cbdf0646e5db4eaa398f365f2ea7a0e3d419b7e0330e39ce92bddedcac4f9bc\n"
     ]
    }
   ],
   "source": [
    "//# SEC Example\n",
    "\n",
    "\n",
    "point = new ecc.S256Point(new BN('5CBDF0646E5DB4EAA398F365F2EA7A0E3D419B7E0330E39CE92BDDEDCAC4F9BC','hex'),\n",
    "                          new BN('6AEBCA40BA255960A3178D6D861A54DBA813D0B813FDE7B5A5082628087264DA','hex'))\n",
    "\n",
    "uncompressed = Buffer.concat([Buffer.from([0x04]), point.x.num.toBuffer('be'), point.y.num.toBuffer('be')]);\n",
    "console.log(uncompressed.toString('hex'))\n",
    "if (point.y.num.mod(new BN(2)).eqn(1)) {\n",
    "    compressed = Buffer.concat([Buffer.from([0x03]), point.x.num.toBuffer('be')])\n",
    "} else {\n",
    "    compressed = Buffer.concat([Buffer.from([0x02]), point.x.num.toBuffer('be')])\n",
    "}\n",
    "console.log(compressed.toString('hex'))\n"
   ]
  },
  {
   "cell_type": "markdown",
   "metadata": {},
   "source": [
    "#### Exercise 6\n",
    "\n",
    "#### 6.1. Find the compressed and uncompressed SEC format for pub keys where the private keys are:\n",
    "```\n",
    "999**3, 123, 42424242\n",
    "```\n",
    "\n",
    "#### 6.2. Make [this test](/edit/session2/ecc.py) pass\n",
    "```\n",
    "ecc.py:S256Test:test_sec\n",
    "```"
   ]
  },
  {
   "cell_type": "code",
   "execution_count": 22,
   "metadata": {},
   "outputs": [
    {
     "name": "stdout",
     "output_type": "stream",
     "text": [
      "049d5ca49670cbe4c3bfa84c96a8c87df086c6ea6a24ba6b809c9de234496808d56fa15cc7f3d38cda98dee2419f415b7513dde1301f8643cd9245aea7f3f911f9\n",
      "039d5ca49670cbe4c3bfa84c96a8c87df086c6ea6a24ba6b809c9de234496808d5\n",
      "04a598a8030da6d86c6bc7f2f5144ea549d28211ea58faa70ebf4c1e665c1fe9b5204b5d6f84822c307e4b4a7140737aec23fc63b65b35f86a10026dbd2d864e6b\n",
      "03a598a8030da6d86c6bc7f2f5144ea549d28211ea58faa70ebf4c1e665c1fe9b5\n",
      "04aee2e7d843f7430097859e2bc603abcc3274ff8169c1a469fee0f20614066f8e21ec53f40efac47ac1c5211b2123527e0e9b57ede790c4da1e72c91fb7da54a3\n",
      "03aee2e7d843f7430097859e2bc603abcc3274ff8169c1a469fee0f20614066f8e\n"
     ]
    },
    {
     "data": {
      "text/plain": [
       "[ undefined, undefined, undefined ]"
      ]
     },
     "execution_count": 22,
     "metadata": {},
     "output_type": "execute_result"
    }
   ],
   "source": [
    "//# Exercise 6.1\n",
    "\n",
    "secrets = [Math.pow(999,3), 123, 42424242]\n",
    "x = secrets.map( secret => { \n",
    "    point = G.rmul(secret)\n",
    "    uncompressed = Buffer.concat([Buffer.from([0x04]), point.x.num.toBuffer('be'), point.y.num.toBuffer('be')]);\n",
    "    console.log(uncompressed.toString('hex'))\n",
    "    if (point.y.num.mod(new BN(2)).eqn(1)) {\n",
    "        compressed = Buffer.concat([Buffer.from([0x03]), point.x.num.toBuffer('be')])\n",
    "    } else {\n",
    "        compressed = Buffer.concat([Buffer.from([0x02]), point.x.num.toBuffer('be')])\n",
    "    }\n",
    "    console.log(compressed.toString('hex'))\n",
    "})\n"
   ]
  },
  {
   "cell_type": "code",
   "execution_count": 31,
   "metadata": {},
   "outputs": [
    {
     "name": "stdout",
     "output_type": "stream",
     "text": [
      "\n",
      "\n",
      "  S256Test\n",
      "    √ test_sec (857ms)\n",
      "\n",
      "\n",
      "  1 passing (871ms)\n",
      "\n"
     ]
    }
   ],
   "source": [
    "//# Exercise 6.2\n",
    "clearModule.all()\n",
    "\n",
    "helper.runTest('test_sec')"
   ]
  },
  {
   "cell_type": "code",
   "execution_count": 33,
   "metadata": {},
   "outputs": [
    {
     "name": "stdout",
     "output_type": "stream",
     "text": [
      "19ZewH8Kk1PDbSNdJ97FP4EiCjTRaZMZQA\n"
     ]
    }
   ],
   "source": [
    "//# Address Example\n",
    "\n",
    "//from helper import encode_base58, hash160, double_sha256\n",
    "//sec = bytes.fromhex('025CBDF0646E5DB4EAA398F365F2EA7A0E3D419B7E0330E39CE92BDDEDCAC4F9BC')\n",
    "//h160 = hash160(sec)\n",
    "//raw = b\"\\x00\" + h160\n",
    "//raw = raw + double_sha256(raw)[:4]\n",
    "//addr = encode_base58(raw)\n",
    "//print(addr)\n",
    "// b'19ZewH8Kk1PDbSNdJ97FP4EiCjTRaZMZQA'\n",
    "\n",
    "\n",
    "\n",
    "sec = new BN('025CBDF0646E5DB4EAA398F365F2EA7A0E3D419B7E0330E39CE92BDDEDCAC4F9BC','hex').toBuffer()\n",
    "h160 = Buffer.from(helper.hash160(sec),'hex')\n",
    "raw = Buffer.concat([Buffer.from([0x00]), h160])\n",
    "checksum = Buffer.from(helper.doubleSha256(raw).slice(0,8),'hex')\n",
    "total = Buffer.concat([raw, checksum])\n",
    "console.log(helper.encodeBase58(total))\n"
   ]
  },
  {
   "cell_type": "markdown",
   "metadata": {},
   "source": [
    "### Exercise 7\n",
    "\n",
    "#### 7.1. Find the mainnet and testnet addresses corresponding to the private keys:\n",
    "```\n",
    "compressed, 888**3\n",
    "uncompressed, 321\n",
    "uncompressed, 4242424242\n",
    "```\n",
    "\n",
    "#### 7.2. Make [this test](/edit/session2/ecc.py) pass\n",
    "```\n",
    "ecc.py:S256Test:test_address\n",
    "```"
   ]
  },
  {
   "cell_type": "code",
   "execution_count": 35,
   "metadata": {},
   "outputs": [
    {
     "name": "stdout",
     "output_type": "stream",
     "text": [
      "148dY81A9BmdpMhvYEVznrM45kWN32vSCN\n",
      "mieaqB68xDCtbUBYFoUNcmZNwk74xcBfTP\n",
      "1S6g2xBJSED7Qr9CYZib5f4PYVhHZiVfj\n",
      "mfx3y63A7TfTtXKkv7Y6QzsPFY6QCBCXiP\n",
      "1226JSptcStqn4Yq9aAmNXdwdc2ixuH9nb\n",
      "mgY3bVusRUL6ZB2Ss999CSrGVbdRwVpM8s\n"
     ]
    },
    {
     "data": {
      "text/plain": [
       "[ undefined, undefined, undefined ]"
      ]
     },
     "execution_count": 35,
     "metadata": {},
     "output_type": "execute_result"
    }
   ],
   "source": [
    "//# Exercise 7.1\n",
    "components = [[true,Math.pow(888,3)],[false, 321],[false, 4242424242]]\n",
    "components.map( o => {\n",
    "    point = G.rmul(o[1])\n",
    "    sec = point.sec(o[0])\n",
    "    h160 = Buffer.from(helper.hash160(sec),'hex')\n",
    "    raw = Buffer.concat([Buffer.from([0x00]), h160])\n",
    "    checksum = Buffer.from(helper.doubleSha256(raw).slice(0,8),'hex')\n",
    "    total = Buffer.concat([raw, checksum])\n",
    "    console.log(helper.encodeBase58(total))\n",
    "\n",
    "    raw = Buffer.concat([Buffer.from([0x6f]), h160])\n",
    "    checksum = Buffer.from(helper.doubleSha256(raw).slice(0,8),'hex')\n",
    "    total = Buffer.concat([raw, checksum])\n",
    "    console.log(helper.encodeBase58(total))\n",
    "})\n",
    "\n",
    "//148dY81A9BmdpMhvYEVznrM45kWN32vSCN\n",
    "//mieaqB68xDCtbUBYFoUNcmZNwk74xcBfTP\n",
    "//1S6g2xBJSED7Qr9CYZib5f4PYVhHZiVfj\n",
    "//mfx3y63A7TfTtXKkv7Y6QzsPFY6QCBCXiP\n",
    "//1226JSptcStqn4Yq9aAmNXdwdc2ixuH9nb\n",
    "//mgY3bVusRUL6ZB2Ss999CSrGVbdRwVpM8s"
   ]
  },
  {
   "cell_type": "code",
   "execution_count": 17,
   "metadata": {},
   "outputs": [
    {
     "name": "stdout",
     "output_type": "stream",
     "text": [
      "\n",
      "\n",
      "  S256Test\n",
      "    √ mainnet_address (353ms)\n",
      "    √ testnet_address (150ms)\n",
      "    √ mainnet_address_321 (167ms)\n",
      "    √ testnet_address_321 (152ms)\n",
      "    √ mainnet_address_42 (144ms)\n",
      "    √ testnet_address_42 (137ms)\n",
      "\n",
      "  test_p2pkh_address\n",
      "    √ test_p2pkh_address1\n",
      "    √ test_p2pkh_address2\n",
      "\n",
      "  test_p2sh_address\n",
      "    √ test_p2sh_address1\n",
      "    √ test_p2sh_address2\n",
      "\n",
      "\n",
      "  10 passing (1s)\n",
      "\n"
     ]
    }
   ],
   "source": [
    "//# Exercise 7.2\n",
    "\n",
    "clearModule.all()\n",
    "helper.runTest('address')"
   ]
  },
  {
   "cell_type": "markdown",
   "metadata": {},
   "source": [
    "### Exercise 8\n",
    "\n",
    "#### 8.1. Create a testnet address using your own secret key\n",
    "#### (use your phone number if you can't think of anything)\n",
    "#### Record this secret key for tomorrow!"
   ]
  },
  {
   "cell_type": "code",
   "execution_count": 16,
   "metadata": {},
   "outputs": [
    {
     "name": "stdout",
     "output_type": "stream",
     "text": [
      "miKegze5FQNCnGw6PKyqUbYUeBa4x2hFeM\n"
     ]
    }
   ],
   "source": [
    "//# Exercise 8.1\n",
    "secret = new BN('1800555555518005555555',10)\n",
    "point = G.rmul(secret)\n",
    "console.log(point.address(true, testnet=true))\n",
    "//miKegze5FQNCnGw6PKyqUbYUeBa4x2hFeM\n"
   ]
  },
  {
   "cell_type": "code",
   "execution_count": null,
   "metadata": {},
   "outputs": [],
   "source": []
  }
 ],
 "metadata": {
  "kernelspec": {
   "display_name": "Javascript (Node.js)",
   "language": "javascript",
   "name": "javascript"
  },
  "language_info": {
   "file_extension": ".js",
   "mimetype": "application/javascript",
   "name": "javascript",
   "version": "8.11.1"
  }
 },
 "nbformat": 4,
 "nbformat_minor": 2
}
